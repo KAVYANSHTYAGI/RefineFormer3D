{
 "cells": [
  {
   "cell_type": "code",
   "execution_count": null,
   "id": "2bea9e93",
   "metadata": {},
   "outputs": [],
   "source": [
    "import os\n",
    "import numpy as np\n",
    "import torch\n",
    "import torch.nn as nn\n",
    "from torch.utils.data import DataLoader\n",
    "from tqdm import tqdm\n",
    "\n",
    "from model import RefineFormer3D\n",
    "from losses import RefineFormer3DLoss\n",
    "from optimizer import get_optimizer, get_scheduler\n",
    "from metrics import dice_coefficient, iou_score, precision_recall_f1, hausdorff_distance\n",
    "from dataset import BraTSDataset\n",
    "from augmentation import Compose3D, RandomFlip3D, RandomRotation3D, RandomNoise3D\n",
    "from config import DEVICE, IN_CHANNELS, NUM_CLASSES, BASE_LR, WEIGHT_DECAY, NUM_EPOCHS\n",
    "from torch.cuda.amp import autocast, GradScaler\n",
    "\n",
    "def train_one_epoch(model, dataloader, optimizer, criterion, device, scaler):\n",
    "    model.train()\n",
    "    running_loss = 0.0\n",
    "\n",
    "    for inputs, targets in tqdm(dataloader, desc=\"Training\"):\n",
    "        inputs = inputs.to(device)\n",
    "        targets = targets.to(device)\n",
    "\n",
    "        optimizer.zero_grad()\n",
    "\n",
    "        with autocast():  # Mixed precision\n",
    "            outputs = model(inputs)\n",
    "            loss = criterion(outputs, targets)\n",
    "\n",
    "        scaler.scale(loss).backward()\n",
    "        scaler.step(optimizer)\n",
    "        scaler.update()\n",
    "\n",
    "        running_loss += loss.item()\n",
    "\n",
    "    epoch_loss = running_loss / len(dataloader)\n",
    "    return epoch_loss\n",
    "\n",
    "def validate_one_epoch(model, dataloader, criterion, device, num_classes):\n",
    "    model.eval()\n",
    "    running_loss = 0.0\n",
    "\n",
    "    dice_all, iou_all, hausdorff_all = [], [], []\n",
    "\n",
    "    with torch.no_grad():\n",
    "        for inputs, targets in tqdm(dataloader, desc=\"Validation\"):\n",
    "            inputs = inputs.to(device)\n",
    "            targets = targets.to(device)\n",
    "\n",
    "            with autocast():  # Optional mixed precision inference\n",
    "                outputs = model(inputs)\n",
    "                loss = criterion(outputs, targets)\n",
    "\n",
    "            preds = outputs[\"main\"]\n",
    "\n",
    "            dice_scores, _ = dice_coefficient(preds, targets, num_classes)\n",
    "            iou_scores, _ = iou_score(preds, targets, num_classes)\n",
    "            hausdorff = hausdorff_distance(preds, targets)\n",
    "\n",
    "            dice_all.append(np.mean(dice_scores))\n",
    "            iou_all.append(np.mean(iou_scores))\n",
    "            hausdorff_all.append(hausdorff)\n",
    "\n",
    "            running_loss += loss.item()\n",
    "\n",
    "    epoch_loss = running_loss / len(dataloader)\n",
    "    mean_dice = np.nanmean(dice_all)\n",
    "    mean_iou = np.nanmean(iou_all)\n",
    "    mean_hausdorff = np.nanmean(hausdorff_all)\n",
    "\n",
    "    return epoch_loss, mean_dice, mean_iou, mean_hausdorff\n",
    "\n",
    "def save_checkpoint(state, save_dir, filename=\"best_model.pth\"):\n",
    "    os.makedirs(save_dir, exist_ok=True)\n",
    "    torch.save(state, os.path.join(save_dir, filename))\n",
    "\n",
    "def main():\n",
    "    # ==================== CONFIG ====================\n",
    "    device = torch.device(DEVICE)\n",
    "    save_dir = \"./checkpoints\"\n",
    "    best_dice = 0.0\n",
    "    scaler = GradScaler()\n",
    "\n",
    "    # ==================== MODEL ====================\n",
    "    model = RefineFormer3D(in_channels=IN_CHANNELS, num_classes=NUM_CLASSES)\n",
    "    model = model.to(device)\n",
    "\n",
    "    # ==================== OPTIMIZER + LOSS ====================\n",
    "    optimizer = get_optimizer(model, base_lr=BASE_LR, weight_decay=WEIGHT_DECAY)\n",
    "    scheduler = get_scheduler(optimizer, mode=\"cosine\", T_max=NUM_EPOCHS)\n",
    "    criterion = RefineFormer3DLoss()\n",
    "\n",
    "    # ==================== DATASET + DATALOADER ====================\n",
    "    train_transform = Compose3D([\n",
    "        RandomFlip3D(p=0.5),\n",
    "        RandomRotation3D(p=0.5),\n",
    "        RandomNoise3D(p=0.3),\n",
    "    ])\n",
    "\n",
    "    train_dataset = BraTSDataset(\n",
    "    root_dirs=[\n",
    "        \"/mnt/m2ssd/research project/Lightweight 3D Vision Transformers for Medical Imaging/dataset/BraTs2017/BRATS2017/Brats17TrainingData/HGG\",   # 🔥 Replace this\n",
    "        \"/mnt/m2ssd/research project/Lightweight 3D Vision Transformers for Medical Imaging/dataset/BraTs2017/BRATS2017/Brats17TrainingData/LGG\"    # 🔥 Replace this\n",
    "    ],\n",
    "    transform=train_transform,\n",
    "    )   \n",
    "\n",
    "    val_dataset = BraTSDataset(\n",
    "    root_dirs=[\n",
    "        \"/mnt/m2ssd/research project/Lightweight 3D Vision Transformers for Medical Imaging/dataset/BraTs2017/BRATS2017/Brats17ValidationData\"      # 🔥 Replace this\n",
    "    ],\n",
    "    transform=None,\n",
    "    )\n",
    "\n",
    "\n",
    "    train_loader = DataLoader(train_dataset, batch_size=1, shuffle=True, num_workers=4, pin_memory=True)\n",
    "    val_loader = DataLoader(val_dataset, batch_size=1, shuffle=False, num_workers=4, pin_memory=True)\n",
    "\n",
    "    # ==================== TRAINING LOOP ====================\n",
    "    for epoch in range(1, NUM_EPOCHS + 1):\n",
    "        print(f\"\\n--- Epoch [{epoch}/{NUM_EPOCHS}] ---\")\n",
    "\n",
    "        train_loss = train_one_epoch(model, train_loader, optimizer, criterion, device, scaler)\n",
    "        val_loss, val_dice, val_iou, val_hd = validate_one_epoch(model, val_loader, criterion, device, NUM_CLASSES)\n",
    "\n",
    "        scheduler.step()\n",
    "\n",
    "        print(f\"Train Loss: {train_loss:.4f} | Val Loss: {val_loss:.4f} | Val Dice: {val_dice:.4f} | Val IoU: {val_iou:.4f} | Hausdorff: {val_hd:.4f}\")\n",
    "\n",
    "        # Save best model\n",
    "        if val_dice > best_dice:\n",
    "            best_dice = val_dice\n",
    "            save_checkpoint({\n",
    "                'epoch': epoch,\n",
    "                'model_state_dict': model.state_dict(),\n",
    "                'optimizer_state_dict': optimizer.state_dict(),\n",
    "                'scheduler_state_dict': scheduler.state_dict(),\n",
    "                'best_dice': best_dice,\n",
    "            }, save_dir)\n",
    "            print(f\"✅ Saved Best Model (Dice: {best_dice:.4f})\")\n",
    "\n",
    "\n"
   ]
  },
  {
   "cell_type": "code",
   "execution_count": null,
   "id": "3164226c",
   "metadata": {},
   "outputs": [],
   "source": [
    "if __name__ == \"__main__\":\n",
    "    main()"
   ]
  },
  {
   "cell_type": "code",
   "execution_count": null,
   "id": "7b6e7fad",
   "metadata": {},
   "outputs": [
    {
     "name": "stderr",
     "output_type": "stream",
     "text": [
      "/tmp/ipykernel_16418/2899409100.py:88: FutureWarning: `torch.cuda.amp.GradScaler(args...)` is deprecated. Please use `torch.amp.GradScaler('cuda', args...)` instead.\n",
      "  scaler = GradScaler()  # ✅ Fixed warning\n"
     ]
    },
    {
     "name": "stdout",
     "output_type": "stream",
     "text": [
      "\n",
      "--- Epoch [1/300] ---\n"
     ]
    },
    {
     "name": "stderr",
     "output_type": "stream",
     "text": [
      "Training:   0%|          | 0/284 [00:00<?, ?it/s]"
     ]
    },
    {
     "name": "stdout",
     "output_type": "stream",
     "text": [
      "✅ [DEBUG] image: <class 'torch.Tensor'> torch.Size([4, 96, 96, 96]) torch.float32\n",
      "✅ [DEBUG] label: <class 'torch.Tensor'> torch.Size([96, 96, 96]) torch.int64\n",
      "✅ [DEBUG] label unique: tensor([0, 1, 2])✅ [DEBUG] image:\n",
      " <class 'torch.Tensor'> torch.Size([4, 96, 96, 96]) torch.float32\n",
      "✅ [DEBUG] label: <class 'torch.Tensor'> torch.Size([96, 96, 96]) torch.int64\n",
      "✅ [DEBUG] image: <class 'torch.Tensor'> torch.Size([4, 96, 96, 96]) torch.float32\n",
      "✅ [DEBUG] label: <class 'torch.Tensor'> torch.Size([96, 96, 96]) torch.int64\n",
      "✅ [DEBUG] label unique: ✅ [DEBUG] image: <class 'torch.Tensor'> torch.Size([4, 96, 96, 96]) torch.float32tensor([0, 1, 2])\n",
      "\n",
      "✅ [DEBUG] label: <class 'torch.Tensor'> torch.Size([96, 96, 96]) torch.int64\n",
      "✅ [DEBUG] label unique: tensor([0, 1, 2])\n",
      "✅ [DEBUG] label unique: tensor([0, 1, 2])\n"
     ]
    },
    {
     "name": "stderr",
     "output_type": "stream",
     "text": [
      "/tmp/ipykernel_16418/2899409100.py:30: FutureWarning: `torch.cuda.amp.autocast(args...)` is deprecated. Please use `torch.amp.autocast('cuda', args...)` instead.\n",
      "  with autocast():   # ✅ Specify dtype explicitly\n"
     ]
    },
    {
     "name": "stdout",
     "output_type": "stream",
     "text": [
      "✅ [DEBUG] image: <class 'torch.Tensor'> torch.Size([4, 96, 96, 96]) torch.float32\n",
      "✅ [DEBUG] label: <class 'torch.Tensor'> torch.Size([96, 96, 96]) torch.int64\n",
      "✅ [DEBUG] label unique: tensor([0, 1, 2])\n",
      "✅ [DEBUG] image: <class 'torch.Tensor'> torch.Size([4, 96, 96, 96]) torch.float32\n",
      "✅ [DEBUG] label: <class 'torch.Tensor'> torch.Size([96, 96, 96]) torch.int64\n",
      "🧪 targets dtype: torch.int64\n",
      "🧪 targets unique: tensor([0, 1, 2], device='cuda:0')\n",
      "🧪 targets shape: torch.Size([1, 96, 96, 96])\n",
      "✅ [DEBUG] image: <class 'torch.Tensor'> torch.Size([4, 96, 96, 96]) torch.float32\n",
      "✅ [DEBUG] label: <class 'torch.Tensor'> torch.Size([96, 96, 96]) torch.int64\n",
      "✅ [DEBUG] label unique: tensor([0, 1, 2])\n",
      "✅ [DEBUG] label unique: tensor([0, 1, 2])\n"
     ]
    },
    {
     "name": "stderr",
     "output_type": "stream",
     "text": [
      "Training:   0%|          | 1/284 [00:02<11:35,  2.46s/it]"
     ]
    },
    {
     "name": "stdout",
     "output_type": "stream",
     "text": [
      "✅ [DEBUG] image: <class 'torch.Tensor'> torch.Size([4, 96, 96, 96]) torch.float32\n",
      "✅ [DEBUG] label: <class 'torch.Tensor'> torch.Size([96, 96, 96]) torch.int64\n"
     ]
    },
    {
     "name": "stderr",
     "output_type": "stream",
     "text": [
      "Training:   1%|          | 3/284 [00:02<03:12,  1.46it/s]"
     ]
    },
    {
     "name": "stdout",
     "output_type": "stream",
     "text": [
      "✅ [DEBUG] label unique: tensor([0, 1, 2])\n",
      "🧪 targets dtype: torch.int64\n",
      "🧪 targets unique: tensor([0, 1, 2], device='cuda:0')\n",
      "🧪 targets shape: torch.Size([1, 96, 96, 96])\n",
      "🧪 targets dtype: torch.int64\n",
      "🧪 targets unique: tensor([0, 1, 2], device='cuda:0')\n",
      "🧪 targets shape: torch.Size([1, 96, 96, 96])\n",
      "🧪 targets dtype: torch.int64\n",
      "🧪 targets unique: tensor([0, 1, 2], device='cuda:0')\n",
      "🧪 targets shape: torch.Size([1, 96, 96, 96])\n"
     ]
    },
    {
     "name": "stderr",
     "output_type": "stream",
     "text": [
      "Training:   2%|▏         | 5/284 [00:02<01:53,  2.45it/s]"
     ]
    },
    {
     "name": "stdout",
     "output_type": "stream",
     "text": [
      "🧪 targets dtype: torch.int64\n",
      "🧪 targets unique: tensor([0, 1, 2], device='cuda:0')\n",
      "🧪 targets shape: torch.Size([1, 96, 96, 96])\n",
      "🧪 targets dtype: torch.int64\n",
      "🧪 targets unique: tensor([0, 1, 2], device='cuda:0')\n",
      "🧪 targets shape: torch.Size([1, 96, 96, 96])\n"
     ]
    },
    {
     "name": "stderr",
     "output_type": "stream",
     "text": [
      "Training:   2%|▏         | 7/284 [00:03<01:14,  3.72it/s]"
     ]
    },
    {
     "name": "stdout",
     "output_type": "stream",
     "text": [
      "🧪 targets dtype: torch.int64\n",
      "🧪 targets unique: tensor([0, 1, 2], device='cuda:0')\n",
      "🧪 targets shape: torch.Size([1, 96, 96, 96])\n",
      "🧪 targets dtype: torch.int64\n",
      "🧪 targets unique: tensor([0, 1, 2], device='cuda:0')\n",
      "🧪 targets shape: torch.Size([1, 96, 96, 96])\n",
      "✅ [DEBUG] image:✅ [DEBUG] image:  <class 'torch.Tensor'><class 'torch.Tensor'>  torch.Size([4, 96, 96, 96])torch.Size([4, 96, 96, 96])  torch.float32torch.float32\n",
      "\n",
      "✅ [DEBUG] label:✅ [DEBUG] label:  <class 'torch.Tensor'> <class 'torch.Tensor'> torch.Size([96, 96, 96]) torch.Size([96, 96, 96])torch.int64 \n",
      "torch.int64\n",
      "✅ [DEBUG] image: <class 'torch.Tensor'> torch.Size([4, 96, 96, 96]) torch.float32\n",
      "✅ [DEBUG] label: <class 'torch.Tensor'> torch.Size([96, 96, 96]) torch.int64\n",
      "✅ [DEBUG] label unique: tensor([0, 1, 2])✅ [DEBUG] label unique:\n",
      " tensor([0, 1, 2])\n",
      "✅ [DEBUG] image: <class 'torch.Tensor'> torch.Size([4, 96, 96, 96]) torch.float32\n",
      "✅ [DEBUG] label: <class 'torch.Tensor'> torch.Size([96, 96, 96]) torch.int64✅ [DEBUG] label unique:\n",
      " tensor([0, 1, 2])\n"
     ]
    },
    {
     "name": "stderr",
     "output_type": "stream",
     "text": [
      "Training:   3%|▎         | 9/284 [00:03<01:15,  3.63it/s]"
     ]
    },
    {
     "name": "stdout",
     "output_type": "stream",
     "text": [
      "✅ [DEBUG] label unique: tensor([0, 1, 2])\n",
      "🧪 targets dtype: torch.int64\n",
      "🧪 targets unique: tensor([0, 1, 2], device='cuda:0')\n",
      "🧪 targets shape: torch.Size([1, 96, 96, 96])\n",
      "🧪 targets dtype: torch.int64\n",
      "🧪 targets unique: tensor([0, 1, 2], device='cuda:0')\n",
      "🧪 targets shape: torch.Size([1, 96, 96, 96])\n",
      "🧪 targets dtype: torch.int64\n",
      "🧪 targets unique: tensor([0, 1, 2], device='cuda:0')\n",
      "🧪 targets shape: torch.Size([1, 96, 96, 96])\n"
     ]
    },
    {
     "name": "stderr",
     "output_type": "stream",
     "text": [
      "Training:   4%|▍         | 11/284 [00:03<00:57,  4.71it/s]"
     ]
    },
    {
     "name": "stdout",
     "output_type": "stream",
     "text": [
      "🧪 targets dtype: torch.int64\n",
      "🧪 targets unique: tensor([0, 1, 2], device='cuda:0')\n",
      "🧪 targets shape: torch.Size([1, 96, 96, 96])\n",
      "✅ [DEBUG] image: <class 'torch.Tensor'> torch.Size([4, 96, 96, 96]) torch.float32\n",
      "✅ [DEBUG] label: <class 'torch.Tensor'> torch.Size([96, 96, 96]) torch.int64\n",
      "✅ [DEBUG] image: <class 'torch.Tensor'> torch.Size([4, 96, 96, 96]) torch.float32\n",
      "✅ [DEBUG] label: <class 'torch.Tensor'> torch.Size([96, 96, 96]) torch.int64\n",
      "✅ [DEBUG] label unique: tensor([0, 1, 2])\n",
      "✅ [DEBUG] label unique: tensor([0, 2])\n",
      "✅ [DEBUG] image: <class 'torch.Tensor'> torch.Size([4, 96, 96, 96]) torch.float32\n",
      "✅ [DEBUG] label: <class 'torch.Tensor'> torch.Size([96, 96, 96]) torch.int64\n",
      "✅ [DEBUG] image: <class 'torch.Tensor'> torch.Size([4, 96, 96, 96]) torch.float32\n",
      "✅ [DEBUG] label: <class 'torch.Tensor'> torch.Size([96, 96, 96]) torch.int64\n",
      "✅ [DEBUG] label unique: ✅ [DEBUG] label unique:tensor([0, 1, 2]) \n",
      "tensor([0, 1, 2])\n"
     ]
    },
    {
     "name": "stderr",
     "output_type": "stream",
     "text": [
      "Training:   5%|▌         | 15/284 [00:05<01:06,  4.02it/s]"
     ]
    },
    {
     "name": "stdout",
     "output_type": "stream",
     "text": [
      "🧪 targets dtype: torch.int64\n",
      "🧪 targets unique: tensor([0, 1, 2], device='cuda:0')\n",
      "🧪 targets shape: torch.Size([1, 96, 96, 96])\n",
      "🧪 targets dtype: torch.int64\n",
      "🧪 targets unique: tensor([0, 2], device='cuda:0')\n",
      "🧪 targets shape: torch.Size([1, 96, 96, 96])\n",
      "🧪 targets dtype: torch.int64\n",
      "🧪 targets unique: tensor([0, 1, 2], device='cuda:0')\n",
      "🧪 targets shape: torch.Size([1, 96, 96, 96])\n",
      "✅ [DEBUG] image: <class 'torch.Tensor'> torch.Size([4, 96, 96, 96]) torch.float32\n",
      "✅ [DEBUG] label: <class 'torch.Tensor'> torch.Size([96, 96, 96]) torch.int64\n",
      "✅ [DEBUG] label unique: tensor([0, 1, 2])\n",
      "🧪 targets dtype: torch.int64\n",
      "🧪 targets unique: tensor([0, 1, 2], device='cuda:0')\n",
      "🧪 targets shape: torch.Size([1, 96, 96, 96])\n",
      "✅ [DEBUG] image: <class 'torch.Tensor'> torch.Size([4, 96, 96, 96]) torch.float32\n",
      "✅ [DEBUG] label: <class 'torch.Tensor'> torch.Size([96, 96, 96]) torch.int64\n",
      "✅ [DEBUG] label unique: tensor([0, 1, 2])\n",
      "✅ [DEBUG] image: <class 'torch.Tensor'> torch.Size([4, 96, 96, 96]) torch.float32\n",
      "✅ [DEBUG] label: <class 'torch.Tensor'> torch.Size([96, 96, 96]) torch.int64\n",
      "✅ [DEBUG] label unique: tensor([0, 1, 2])\n",
      "✅ [DEBUG] image: <class 'torch.Tensor'> torch.Size([4, 96, 96, 96]) torch.float32\n",
      "✅ [DEBUG] label: <class 'torch.Tensor'> torch.Size([96, 96, 96]) torch.int64\n",
      "✅ [DEBUG] label unique: tensor([0, 1, 2])\n"
     ]
    },
    {
     "name": "stderr",
     "output_type": "stream",
     "text": [
      "Training:   7%|▋         | 19/284 [00:06<01:04,  4.11it/s]"
     ]
    },
    {
     "name": "stdout",
     "output_type": "stream",
     "text": [
      "🧪 targets dtype: torch.int64\n",
      "🧪 targets unique: tensor([0, 1, 2], device='cuda:0')\n",
      "🧪 targets shape: torch.Size([1, 96, 96, 96])\n",
      "🧪 targets dtype: torch.int64\n",
      "🧪 targets unique: tensor([0, 1, 2], device='cuda:0')\n",
      "🧪 targets shape: torch.Size([1, 96, 96, 96])\n",
      "🧪 targets dtype: torch.int64\n",
      "🧪 targets unique: tensor([0, 1, 2], device='cuda:0')\n",
      "🧪 targets shape: torch.Size([1, 96, 96, 96])\n",
      "✅ [DEBUG] image: <class 'torch.Tensor'> torch.Size([4, 96, 96, 96]) torch.float32\n",
      "✅ [DEBUG] label: <class 'torch.Tensor'> torch.Size([96, 96, 96]) torch.int64\n",
      "🧪 targets dtype: torch.int64\n",
      "🧪 targets unique: tensor([0, 1, 2], device='cuda:0')\n",
      "🧪 targets shape: torch.Size([1, 96, 96, 96])\n",
      "✅ [DEBUG] label unique: tensor([0, 1, 2])\n",
      "✅ [DEBUG] image: <class 'torch.Tensor'> torch.Size([4, 96, 96, 96])✅ [DEBUG] image:  torch.float32\n",
      "<class 'torch.Tensor'>✅ [DEBUG] label:  <class 'torch.Tensor'> torch.Size([4, 96, 96, 96])torch.Size([96, 96, 96])  torch.float32torch.int64\n",
      "\n",
      "✅ [DEBUG] label: <class 'torch.Tensor'> torch.Size([96, 96, 96]) torch.int64\n",
      "✅ [DEBUG] label unique: tensor([0, 1, 2])\n",
      "✅ [DEBUG] label unique: tensor([0, 1, 2])\n",
      "✅ [DEBUG] image: <class 'torch.Tensor'> torch.Size([4, 96, 96, 96]) torch.float32\n",
      "✅ [DEBUG] label: <class 'torch.Tensor'> torch.Size([96, 96, 96]) torch.int64\n",
      "✅ [DEBUG] label unique: tensor([0, 1, 2])\n"
     ]
    },
    {
     "name": "stderr",
     "output_type": "stream",
     "text": [
      "Training:   8%|▊         | 23/284 [00:07<00:57,  4.51it/s]"
     ]
    },
    {
     "name": "stdout",
     "output_type": "stream",
     "text": [
      "🧪 targets dtype: torch.int64\n",
      "🧪 targets unique: tensor([0, 1, 2], device='cuda:0')\n",
      "🧪 targets shape: torch.Size([1, 96, 96, 96])\n",
      "🧪 targets dtype: torch.int64\n",
      "🧪 targets unique: tensor([0, 1, 2], device='cuda:0')\n",
      "🧪 targets shape: torch.Size([1, 96, 96, 96])\n",
      "🧪 targets dtype: torch.int64\n",
      "🧪 targets unique: tensor([0, 1, 2], device='cuda:0')\n",
      "🧪 targets shape: torch.Size([1, 96, 96, 96])\n",
      "✅ [DEBUG] image: <class 'torch.Tensor'> torch.Size([4, 96, 96, 96]) torch.float32\n",
      "✅ [DEBUG] label: <class 'torch.Tensor'> torch.Size([96, 96, 96]) torch.int64\n",
      "✅ [DEBUG] label unique: tensor([0, 1, 2])\n",
      "🧪 targets dtype: torch.int64\n",
      "🧪 targets unique: tensor([0, 1, 2], device='cuda:0')\n",
      "🧪 targets shape: torch.Size([1, 96, 96, 96])\n",
      "✅ [DEBUG] image: <class 'torch.Tensor'> torch.Size([4, 96, 96, 96]) torch.float32\n",
      "✅ [DEBUG] label: <class 'torch.Tensor'> torch.Size([96, 96, 96]) torch.int64\n",
      "✅ [DEBUG] image: <class 'torch.Tensor'> torch.Size([4, 96, 96, 96]) torch.float32\n",
      "✅ [DEBUG] label: <class 'torch.Tensor'> torch.Size([96, 96, 96]) torch.int64\n",
      "✅ [DEBUG] label unique: tensor([0, 1, 2])\n",
      "✅ [DEBUG] image: <class 'torch.Tensor'> torch.Size([4, 96, 96, 96]) torch.float32\n",
      "✅ [DEBUG] label: <class 'torch.Tensor'> torch.Size([96, 96, 96]) torch.int64\n",
      "✅ [DEBUG] label unique: tensor([0, 1, 2])\n",
      "✅ [DEBUG] label unique: tensor([0, 1, 2])\n"
     ]
    },
    {
     "name": "stderr",
     "output_type": "stream",
     "text": [
      "Training:   9%|▉         | 25/284 [00:07<01:11,  3.61it/s]"
     ]
    },
    {
     "name": "stdout",
     "output_type": "stream",
     "text": [
      "✅ [DEBUG] image: <class 'torch.Tensor'> torch.Size([4, 96, 96, 96]) torch.float32\n",
      "✅ [DEBUG] label: <class 'torch.Tensor'> torch.Size([96, 96, 96])🧪 targets dtype: torch.int64\n",
      "🧪 targets unique: tensor([0, 1, 2], device='cuda:0')\n",
      "🧪 targets shape: torch.Size([1, 96, 96, 96])\n",
      "🧪 targets dtype: torch.int64\n",
      "🧪 targets unique: tensor([0, 1, 2], device='cuda:0')\n",
      "🧪 targets shape: torch.Size([1, 96, 96, 96])\n",
      "🧪 targets dtype: torch.int64\n",
      "🧪 targets unique: tensor([0, 1, 2], device='cuda:0')\n",
      "🧪 targets shape: torch.Size([1, 96, 96, 96])\n",
      " torch.int64\n"
     ]
    },
    {
     "name": "stderr",
     "output_type": "stream",
     "text": [
      "Training:  10%|▉         | 27/284 [00:08<00:55,  4.62it/s]"
     ]
    },
    {
     "name": "stdout",
     "output_type": "stream",
     "text": [
      "✅ [DEBUG] label unique: tensor([0, 1, 2])\n",
      "🧪 targets dtype: torch.int64\n",
      "🧪 targets unique: tensor([0, 1, 2], device='cuda:0')\n",
      "🧪 targets shape: torch.Size([1, 96, 96, 96])\n",
      "✅ [DEBUG] image: <class 'torch.Tensor'> torch.Size([4, 96, 96, 96]) torch.float32\n",
      "✅ [DEBUG] label: <class 'torch.Tensor'> torch.Size([96, 96, 96]) torch.int64\n",
      "✅ [DEBUG] label unique: tensor([0, 1, 2])\n",
      "✅ [DEBUG] image: <class 'torch.Tensor'> torch.Size([4, 96, 96, 96]) torch.float32\n",
      "✅ [DEBUG] label: <class 'torch.Tensor'> torch.Size([96, 96, 96]) torch.int64\n",
      "✅ [DEBUG] image: <class 'torch.Tensor'> torch.Size([4, 96, 96, 96]) torch.float32\n",
      "✅ [DEBUG] label: <class 'torch.Tensor'> torch.Size([96, 96, 96]) torch.int64\n",
      "✅ [DEBUG] label unique: tensor([0, 1, 2])\n",
      "✅ [DEBUG] image: <class 'torch.Tensor'> torch.Size([4, 96, 96, 96]) torch.float32\n",
      "✅ [DEBUG] label: <class 'torch.Tensor'> torch.Size([96, 96, 96]) torch.int64\n",
      "✅ [DEBUG] label unique: tensor([0, 1, 2])\n",
      "✅ [DEBUG] label unique: tensor([0, 1, 2])\n"
     ]
    },
    {
     "name": "stderr",
     "output_type": "stream",
     "text": [
      "Training:  11%|█         | 31/284 [00:09<00:59,  4.23it/s]"
     ]
    },
    {
     "name": "stdout",
     "output_type": "stream",
     "text": [
      "🧪 targets dtype: torch.int64\n",
      "🧪 targets unique: tensor([0, 1, 2], device='cuda:0')\n",
      "🧪 targets shape: torch.Size([1, 96, 96, 96])\n",
      "🧪 targets dtype: torch.int64\n",
      "🧪 targets unique: tensor([0, 1, 2], device='cuda:0')\n",
      "🧪 targets shape: torch.Size([1, 96, 96, 96])\n",
      "🧪 targets dtype: torch.int64\n",
      "🧪 targets unique: tensor([0, 1, 2], device='cuda:0')\n",
      "🧪 targets shape: torch.Size([1, 96, 96, 96])\n",
      "✅ [DEBUG] image: <class 'torch.Tensor'> torch.Size([4, 96, 96, 96]) torch.float32\n",
      "✅ [DEBUG] label: <class 'torch.Tensor'> torch.Size([96, 96, 96]) torch.int64\n",
      "🧪 targets dtype: torch.int64\n",
      "🧪 targets unique: tensor([0, 1, 2], device='cuda:0')\n",
      "🧪 targets shape: torch.Size([1, 96, 96, 96])\n",
      "✅ [DEBUG] label unique: tensor([0, 1, 2])\n",
      "✅ [DEBUG] image: <class 'torch.Tensor'> torch.Size([4, 96, 96, 96]) torch.float32\n",
      "✅ [DEBUG] label: <class 'torch.Tensor'> torch.Size([96, 96, 96]) torch.int64\n",
      "✅ [DEBUG] label unique: tensor([0, 1, 2])\n",
      "✅ [DEBUG] image: <class 'torch.Tensor'> torch.Size([4, 96, 96, 96]) torch.float32\n",
      "✅ [DEBUG] label: <class 'torch.Tensor'> torch.Size([96, 96, 96]) torch.int64\n",
      "✅ [DEBUG] label unique: tensor([0, 1, 2])\n",
      "✅ [DEBUG] image: <class 'torch.Tensor'> torch.Size([4, 96, 96, 96]) torch.float32\n",
      "✅ [DEBUG] label: <class 'torch.Tensor'> torch.Size([96, 96, 96]) torch.int64\n",
      "✅ [DEBUG] label unique: tensor([0, 2])\n"
     ]
    },
    {
     "name": "stderr",
     "output_type": "stream",
     "text": [
      "Training:  12%|█▏        | 33/284 [00:10<01:15,  3.31it/s]"
     ]
    },
    {
     "name": "stdout",
     "output_type": "stream",
     "text": [
      "✅ [DEBUG] image: <class 'torch.Tensor'> torch.Size([4, 96, 96, 96]) torch.float32\n",
      "✅ [DEBUG] label: <class 'torch.Tensor'> torch.Size([96, 96, 96]) torch.int64\n",
      "✅ [DEBUG] image: <class 'torch.Tensor'> torch.Size([4, 96, 96, 96]) torch.float32\n",
      "✅ [DEBUG] label: <class 'torch.Tensor'> torch.Size([96, 96, 96]) torch.int64\n"
     ]
    },
    {
     "name": "stderr",
     "output_type": "stream",
     "text": [
      "Training:  12%|█▏        | 35/284 [00:10<00:57,  4.31it/s]"
     ]
    },
    {
     "name": "stdout",
     "output_type": "stream",
     "text": [
      "🧪 targets dtype: torch.int64\n",
      "🧪 targets unique: tensor([0, 1, 2], device='cuda:0')\n",
      "🧪 targets shape: torch.Size([1, 96, 96, 96])\n",
      "🧪 targets dtype: torch.int64\n",
      "🧪 targets unique: tensor([0, 1, 2], device='cuda:0')\n",
      "🧪 targets shape: torch.Size([1, 96, 96, 96])\n",
      "🧪 targets dtype: torch.int64\n",
      "🧪 targets unique: tensor([0, 1, 2], device='cuda:0')\n",
      "🧪 targets shape: torch.Size([1, 96, 96, 96])\n",
      "✅ [DEBUG] label unique: tensor([0, 1, 2])\n",
      "✅ [DEBUG] label unique: tensor([0, 1, 2])\n",
      "🧪 targets dtype: torch.int64\n",
      "🧪 targets unique: tensor([0, 1, 2], device='cuda:0')\n",
      "🧪 targets shape: torch.Size([1, 96, 96, 96])\n",
      "✅ [DEBUG] image: <class 'torch.Tensor'> torch.Size([4, 96, 96, 96]) torch.float32\n",
      "✅ [DEBUG] label: <class 'torch.Tensor'> torch.Size([96, 96, 96]) torch.int64\n",
      "✅ [DEBUG] label unique: tensor([0, 1, 2])\n",
      "✅ [DEBUG] image: <class 'torch.Tensor'> torch.Size([4, 96, 96, 96]) torch.float32\n",
      "✅ [DEBUG] label: <class 'torch.Tensor'> torch.Size([96, 96, 96]) torch.int64\n"
     ]
    },
    {
     "name": "stderr",
     "output_type": "stream",
     "text": [
      "Training:  13%|█▎        | 37/284 [00:11<01:07,  3.68it/s]"
     ]
    },
    {
     "name": "stdout",
     "output_type": "stream",
     "text": [
      "✅ [DEBUG] label unique: tensor([0, 1, 2])\n"
     ]
    },
    {
     "name": "stderr",
     "output_type": "stream",
     "text": [
      "Training:  14%|█▎        | 39/284 [00:11<00:52,  4.70it/s]"
     ]
    },
    {
     "name": "stdout",
     "output_type": "stream",
     "text": [
      "✅ [DEBUG] image:🧪 targets dtype: torch.int64\n",
      "🧪 targets unique: tensor([0, 1, 2], device='cuda:0')\n",
      "🧪 targets shape: torch.Size([1, 96, 96, 96])\n",
      "🧪 targets dtype: torch.int64\n",
      "🧪 targets unique: tensor([0, 2], device='cuda:0')\n",
      "🧪 targets shape: torch.Size([1, 96, 96, 96])\n",
      "🧪 targets dtype: torch.int64\n",
      "🧪 targets unique: tensor([0, 1, 2], device='cuda:0')\n",
      "🧪 targets shape: torch.Size([1, 96, 96, 96])\n",
      " <class 'torch.Tensor'> torch.Size([4, 96, 96, 96]) torch.float32\n",
      "✅ [DEBUG] label: <class 'torch.Tensor'> torch.Size([96, 96, 96]) torch.int64\n",
      "✅ [DEBUG] label unique: tensor([0, 1, 2])\n",
      "✅ [DEBUG] image: <class 'torch.Tensor'> torch.Size([4, 96, 96, 96]) torch.float32\n",
      "✅ [DEBUG] label: <class 'torch.Tensor'> torch.Size([96, 96, 96]) torch.int64\n",
      "🧪 targets dtype: torch.int64\n",
      "🧪 targets unique: tensor([0, 1, 2], device='cuda:0')\n",
      "🧪 targets shape: torch.Size([1, 96, 96, 96])\n",
      "✅ [DEBUG] label unique: tensor([0, 1, 2])\n",
      "✅ [DEBUG] image: <class 'torch.Tensor'> torch.Size([4, 96, 96, 96]) torch.float32\n",
      "✅ [DEBUG] label: <class 'torch.Tensor'> torch.Size([96, 96, 96]) torch.int64\n",
      "✅ [DEBUG] label unique: tensor([0, 1, 2])\n",
      "✅ [DEBUG] image: <class 'torch.Tensor'> torch.Size([4, 96, 96, 96]) torch.float32\n",
      "✅ [DEBUG] label: <class 'torch.Tensor'> torch.Size([96, 96, 96]) torch.int64\n"
     ]
    },
    {
     "name": "stderr",
     "output_type": "stream",
     "text": [
      "Training:  14%|█▍        | 41/284 [00:11<01:00,  4.00it/s]"
     ]
    },
    {
     "name": "stdout",
     "output_type": "stream",
     "text": [
      "✅ [DEBUG] label unique: tensor([0, 1, 2])\n"
     ]
    },
    {
     "name": "stderr",
     "output_type": "stream",
     "text": [
      "Training:  15%|█▌        | 43/284 [00:11<00:47,  5.08it/s]"
     ]
    },
    {
     "name": "stdout",
     "output_type": "stream",
     "text": [
      "🧪 targets dtype: torch.int64\n",
      "🧪 targets unique: tensor([0, 1, 2], device='cuda:0')\n",
      "🧪 targets shape: torch.Size([1, 96, 96, 96])\n",
      "🧪 targets dtype: torch.int64\n",
      "🧪 targets unique: tensor([0, 1, 2], device='cuda:0')\n",
      "🧪 targets shape: torch.Size([1, 96, 96, 96])\n",
      "🧪 targets dtype: torch.int64\n",
      "🧪 targets unique: tensor([0, 1, 2], device='cuda:0')\n",
      "🧪 targets shape: torch.Size([1, 96, 96, 96])\n",
      "✅ [DEBUG] image: <class 'torch.Tensor'> torch.Size([4, 96, 96, 96]) torch.float32\n",
      "✅ [DEBUG] label: <class 'torch.Tensor'> torch.Size([96, 96, 96]) torch.int64\n",
      "✅ [DEBUG] label unique: tensor([0, 1, 2])\n",
      "✅ [DEBUG] image: <class 'torch.Tensor'> torch.Size([4, 96, 96, 96]) torch.float32\n",
      "✅ [DEBUG] label: <class 'torch.Tensor'> torch.Size([96, 96, 96]) torch.int64\n",
      "🧪 targets dtype: torch.int64\n",
      "🧪 targets unique: tensor([0, 1, 2], device='cuda:0')\n",
      "🧪 targets shape: torch.Size([1, 96, 96, 96])\n",
      "✅ [DEBUG] label unique: tensor([0, 1, 2])\n",
      "✅ [DEBUG] image: <class 'torch.Tensor'> torch.Size([4, 96, 96, 96]) torch.float32\n",
      "✅ [DEBUG] label: <class 'torch.Tensor'> torch.Size([96, 96, 96]) torch.int64\n",
      "✅ [DEBUG] label unique: tensor([0, 1, 2])\n",
      "✅ [DEBUG] image: <class 'torch.Tensor'> torch.Size([4, 96, 96, 96]) torch.float32\n",
      "✅ [DEBUG] label: <class 'torch.Tensor'> torch.Size([96, 96, 96]) torch.int64\n"
     ]
    },
    {
     "name": "stderr",
     "output_type": "stream",
     "text": [
      "Training:  16%|█▌        | 45/284 [00:12<00:59,  4.02it/s]"
     ]
    },
    {
     "name": "stdout",
     "output_type": "stream",
     "text": [
      "✅ [DEBUG] label unique: tensor([0, 1, 2])\n"
     ]
    },
    {
     "name": "stderr",
     "output_type": "stream",
     "text": [
      "Training:  17%|█▋        | 47/284 [00:12<00:46,  5.09it/s]"
     ]
    },
    {
     "name": "stdout",
     "output_type": "stream",
     "text": [
      "🧪 targets dtype: torch.int64\n",
      "🧪 targets unique: tensor([0, 1, 2], device='cuda:0')\n",
      "🧪 targets shape: torch.Size([1, 96, 96, 96])\n",
      "🧪 targets dtype: torch.int64\n",
      "🧪 targets unique: tensor([0, 1, 2], device='cuda:0')\n",
      "🧪 targets shape: torch.Size([1, 96, 96, 96])\n",
      "🧪 targets dtype: torch.int64\n",
      "🧪 targets unique: tensor([0, 1, 2], device='cuda:0')\n",
      "🧪 targets shape: torch.Size([1, 96, 96, 96])\n",
      "✅ [DEBUG] image: <class 'torch.Tensor'> torch.Size([4, 96, 96, 96]) torch.float32\n",
      "✅ [DEBUG] label: <class 'torch.Tensor'> torch.Size([96, 96, 96]) torch.int64\n",
      "✅ [DEBUG] label unique: tensor([0, 1, 2])\n",
      "✅ [DEBUG] image: <class 'torch.Tensor'> torch.Size([4, 96, 96, 96]) torch.float32\n",
      "✅ [DEBUG] label: <class 'torch.Tensor'> torch.Size([96, 96, 96]) torch.int64\n",
      "🧪 targets dtype: torch.int64\n",
      "🧪 targets unique: tensor([0, 1, 2], device='cuda:0')\n",
      "🧪 targets shape: torch.Size([1, 96, 96, 96])\n",
      "✅ [DEBUG] label unique: tensor([0, 2])\n",
      "✅ [DEBUG] image: <class 'torch.Tensor'> torch.Size([4, 96, 96, 96]) torch.float32\n",
      "✅ [DEBUG] label: <class 'torch.Tensor'> torch.Size([96, 96, 96]) torch.int64\n",
      "✅ [DEBUG] label unique: tensor([0, 1, 2])\n",
      "✅ [DEBUG] image: <class 'torch.Tensor'> torch.Size([4, 96, 96, 96]) torch.float32\n",
      "✅ [DEBUG] label: <class 'torch.Tensor'> torch.Size([96, 96, 96]) torch.int64\n"
     ]
    },
    {
     "name": "stderr",
     "output_type": "stream",
     "text": [
      "Training:  17%|█▋        | 49/284 [00:13<00:57,  4.07it/s]"
     ]
    },
    {
     "name": "stdout",
     "output_type": "stream",
     "text": [
      "✅ [DEBUG] label unique: tensor([0, 1, 2])\n",
      "🧪 targets dtype: torch.int64\n",
      "🧪 targets unique: tensor([0, 1, 2], device='cuda:0')\n",
      "🧪 targets shape: torch.Size([1, 96, 96, 96])\n",
      "🧪 targets dtype: torch.int64\n",
      "🧪 targets unique: tensor([0, 1, 2], device='cuda:0')\n",
      "🧪 targets shape: torch.Size([1, 96, 96, 96])\n",
      "🧪 targets dtype: torch.int64\n",
      "🧪 targets unique: tensor([0, 1, 2], device='cuda:0')\n",
      "🧪 targets shape: torch.Size([1, 96, 96, 96])\n"
     ]
    },
    {
     "name": "stderr",
     "output_type": "stream",
     "text": [
      "Training:  18%|█▊        | 51/284 [00:13<00:45,  5.09it/s]"
     ]
    },
    {
     "name": "stdout",
     "output_type": "stream",
     "text": [
      "✅ [DEBUG] image: <class 'torch.Tensor'> torch.Size([4, 96, 96, 96]) torch.float32\n",
      "✅ [DEBUG] label: <class 'torch.Tensor'> torch.Size([96, 96, 96]) torch.int64\n",
      "✅ [DEBUG] label unique: tensor([0, 1, 2])\n",
      "🧪 targets dtype: torch.int64\n",
      "🧪 targets unique: tensor([0, 2], device='cuda:0')\n",
      "🧪 targets shape: torch.Size([1, 96, 96, 96])\n",
      "✅ [DEBUG] image: <class 'torch.Tensor'> torch.Size([4, 96, 96, 96]) torch.float32\n",
      "✅ [DEBUG] label: <class 'torch.Tensor'> torch.Size([96, 96, 96]) torch.int64\n",
      "✅ [DEBUG] label unique: tensor([0, 1, 2])\n",
      "✅ [DEBUG] image: <class 'torch.Tensor'> torch.Size([4, 96, 96, 96]) torch.float32\n",
      "✅ [DEBUG] label: <class 'torch.Tensor'> torch.Size([96, 96, 96]) torch.int64\n",
      "✅ [DEBUG] label unique: tensor([0, 1, 2])\n"
     ]
    },
    {
     "name": "stderr",
     "output_type": "stream",
     "text": [
      "Training:  19%|█▊        | 53/284 [00:14<00:56,  4.10it/s]"
     ]
    },
    {
     "name": "stdout",
     "output_type": "stream",
     "text": [
      "✅ [DEBUG] image: <class 'torch.Tensor'> torch.Size([4, 96, 96, 96]) torch.float32\n",
      "✅ [DEBUG] label: <class 'torch.Tensor'> torch.Size([96, 96, 96]) torch.int64\n",
      "✅ [DEBUG] label unique: tensor([0, 1, 2])\n",
      "🧪 targets dtype: torch.int64\n",
      "🧪 targets unique: tensor([0, 1, 2], device='cuda:0')\n",
      "🧪 targets shape: torch.Size([1, 96, 96, 96])\n",
      "🧪 targets dtype: torch.int64\n",
      "🧪 targets unique: tensor([0, 1, 2], device='cuda:0')\n",
      "🧪 targets shape: torch.Size([1, 96, 96, 96])\n",
      "🧪 targets dtype: torch.int64\n",
      "🧪 targets unique: tensor([0, 1, 2], device='cuda:0')\n",
      "🧪 targets shape: torch.Size([1, 96, 96, 96])\n"
     ]
    },
    {
     "name": "stderr",
     "output_type": "stream",
     "text": [
      "Training:  19%|█▉        | 55/284 [00:14<00:44,  5.13it/s]"
     ]
    },
    {
     "name": "stdout",
     "output_type": "stream",
     "text": [
      "✅ [DEBUG] image: <class 'torch.Tensor'> torch.Size([4, 96, 96, 96]) torch.float32\n",
      "✅ [DEBUG] label: <class 'torch.Tensor'>torch.int64 torch.Size([96, 96, 96]) \n",
      "✅ [DEBUG] label unique: tensor([0, 1, 2])\n",
      "🧪 targets dtype: torch.int64\n",
      "🧪 targets unique: tensor([0, 1, 2], device='cuda:0')\n",
      "🧪 targets shape: torch.Size([1, 96, 96, 96])\n",
      "✅ [DEBUG] image: <class 'torch.Tensor'> torch.Size([4, 96, 96, 96]) torch.float32\n",
      "✅ [DEBUG] label: <class 'torch.Tensor'> torch.Size([96, 96, 96]) torch.int64\n",
      "✅ [DEBUG] label unique: tensor([0, 1, 2])\n",
      "✅ [DEBUG] image: <class 'torch.Tensor'> torch.Size([4, 96, 96, 96]) torch.float32\n",
      "✅ [DEBUG] label: <class 'torch.Tensor'> torch.Size([96, 96, 96]) torch.int64\n",
      "✅ [DEBUG] label unique: tensor([0, 1, 2])\n"
     ]
    },
    {
     "name": "stderr",
     "output_type": "stream",
     "text": [
      "Training:  20%|██        | 57/284 [00:15<00:57,  3.92it/s]"
     ]
    },
    {
     "name": "stdout",
     "output_type": "stream",
     "text": [
      "✅ [DEBUG] image: <class 'torch.Tensor'> torch.Size([4, 96, 96, 96]) torch.float32\n",
      "✅ [DEBUG] label: <class 'torch.Tensor'> torch.Size([96, 96, 96]) torch.int64\n"
     ]
    },
    {
     "name": "stderr",
     "output_type": "stream",
     "text": [
      "Training:  21%|██        | 59/284 [00:15<00:45,  5.00it/s]"
     ]
    },
    {
     "name": "stdout",
     "output_type": "stream",
     "text": [
      "🧪 targets dtype: torch.int64\n",
      "🧪 targets unique: tensor([0, 1, 2], device='cuda:0')\n",
      "🧪 targets shape: torch.Size([1, 96, 96, 96])\n",
      "🧪 targets dtype: torch.int64\n",
      "🧪 targets unique: tensor([0, 1, 2], device='cuda:0')\n",
      "🧪 targets shape: torch.Size([1, 96, 96, 96])\n",
      "🧪 targets dtype: torch.int64\n",
      "🧪 targets unique: tensor([0, 1, 2], device='cuda:0')\n",
      "🧪 targets shape: torch.Size([1, 96, 96, 96])\n",
      "✅ [DEBUG] image: <class 'torch.Tensor'> torch.Size([4, 96, 96, 96]) torch.float32\n",
      "✅ [DEBUG] label: <class 'torch.Tensor'> torch.Size([96, 96, 96]) torch.int64\n",
      "✅ [DEBUG] label unique: tensor([0, 1, 2])\n",
      "✅ [DEBUG] label unique: tensor([0, 1, 2])\n",
      "🧪 targets dtype: torch.int64\n",
      "🧪 targets unique: tensor([0, 1, 2], device='cuda:0')\n",
      "🧪 targets shape: torch.Size([1, 96, 96, 96])\n",
      "✅ [DEBUG] image: <class 'torch.Tensor'> torch.Size([4, 96, 96, 96]) torch.float32\n",
      "✅ [DEBUG] label: <class 'torch.Tensor'> torch.Size([96, 96, 96]) torch.int64\n",
      "✅ [DEBUG] image: <class 'torch.Tensor'> torch.Size([4, 96, 96, 96]) torch.float32\n",
      "✅ [DEBUG] label: <class 'torch.Tensor'> torch.Size([96, 96, 96]) torch.int64\n",
      "✅ [DEBUG] label unique: tensor([0, 1, 2])\n",
      "✅ [DEBUG] label unique: tensor([0, 1, 2])\n"
     ]
    },
    {
     "name": "stderr",
     "output_type": "stream",
     "text": [
      "Training:  22%|██▏       | 62/284 [00:16<00:49,  4.51it/s]"
     ]
    },
    {
     "name": "stdout",
     "output_type": "stream",
     "text": [
      "✅ [DEBUG] image:🧪 targets dtype: torch.int64\n",
      "🧪 targets unique: tensor([0, 1, 2], device='cuda:0')\n",
      "🧪 targets shape: torch.Size([1, 96, 96, 96])\n",
      "🧪 targets dtype: torch.int64\n",
      "🧪 targets unique: tensor([0, 1, 2], device='cuda:0')\n",
      "🧪 targets shape: torch.Size([1, 96, 96, 96])\n",
      "🧪 targets dtype: torch.int64\n",
      "🧪 targets unique: tensor([0, 1, 2], device='cuda:0')\n",
      "🧪 targets shape: torch.Size([1, 96, 96, 96])\n",
      " <class 'torch.Tensor'> torch.Size([4, 96, 96, 96]) torch.float32\n",
      "✅ [DEBUG] label: <class 'torch.Tensor'> torch.Size([96, 96, 96]) torch.int64\n",
      "✅ [DEBUG] image: <class 'torch.Tensor'> torch.Size([4, 96, 96, 96]) torch.float32\n",
      "✅ [DEBUG] label: <class 'torch.Tensor'> torch.Size([96, 96, 96]) torch.int64\n",
      "✅ [DEBUG] label unique: tensor([0, 1, 2])\n"
     ]
    },
    {
     "name": "stderr",
     "output_type": "stream",
     "text": [
      "Training:  23%|██▎       | 64/284 [00:16<00:38,  5.70it/s]"
     ]
    },
    {
     "name": "stdout",
     "output_type": "stream",
     "text": [
      "✅ [DEBUG] label unique: tensor([0, 1, 2])\n",
      "🧪 targets dtype: torch.int64\n",
      "🧪 targets unique: tensor([0, 1, 2], device='cuda:0')\n",
      "🧪 targets shape: torch.Size([1, 96, 96, 96])\n",
      "✅ [DEBUG] image: <class 'torch.Tensor'> torch.Size([4, 96, 96, 96]) torch.float32\n",
      "✅ [DEBUG] label: <class 'torch.Tensor'> torch.Size([96, 96, 96]) torch.int64\n",
      "✅ [DEBUG] label unique: tensor([0, 1, 2])\n",
      "✅ [DEBUG] image: <class 'torch.Tensor'> torch.Size([4, 96, 96, 96]) torch.float32\n",
      "✅ [DEBUG] label: <class 'torch.Tensor'> torch.Size([96, 96, 96]) torch.int64\n",
      "✅ [DEBUG] label unique: tensor([0, 1, 2])\n"
     ]
    },
    {
     "name": "stderr",
     "output_type": "stream",
     "text": [
      "Training:  23%|██▎       | 65/284 [00:17<01:01,  3.56it/s]"
     ]
    },
    {
     "name": "stdout",
     "output_type": "stream",
     "text": [
      "✅ [DEBUG] image: <class 'torch.Tensor'> torch.Size([4, 96, 96, 96]) torch.float32\n",
      "✅ [DEBUG] label: <class 'torch.Tensor'> torch.Size([96, 96, 96]) torch.int64\n",
      "🧪 targets dtype: torch.int64\n",
      "🧪 targets unique: tensor([0, 1, 2], device='cuda:0')\n",
      "🧪 targets shape: torch.Size([1, 96, 96, 96])\n",
      "🧪 targets dtype: torch.int64\n",
      "🧪 targets unique: tensor([0, 1, 2], device='cuda:0')\n",
      "🧪 targets shape: torch.Size([1, 96, 96, 96])\n",
      "🧪 targets dtype: torch.int64\n",
      "🧪 targets unique: tensor([0, 1, 2], device='cuda:0')\n",
      "🧪 targets shape: torch.Size([1, 96, 96, 96])\n",
      "✅ [DEBUG] image: <class 'torch.Tensor'> torch.Size([4, 96, 96, 96]) torch.float32\n",
      "✅ [DEBUG] label:"
     ]
    },
    {
     "name": "stderr",
     "output_type": "stream",
     "text": [
      "Training:  24%|██▎       | 67/284 [00:17<00:46,  4.67it/s]"
     ]
    },
    {
     "name": "stdout",
     "output_type": "stream",
     "text": [
      " <class 'torch.Tensor'> torch.Size([96, 96, 96]) torch.int64\n",
      "✅ [DEBUG] label unique: tensor([0, 1, 2])\n",
      "✅ [DEBUG] label unique: tensor([0, 1, 2])\n",
      "🧪 targets dtype: torch.int64\n",
      "🧪 targets unique: tensor([0, 1, 2], device='cuda:0')\n",
      "🧪 targets shape: torch.Size([1, 96, 96, 96])\n",
      "✅ [DEBUG] image: <class 'torch.Tensor'> ✅ [DEBUG] image: <class 'torch.Tensor'>torch.Size([4, 96, 96, 96])  torch.Size([4, 96, 96, 96])torch.float32 \n",
      "torch.float32✅ [DEBUG] label: \n",
      "<class 'torch.Tensor'> ✅ [DEBUG] label:torch.Size([96, 96, 96])  <class 'torch.Tensor'>torch.int64 \n",
      "torch.Size([96, 96, 96]) torch.int64\n",
      "✅ [DEBUG] label unique: tensor([0, 1, 2])✅ [DEBUG] label unique:\n",
      " tensor([0, 1, 2])\n"
     ]
    },
    {
     "name": "stderr",
     "output_type": "stream",
     "text": [
      "Training:  24%|██▍       | 69/284 [00:18<01:00,  3.57it/s]"
     ]
    },
    {
     "name": "stdout",
     "output_type": "stream",
     "text": [
      "✅ [DEBUG] image: <class 'torch.Tensor'> torch.Size([4, 96, 96, 96]) torch.float32\n",
      "✅ [DEBUG] label: <class 'torch.Tensor'> torch.Size([96, 96, 96]) torch.int64\n",
      "🧪 targets dtype: torch.int64\n",
      "🧪 targets unique: tensor([0, 1, 2], device='cuda:0')\n",
      "🧪 targets shape: torch.Size([1, 96, 96, 96])\n",
      "🧪 targets dtype: torch.int64\n",
      "🧪 targets unique: tensor([0, 1, 2], device='cuda:0')\n",
      "🧪 targets shape: torch.Size([1, 96, 96, 96])\n",
      "🧪 targets dtype: torch.int64\n",
      "🧪 targets unique: tensor([0, 1, 2], device='cuda:0')\n",
      "🧪 targets shape: torch.Size([1, 96, 96, 96])\n"
     ]
    },
    {
     "name": "stderr",
     "output_type": "stream",
     "text": [
      "Training:  25%|██▌       | 71/284 [00:18<00:45,  4.64it/s]"
     ]
    },
    {
     "name": "stdout",
     "output_type": "stream",
     "text": [
      "✅ [DEBUG] label unique: tensor([0, 1, 2])\n",
      "✅ [DEBUG] image: <class 'torch.Tensor'> torch.Size([4, 96, 96, 96]) torch.float32\n",
      "✅ [DEBUG] label: <class 'torch.Tensor'> torch.Size([96, 96, 96]) torch.int64\n",
      "✅ [DEBUG] label unique: tensor([0, 1, 2])\n",
      "🧪 targets dtype: torch.int64\n",
      "🧪 targets unique: tensor([0, 1, 2], device='cuda:0')\n",
      "🧪 targets shape: torch.Size([1, 96, 96, 96])\n",
      "✅ [DEBUG] image: <class 'torch.Tensor'> torch.Size([4, 96, 96, 96]) torch.float32\n",
      "✅ [DEBUG] label: <class 'torch.Tensor'> torch.Size([96, 96, 96]) torch.int64\n",
      "✅ [DEBUG] label unique: tensor([0, 1, 2])\n",
      "✅ [DEBUG] image: <class 'torch.Tensor'> torch.Size([4, 96, 96, 96]) torch.float32\n",
      "✅ [DEBUG] label: <class 'torch.Tensor'> torch.Size([96, 96, 96]) torch.int64\n",
      "✅ [DEBUG] label unique: tensor([0, 1, 2])\n"
     ]
    },
    {
     "name": "stderr",
     "output_type": "stream",
     "text": [
      "Training:  26%|██▌       | 73/284 [00:19<01:04,  3.29it/s]"
     ]
    },
    {
     "name": "stdout",
     "output_type": "stream",
     "text": [
      "✅ [DEBUG] image: <class 'torch.Tensor'> torch.Size([4, 96, 96, 96]) torch.float32\n",
      "✅ [DEBUG] label: <class 'torch.Tensor'> torch.Size([96, 96, 96]) torch.int64\n",
      "🧪 targets dtype: torch.int64\n",
      "🧪 targets unique: tensor([0, 1, 2], device='cuda:0')\n",
      "🧪 targets shape: torch.Size([1, 96, 96, 96])\n",
      "🧪 targets dtype: torch.int64\n",
      "🧪 targets unique: tensor([0, 1, 2], device='cuda:0')\n",
      "🧪 targets shape: torch.Size([1, 96, 96, 96])\n",
      "🧪 targets dtype: torch.int64\n",
      "🧪 targets unique: tensor([0, 1, 2], device='cuda:0')\n",
      "🧪 targets shape: torch.Size([1, 96, 96, 96])\n",
      "✅ [DEBUG] image:✅ [DEBUG] label unique: <class 'torch.Tensor'>"
     ]
    },
    {
     "name": "stderr",
     "output_type": "stream",
     "text": [
      "Training:  26%|██▋       | 75/284 [00:19<00:49,  4.22it/s]"
     ]
    },
    {
     "name": "stdout",
     "output_type": "stream",
     "text": [
      " torch.Size([4, 96, 96, 96]) torch.Size([96, 96, 96])torch.float32\n",
      "✅ [DEBUG] label: <class 'torch.Tensor'>   tensor([0, 1, 2])torch.int64\n",
      "\n",
      "✅ [DEBUG] label unique: tensor([0, 1, 2])\n",
      "🧪 targets dtype: torch.int64\n",
      "🧪 targets unique: tensor([0, 1, 2], device='cuda:0')\n",
      "🧪 targets shape: torch.Size([1, 96, 96, 96])\n",
      "✅ [DEBUG] image: <class 'torch.Tensor'> torch.Size([4, 96, 96, 96]) torch.float32\n",
      "✅ [DEBUG] label: <class 'torch.Tensor'> torch.Size([96, 96, 96]) torch.int64\n",
      "✅ [DEBUG] label unique: tensor([0, 1, 2])\n",
      "✅ [DEBUG] image: <class 'torch.Tensor'> torch.Size([4, 96, 96, 96]) torch.float32\n",
      "✅ [DEBUG] label: <class 'torch.Tensor'> torch.Size([96, 96, 96]) torch.int64\n",
      "✅ [DEBUG] label unique: tensor([0, 1, 2])\n",
      "✅ [DEBUG] image: <class 'torch.Tensor'> torch.Size([4, 96, 96, 96]) torch.float32\n",
      "✅ [DEBUG] label: <class 'torch.Tensor'> torch.Size([96, 96, 96]) torch.int64\n"
     ]
    },
    {
     "name": "stderr",
     "output_type": "stream",
     "text": [
      "Training:  27%|██▋       | 77/284 [00:20<01:01,  3.36it/s]"
     ]
    },
    {
     "name": "stdout",
     "output_type": "stream",
     "text": [
      "✅ [DEBUG] image: <class 'torch.Tensor'> torch.Size([4, 96, 96, 96]) torch.float32\n",
      "✅ [DEBUG] label: <class 'torch.Tensor'> torch.Size([96, 96, 96]) torch.int64\n",
      "✅ [DEBUG] label unique: tensor([0, 1, 2])\n"
     ]
    },
    {
     "name": "stderr",
     "output_type": "stream",
     "text": [
      "Training:  27%|██▋       | 78/284 [00:20<00:54,  3.81it/s]"
     ]
    },
    {
     "name": "stdout",
     "output_type": "stream",
     "text": [
      "✅ [DEBUG] label unique: tensor([0, 1, 2])\n",
      "🧪 targets dtype: torch.int64\n",
      "🧪 targets unique: tensor([0, 1, 2], device='cuda:0')\n",
      "🧪 targets shape: torch.Size([1, 96, 96, 96])\n",
      "🧪 targets dtype: torch.int64\n",
      "🧪 targets unique: tensor([0, 1, 2], device='cuda:0')\n",
      "🧪 targets shape: torch.Size([1, 96, 96, 96])\n",
      "🧪 targets dtype: torch.int64\n",
      "🧪 targets unique: tensor([0, 1, 2], device='cuda:0')\n",
      "🧪 targets shape: torch.Size([1, 96, 96, 96])\n"
     ]
    },
    {
     "name": "stderr",
     "output_type": "stream",
     "text": [
      "Training:  28%|██▊       | 80/284 [00:20<00:41,  4.96it/s]"
     ]
    },
    {
     "name": "stdout",
     "output_type": "stream",
     "text": [
      "🧪 targets dtype: torch.int64\n",
      "🧪 targets unique: tensor([0, 1, 2], device='cuda:0')\n",
      "🧪 targets shape: torch.Size([1, 96, 96, 96])\n",
      "✅ [DEBUG] image: <class 'torch.Tensor'> torch.Size([4, 96, 96, 96]) torch.float32\n",
      "✅ [DEBUG] label: <class 'torch.Tensor'> torch.Size([96, 96, 96]) torch.int64\n",
      "✅ [DEBUG] label unique: tensor([0, 1, 2])\n",
      "✅ [DEBUG] image: <class 'torch.Tensor'> torch.Size([4, 96, 96, 96]) torch.float32\n",
      "✅ [DEBUG] label: <class 'torch.Tensor'> torch.Size([96, 96, 96]) torch.int64\n",
      "✅ [DEBUG] label unique: tensor([0, 1, 2])\n"
     ]
    },
    {
     "name": "stderr",
     "output_type": "stream",
     "text": [
      "Training:  29%|██▊       | 81/284 [00:21<00:59,  3.39it/s]"
     ]
    },
    {
     "name": "stdout",
     "output_type": "stream",
     "text": [
      "✅ [DEBUG] image: <class 'torch.Tensor'> torch.Size([4, 96, 96, 96]) torch.float32\n",
      "✅ [DEBUG] label: <class 'torch.Tensor'> torch.Size([96, 96, 96]) torch.int64\n",
      "✅ [DEBUG] label unique: tensor([0, 1, 2])\n",
      "🧪 targets dtype: torch.int64\n",
      "🧪 targets unique: tensor([0, 1, 2], device='cuda:0')\n",
      "🧪 targets shape: torch.Size([1, 96, 96, 96])\n",
      "🧪 targets dtype: torch.int64\n",
      "🧪 targets unique: tensor([0, 1, 2], device='cuda:0')\n",
      "🧪 targets shape: torch.Size([1, 96, 96, 96])\n",
      "🧪 targets dtype: torch.int64\n",
      "🧪 targets unique: tensor([0, 1, 2], device='cuda:0')\n",
      "🧪 targets shape: torch.Size([1, 96, 96, 96])\n"
     ]
    },
    {
     "name": "stderr",
     "output_type": "stream",
     "text": [
      "Training:  29%|██▉       | 83/284 [00:21<00:44,  4.53it/s]"
     ]
    },
    {
     "name": "stdout",
     "output_type": "stream",
     "text": [
      "✅ [DEBUG] image: <class 'torch.Tensor'> torch.Size([4, 96, 96, 96]) torch.float32\n",
      "✅ [DEBUG] label: <class 'torch.Tensor'> torch.Size([96, 96, 96]) torch.int64\n",
      "✅ [DEBUG] label unique: tensor([0, 1, 2])\n",
      "🧪 targets dtype: torch.int64\n",
      "🧪 targets unique: tensor([0, 1, 2], device='cuda:0')\n",
      "🧪 targets shape: torch.Size([1, 96, 96, 96])\n",
      "✅ [DEBUG] image: <class 'torch.Tensor'> torch.Size([4, 96, 96, 96]) torch.float32\n",
      "✅ [DEBUG] label: <class 'torch.Tensor'> torch.Size([96, 96, 96]) torch.int64\n",
      "✅ [DEBUG] label unique: tensor([0, 1, 2])\n",
      "✅ [DEBUG] image: <class 'torch.Tensor'> torch.Size([4, 96, 96, 96]) torch.float32\n",
      "✅ [DEBUG] label: <class 'torch.Tensor'> torch.Size([96, 96, 96]) torch.int64\n",
      "✅ [DEBUG] label unique: tensor([0, 1, 2])\n"
     ]
    },
    {
     "name": "stderr",
     "output_type": "stream",
     "text": [
      "Training:  30%|██▉       | 85/284 [00:22<00:54,  3.67it/s]"
     ]
    },
    {
     "name": "stdout",
     "output_type": "stream",
     "text": [
      "✅ [DEBUG] image: <class 'torch.Tensor'> torch.Size([4, 96, 96, 96]) torch.float32\n",
      "✅ [DEBUG] label: <class 'torch.Tensor'> torch.Size([96, 96, 96]) torch.int64\n",
      "🧪 targets dtype: torch.int64\n",
      "🧪 targets unique: tensor([0, 1, 2], device='cuda:0')\n",
      "🧪 targets shape: torch.Size([1, 96, 96, 96])\n",
      "🧪 targets dtype: torch.int64\n",
      "🧪 targets unique: tensor([0, 1, 2], device='cuda:0')\n",
      "🧪 targets shape: torch.Size([1, 96, 96, 96])\n",
      "🧪 targets dtype: torch.int64\n",
      "🧪 targets unique: tensor([0, 1, 2], device='cuda:0')\n",
      "🧪 targets shape: torch.Size([1, 96, 96, 96])\n",
      "✅ [DEBUG] label unique: tensor([0, 1, 2])\n"
     ]
    },
    {
     "name": "stderr",
     "output_type": "stream",
     "text": [
      "Training:  31%|███       | 87/284 [00:22<00:42,  4.67it/s]"
     ]
    },
    {
     "name": "stdout",
     "output_type": "stream",
     "text": [
      "✅ [DEBUG] image: <class 'torch.Tensor'> torch.Size([4, 96, 96, 96]) torch.float32\n",
      "✅ [DEBUG] label: <class 'torch.Tensor'> torch.Size([96, 96, 96]) torch.int64\n",
      "✅ [DEBUG] label unique: tensor([0, 1, 2])\n",
      "🧪 targets dtype: torch.int64\n",
      "🧪 targets unique: tensor([0, 1, 2], device='cuda:0')\n",
      "🧪 targets shape: torch.Size([1, 96, 96, 96])\n",
      "✅ [DEBUG] image: <class 'torch.Tensor'> torch.Size([4, 96, 96, 96]) torch.float32\n",
      "✅ [DEBUG] label: <class 'torch.Tensor'> torch.Size([96, 96, 96]) torch.int64\n",
      "✅ [DEBUG] label unique: tensor([0, 1, 2])\n",
      "✅ [DEBUG] image: <class 'torch.Tensor'> torch.Size([4, 96, 96, 96]) torch.float32\n",
      "✅ [DEBUG] label: <class 'torch.Tensor'> torch.Size([96, 96, 96]) torch.int64\n",
      "✅ [DEBUG] label unique: tensor([0, 1, 2])\n",
      "✅ [DEBUG] image: <class 'torch.Tensor'> torch.Size([4, 96, 96, 96]) torch.float32\n",
      "✅ [DEBUG] label: <class 'torch.Tensor'> torch.Size([96, 96, 96]) torch.int64\n"
     ]
    },
    {
     "name": "stderr",
     "output_type": "stream",
     "text": [
      "Training:  31%|███▏      | 89/284 [00:23<00:56,  3.45it/s]"
     ]
    },
    {
     "name": "stdout",
     "output_type": "stream",
     "text": [
      "✅ [DEBUG] label unique: tensor([0, 1, 2])\n",
      "🧪 targets dtype: torch.int64\n",
      "🧪 targets unique: tensor([0, 1, 2], device='cuda:0')\n",
      "🧪 targets shape: torch.Size([1, 96, 96, 96])\n",
      "🧪 targets dtype: torch.int64\n",
      "🧪 targets unique: tensor([0, 1, 2], device='cuda:0')\n",
      "🧪 targets shape: torch.Size([1, 96, 96, 96])\n",
      "🧪 targets dtype: torch.int64\n",
      "🧪 targets unique: tensor([0, 1, 2], device='cuda:0')\n",
      "🧪 targets shape: torch.Size([1, 96, 96, 96])\n"
     ]
    },
    {
     "name": "stderr",
     "output_type": "stream",
     "text": [
      "Training:  32%|███▏      | 91/284 [00:23<00:43,  4.43it/s]"
     ]
    },
    {
     "name": "stdout",
     "output_type": "stream",
     "text": [
      "✅ [DEBUG] image: <class 'torch.Tensor'> torch.Size([4, 96, 96, 96]) torch.float32\n",
      "✅ [DEBUG] label: <class 'torch.Tensor'> torch.Size([96, 96, 96]) torch.int64\n",
      "✅ [DEBUG] image: <class 'torch.Tensor'> torch.Size([4, 96, 96, 96]) torch.float32✅ [DEBUG] label unique:\n",
      " ✅ [DEBUG] label:tensor([0, 1, 2]) <class 'torch.Tensor'>\n",
      " torch.Size([96, 96, 96]) torch.int64\n",
      "🧪 targets dtype: torch.int64\n",
      "🧪 targets unique: tensor([0, 1, 2], device='cuda:0')\n",
      "🧪 targets shape: torch.Size([1, 96, 96, 96])\n",
      "✅ [DEBUG] label unique: tensor([0, 1, 2])\n",
      "✅ [DEBUG] image: <class 'torch.Tensor'> torch.Size([4, 96, 96, 96]) torch.float32\n",
      "✅ [DEBUG] label: <class 'torch.Tensor'> torch.Size([96, 96, 96]) torch.int64\n",
      "✅ [DEBUG] label unique: tensor([0, 1, 2])\n",
      "✅ [DEBUG] image: <class 'torch.Tensor'> torch.Size([4, 96, 96, 96]) torch.float32\n",
      "✅ [DEBUG] label: <class 'torch.Tensor'> torch.Size([96, 96, 96]) torch.int64\n"
     ]
    },
    {
     "name": "stderr",
     "output_type": "stream",
     "text": [
      "Training:  33%|███▎      | 93/284 [00:24<00:50,  3.75it/s]"
     ]
    },
    {
     "name": "stdout",
     "output_type": "stream",
     "text": [
      "✅ [DEBUG] label unique: tensor([0, 1, 2])\n",
      "🧪 targets dtype: torch.int64\n",
      "🧪 targets unique: tensor([0, 1, 2], device='cuda:0')\n",
      "🧪 targets shape: torch.Size([1, 96, 96, 96])\n",
      "🧪 targets dtype: torch.int64\n",
      "🧪 targets unique: tensor([0, 1, 2], device='cuda:0')\n",
      "🧪 targets shape: torch.Size([1, 96, 96, 96])\n",
      "🧪 targets dtype: torch.int64\n",
      "🧪 targets unique: tensor([0, 1, 2], device='cuda:0')\n",
      "🧪 targets shape: torch.Size([1, 96, 96, 96])\n"
     ]
    },
    {
     "name": "stderr",
     "output_type": "stream",
     "text": [
      "Training:  33%|███▎      | 95/284 [00:24<00:40,  4.68it/s]"
     ]
    },
    {
     "name": "stdout",
     "output_type": "stream",
     "text": [
      "✅ [DEBUG] image: <class 'torch.Tensor'> torch.Size([4, 96, 96, 96]) torch.float32\n",
      "✅ [DEBUG] label: <class 'torch.Tensor'> torch.Size([96, 96, 96]) torch.int64\n",
      "✅ [DEBUG] label unique: tensor([0, 1, 2])\n",
      "🧪 targets dtype: torch.int64\n",
      "🧪 targets unique: tensor([0, 1, 2], device='cuda:0')\n",
      "🧪 targets shape: torch.Size([1, 96, 96, 96])\n",
      "✅ [DEBUG] image: <class 'torch.Tensor'> torch.Size([4, 96, 96, 96]) torch.float32\n",
      "✅ [DEBUG] label: <class 'torch.Tensor'> torch.Size([96, 96, 96]) torch.int64\n",
      "✅ [DEBUG] label unique: tensor([0, 1, 2])\n",
      "✅ [DEBUG] image: <class 'torch.Tensor'> torch.Size([4, 96, 96, 96]) torch.float32\n",
      "✅ [DEBUG] label: <class 'torch.Tensor'> torch.Size([96, 96, 96]) torch.int64\n",
      "✅ [DEBUG] image: <class 'torch.Tensor'> torch.Size([4, 96, 96, 96]) torch.float32\n",
      "✅ [DEBUG] label: <class 'torch.Tensor'> torch.Size([96, 96, 96]) torch.int64\n",
      "✅ [DEBUG] label unique: tensor([0, 1, 2])\n",
      "✅ [DEBUG] label unique: tensor([0, 1, 2])\n"
     ]
    },
    {
     "name": "stderr",
     "output_type": "stream",
     "text": [
      "Training:  34%|███▍      | 97/284 [00:25<00:52,  3.53it/s]"
     ]
    },
    {
     "name": "stdout",
     "output_type": "stream",
     "text": [
      "✅ [DEBUG] image: <class 'torch.Tensor'> torch.Size([4, 96, 96, 96]) torch.float32\n",
      "✅ [DEBUG] label: <class 'torch.Tensor'> torch.Size([96, 96, 96]) torch.int64\n",
      "✅ [DEBUG] label unique: tensor([0, 1, 2])\n",
      "🧪 targets dtype: torch.int64\n",
      "🧪 targets unique: tensor([0, 1, 2], device='cuda:0')\n",
      "🧪 targets shape: torch.Size([1, 96, 96, 96])\n",
      "🧪 targets dtype: torch.int64\n",
      "🧪 targets unique: tensor([0, 1, 2], device='cuda:0')\n",
      "🧪 targets shape: torch.Size([1, 96, 96, 96])\n",
      "🧪 targets dtype: torch.int64\n",
      "🧪 targets unique: tensor([0, 1, 2], device='cuda:0')\n",
      "🧪 targets shape: torch.Size([1, 96, 96, 96])\n"
     ]
    },
    {
     "name": "stderr",
     "output_type": "stream",
     "text": [
      "Training:  35%|███▍      | 99/284 [00:25<00:40,  4.52it/s]"
     ]
    },
    {
     "name": "stdout",
     "output_type": "stream",
     "text": [
      "✅ [DEBUG] image: <class 'torch.Tensor'> torch.Size([4, 96, 96, 96]) torch.float32\n",
      "✅ [DEBUG] label: <class 'torch.Tensor'> torch.Size([96, 96, 96]) torch.int64\n",
      "✅ [DEBUG] label unique: tensor([0, 1, 2])\n",
      "🧪 targets dtype: torch.int64\n",
      "🧪 targets unique: tensor([0, 1, 2], device='cuda:0')\n",
      "🧪 targets shape: torch.Size([1, 96, 96, 96])\n",
      "✅ [DEBUG] image: <class 'torch.Tensor'> torch.Size([4, 96, 96, 96]) torch.float32\n",
      "✅ [DEBUG] label: <class 'torch.Tensor'> torch.Size([96, 96, 96]) torch.int64\n",
      "✅ [DEBUG] label unique: tensor([0, 1, 2])\n"
     ]
    },
    {
     "name": "stderr",
     "output_type": "stream",
     "text": [
      "Training:  36%|███▌      | 101/284 [00:26<00:44,  4.14it/s]"
     ]
    },
    {
     "name": "stdout",
     "output_type": "stream",
     "text": [
      "✅ [DEBUG] image: <class 'torch.Tensor'> torch.Size([4, 96, 96, 96]) torch.float32\n",
      "✅ [DEBUG] label: <class 'torch.Tensor'> torch.Size([96, 96, 96]) torch.int64\n",
      "🧪 targets dtype: torch.int64\n",
      "🧪 targets unique: tensor([0, 1, 2], device='cuda:0')\n",
      "🧪 targets shape: torch.Size([1, 96, 96, 96])\n",
      "🧪 targets dtype: torch.int64\n",
      "🧪 targets unique: tensor([0, 1, 2], device='cuda:0')\n",
      "🧪 targets shape: torch.Size([1, 96, 96, 96])\n",
      "🧪 targets dtype: torch.int64\n",
      "🧪 targets unique: tensor([0, 1, 2], device='cuda:0')\n",
      "🧪 targets shape: torch.Size([1, 96, 96, 96])\n"
     ]
    },
    {
     "name": "stderr",
     "output_type": "stream",
     "text": [
      "Training:  36%|███▋      | 103/284 [00:26<00:34,  5.18it/s]"
     ]
    },
    {
     "name": "stdout",
     "output_type": "stream",
     "text": [
      "✅ [DEBUG] label unique: tensor([0, 1, 2])\n"
     ]
    },
    {
     "name": "stderr",
     "output_type": "stream",
     "text": [
      "Training:  37%|███▋      | 104/284 [00:26<00:32,  5.62it/s]"
     ]
    },
    {
     "name": "stdout",
     "output_type": "stream",
     "text": [
      "✅ [DEBUG] image: <class 'torch.Tensor'> torch.Size([4, 96, 96, 96]) torch.float32\n",
      "✅ [DEBUG] label: <class 'torch.Tensor'> torch.Size([96, 96, 96]) torch.int64\n",
      "🧪 targets dtype: torch.int64\n",
      "🧪 targets unique: tensor([0, 1, 2], device='cuda:0')\n",
      "🧪 targets shape: torch.Size([1, 96, 96, 96])\n",
      "✅ [DEBUG] label unique: tensor([0, 1, 2])\n",
      "✅ [DEBUG] image: <class 'torch.Tensor'> torch.Size([4, 96, 96, 96]) torch.float32\n",
      "✅ [DEBUG] label: <class 'torch.Tensor'> torch.Size([96, 96, 96]) torch.int64\n",
      "✅ [DEBUG] label unique: tensor([0, 1, 2])\n",
      "✅ [DEBUG] image: <class 'torch.Tensor'> ✅ [DEBUG] image:torch.Size([4, 96, 96, 96])  <class 'torch.Tensor'>torch.float32 \n",
      "torch.Size([4, 96, 96, 96])✅ [DEBUG] label:  torch.float32<class 'torch.Tensor'>\n",
      " ✅ [DEBUG] label:torch.Size([96, 96, 96])  <class 'torch.Tensor'>torch.int64 \n",
      "torch.Size([96, 96, 96]) torch.int64\n",
      "✅ [DEBUG] label unique: ✅ [DEBUG] label unique:tensor([0, 1, 2]) \n",
      "tensor([0, 1, 2])\n",
      "✅ [DEBUG] image: <class 'torch.Tensor'> torch.Size([4, 96, 96, 96]) torch.float32\n",
      "✅ [DEBUG] label: <class 'torch.Tensor'> torch.Size([96, 96, 96]) torch.int64\n"
     ]
    },
    {
     "name": "stderr",
     "output_type": "stream",
     "text": [
      "Training:  37%|███▋      | 105/284 [00:27<00:59,  3.01it/s]"
     ]
    },
    {
     "name": "stdout",
     "output_type": "stream",
     "text": [
      "✅ [DEBUG] label unique: tensor([0, 1, 2])\n",
      "🧪 targets dtype: torch.int64\n",
      "🧪 targets unique: tensor([0, 1, 2], device='cuda:0')\n",
      "🧪 targets shape: torch.Size([1, 96, 96, 96])\n",
      "🧪 targets dtype: torch.int64\n",
      "🧪 targets unique: tensor([0, 1, 2], device='cuda:0')\n",
      "🧪 targets shape: torch.Size([1, 96, 96, 96])\n",
      "🧪 targets dtype: torch.int64\n",
      "🧪 targets unique: tensor([0, 1, 2], device='cuda:0')\n",
      "🧪 targets shape: torch.Size([1, 96, 96, 96])\n"
     ]
    },
    {
     "name": "stderr",
     "output_type": "stream",
     "text": [
      "Training:  38%|███▊      | 107/284 [00:27<00:42,  4.16it/s]"
     ]
    },
    {
     "name": "stdout",
     "output_type": "stream",
     "text": [
      "✅ [DEBUG] image: <class 'torch.Tensor'> torch.Size([4, 96, 96, 96]) torch.float32\n",
      "✅ [DEBUG] label: <class 'torch.Tensor'> torch.Size([96, 96, 96]) torch.int64\n",
      "✅ [DEBUG] label unique: tensor([0, 2])\n",
      "🧪 targets dtype: torch.int64\n",
      "🧪 targets unique: tensor([0, 1, 2], device='cuda:0')\n",
      "🧪 targets shape: torch.Size([1, 96, 96, 96])\n",
      "✅ [DEBUG] image: <class 'torch.Tensor'> torch.Size([4, 96, 96, 96]) torch.float32\n",
      "✅ [DEBUG] label: <class 'torch.Tensor'> torch.Size([96, 96, 96]) torch.int64\n",
      "✅ [DEBUG] label unique: tensor([0, 1, 2])\n"
     ]
    },
    {
     "name": "stderr",
     "output_type": "stream",
     "text": [
      "Training:  38%|███▊      | 109/284 [00:28<00:50,  3.49it/s]"
     ]
    },
    {
     "name": "stdout",
     "output_type": "stream",
     "text": [
      "🧪 targets dtype: torch.int64\n",
      "🧪 targets unique: tensor([0, 1, 2], device='cuda:0')\n",
      "🧪 targets shape: torch.Size([1, 96, 96, 96])\n",
      "🧪 targets dtype: torch.int64\n",
      "🧪 targets unique: tensor([0, 1, 2], device='cuda:0')\n",
      "🧪 targets shape: torch.Size([1, 96, 96, 96])\n",
      "🧪 targets dtype: torch.int64\n",
      "🧪 targets unique: tensor([0, 1, 2], device='cuda:0')\n",
      "🧪 targets shape: torch.Size([1, 96, 96, 96])\n",
      "✅ [DEBUG] image: <class 'torch.Tensor'> torch.Size([4, 96, 96, 96]) torch.float32\n",
      "✅ [DEBUG] label: <class 'torch.Tensor'> torch.Size([96, 96, 96]) torch.int64\n"
     ]
    },
    {
     "name": "stderr",
     "output_type": "stream",
     "text": [
      "Training:  39%|███▉      | 111/284 [00:28<00:38,  4.54it/s]"
     ]
    },
    {
     "name": "stdout",
     "output_type": "stream",
     "text": [
      "✅ [DEBUG] image: <class 'torch.Tensor'> torch.Size([4, 96, 96, 96]) torch.float32\n",
      "✅ [DEBUG] label: <class 'torch.Tensor'> torch.Size([96, 96, 96]) torch.int64\n",
      "✅ [DEBUG] label unique: tensor([0, 1, 2])\n",
      "✅ [DEBUG] label unique: tensor([0, 1, 2])\n",
      "🧪 targets dtype: torch.int64\n",
      "🧪 targets unique: tensor([0, 2], device='cuda:0')\n",
      "🧪 targets shape: torch.Size([1, 96, 96, 96])\n",
      "✅ [DEBUG] image: <class 'torch.Tensor'> torch.Size([4, 96, 96, 96]) torch.float32\n",
      "✅ [DEBUG] label: <class 'torch.Tensor'> torch.Size([96, 96, 96]) torch.int64\n",
      "✅ [DEBUG] image: <class 'torch.Tensor'> torch.Size([4, 96, 96, 96]) torch.float32\n",
      "✅ [DEBUG] label: <class 'torch.Tensor'> torch.Size([96, 96, 96]) torch.int64\n",
      "✅ [DEBUG] label unique: tensor([0, 1, 2])\n",
      "✅ [DEBUG] label unique: tensor([0, 1, 2])\n"
     ]
    },
    {
     "name": "stderr",
     "output_type": "stream",
     "text": [
      "Training:  40%|███▉      | 113/284 [00:29<00:45,  3.79it/s]"
     ]
    },
    {
     "name": "stdout",
     "output_type": "stream",
     "text": [
      "✅ [DEBUG] image: <class 'torch.Tensor'> torch.Size([4, 96, 96, 96]) torch.float32\n",
      "✅ [DEBUG] label: <class 'torch.Tensor'> torch.Size([96, 96, 96]) torch.int64\n"
     ]
    },
    {
     "name": "stderr",
     "output_type": "stream",
     "text": [
      "Training:  40%|████      | 114/284 [00:29<00:39,  4.26it/s]"
     ]
    },
    {
     "name": "stdout",
     "output_type": "stream",
     "text": [
      "🧪 targets dtype: torch.int64\n",
      "🧪 targets unique: tensor([0, 1, 2], device='cuda:0')\n",
      "🧪 targets shape: torch.Size([1, 96, 96, 96])\n",
      "🧪 targets dtype: torch.int64\n",
      "🧪 targets unique: tensor([0, 1, 2], device='cuda:0')\n",
      "🧪 targets shape: torch.Size([1, 96, 96, 96])\n",
      "✅ [DEBUG] label unique: tensor([0, 1, 2])\n",
      "✅ [DEBUG] image: <class 'torch.Tensor'> torch.Size([4, 96, 96, 96]) torch.float32\n",
      "✅ [DEBUG] label: <class 'torch.Tensor'> torch.Size([96, 96, 96]) torch.int64\n"
     ]
    },
    {
     "name": "stderr",
     "output_type": "stream",
     "text": [
      "Training:  41%|████      | 116/284 [00:29<00:30,  5.46it/s]"
     ]
    },
    {
     "name": "stdout",
     "output_type": "stream",
     "text": [
      "🧪 targets dtype: torch.int64\n",
      "🧪 targets unique: tensor([0, 1, 2], device='cuda:0')\n",
      "🧪 targets shape: torch.Size([1, 96, 96, 96])\n",
      "🧪 targets dtype: torch.int64\n",
      "🧪 targets unique: tensor([0, 1, 2], device='cuda:0')\n",
      "🧪 targets shape: torch.Size([1, 96, 96, 96])\n",
      "✅ [DEBUG] label unique: tensor([0, 1, 2])\n",
      "✅ [DEBUG] image: <class 'torch.Tensor'> torch.Size([4, 96, 96, 96]) torch.float32\n",
      "✅ [DEBUG] label: <class 'torch.Tensor'> torch.Size([96, 96, 96]) torch.int64\n",
      "✅ [DEBUG] label unique: tensor([0, 1, 2])\n",
      "✅ [DEBUG] image: <class 'torch.Tensor'> torch.Size([4, 96, 96, 96]) torch.float32\n",
      "✅ [DEBUG] label: <class 'torch.Tensor'> torch.Size([96, 96, 96]) torch.int64\n",
      "✅ [DEBUG] label unique: tensor([0, 1, 2])\n",
      "✅ [DEBUG] image: <class 'torch.Tensor'> torch.Size([4, 96, 96, 96]) torch.float32 \n",
      "✅ [DEBUG] label:<class 'torch.Tensor'> torch.Size([96, 96, 96]) torch.int64\n"
     ]
    },
    {
     "name": "stderr",
     "output_type": "stream",
     "text": [
      "Training:  41%|████      | 117/284 [00:30<00:51,  3.23it/s]"
     ]
    },
    {
     "name": "stdout",
     "output_type": "stream",
     "text": [
      "✅ [DEBUG] label unique: tensor([0, 1, 2])\n",
      "🧪 targets dtype: torch.int64\n",
      "🧪 targets unique: tensor([0, 1, 2], device='cuda:0')\n",
      "🧪 targets shape: torch.Size([1, 96, 96, 96])\n",
      "🧪 targets dtype: torch.int64\n",
      "🧪 targets unique: tensor([0, 1, 2], device='cuda:0')\n",
      "🧪 targets shape: torch.Size([1, 96, 96, 96])\n",
      "🧪 targets dtype: torch.int64\n",
      "🧪 targets unique: tensor([0, 1, 2], device='cuda:0')\n",
      "🧪 targets shape: torch.Size([1, 96, 96, 96])\n"
     ]
    },
    {
     "name": "stderr",
     "output_type": "stream",
     "text": [
      "Training:  42%|████▏     | 119/284 [00:30<00:37,  4.42it/s]"
     ]
    },
    {
     "name": "stdout",
     "output_type": "stream",
     "text": [
      "✅ [DEBUG] image: <class 'torch.Tensor'> torch.Size([4, 96, 96, 96]) torch.float32\n",
      "✅ [DEBUG] label: <class 'torch.Tensor'> torch.Size([96, 96, 96]) torch.int64\n",
      "✅ [DEBUG] label unique: tensor([0, 1, 2])\n",
      "🧪 targets dtype: torch.int64\n",
      "🧪 targets unique: tensor([0, 1, 2], device='cuda:0')\n",
      "🧪 targets shape: torch.Size([1, 96, 96, 96])\n",
      "✅ [DEBUG] image: <class 'torch.Tensor'> torch.Size([4, 96, 96, 96]) torch.float32\n",
      "✅ [DEBUG] label: <class 'torch.Tensor'> torch.Size([96, 96, 96]) torch.int64\n",
      "✅ [DEBUG] image: <class 'torch.Tensor'> torch.Size([4, 96, 96, 96]) torch.float32\n",
      "✅ [DEBUG] label: <class 'torch.Tensor'> torch.Size([96, 96, 96]) torch.int64\n",
      "✅ [DEBUG] label unique: tensor([0, 1, 2])\n",
      "✅ [DEBUG] label unique: tensor([0, 1, 2])\n",
      "✅ [DEBUG] image: <class 'torch.Tensor'> torch.Size([4, 96, 96, 96]) torch.float32\n",
      "✅ [DEBUG] label: <class 'torch.Tensor'> torch.Size([96, 96, 96]) torch.int64\n"
     ]
    },
    {
     "name": "stderr",
     "output_type": "stream",
     "text": [
      "Training:  43%|████▎     | 121/284 [00:31<00:46,  3.47it/s]"
     ]
    },
    {
     "name": "stdout",
     "output_type": "stream",
     "text": [
      "✅ [DEBUG] label unique: tensor([0, 1, 2])\n",
      "🧪 targets dtype: torch.int64\n",
      "🧪 targets unique: tensor([0, 1, 2], device='cuda:0')\n",
      "🧪 targets shape: torch.Size([1, 96, 96, 96])\n",
      "🧪 targets dtype: torch.int64\n",
      "🧪 targets unique: tensor([0, 1, 2], device='cuda:0')\n",
      "🧪 targets shape: torch.Size([1, 96, 96, 96])\n",
      "🧪 targets dtype: torch.int64\n",
      "🧪 targets unique: tensor([0, 1, 2], device='cuda:0')\n",
      "🧪 targets shape: torch.Size([1, 96, 96, 96])\n"
     ]
    },
    {
     "name": "stderr",
     "output_type": "stream",
     "text": [
      "Training:  43%|████▎     | 123/284 [00:31<00:35,  4.55it/s]"
     ]
    },
    {
     "name": "stdout",
     "output_type": "stream",
     "text": [
      "✅ [DEBUG] image: <class 'torch.Tensor'> torch.Size([4, 96, 96, 96]) torch.float32\n",
      "✅ [DEBUG] label: <class 'torch.Tensor'> torch.Size([96, 96, 96]) torch.int64\n",
      "✅ [DEBUG] label unique: tensor([0, 1, 2])\n",
      "🧪 targets dtype: torch.int64\n",
      "🧪 targets unique: tensor([0, 1, 2], device='cuda:0')\n",
      "🧪 targets shape: torch.Size([1, 96, 96, 96])\n",
      "✅ [DEBUG] image: <class 'torch.Tensor'> torch.Size([4, 96, 96, 96]) torch.float32\n",
      "✅ [DEBUG] label: <class 'torch.Tensor'> torch.Size([96, 96, 96]) torch.int64\n",
      "✅ [DEBUG] label unique: tensor([0, 1, 2])\n",
      "✅ [DEBUG] image: <class 'torch.Tensor'> torch.Size([4, 96, 96, 96]) torch.float32\n",
      "✅ [DEBUG] label: <class 'torch.Tensor'> torch.Size([96, 96, 96]) torch.int64\n",
      "✅ [DEBUG] label unique: tensor([0, 1, 2])\n"
     ]
    },
    {
     "name": "stderr",
     "output_type": "stream",
     "text": [
      "Training:  44%|████▍     | 125/284 [00:32<00:46,  3.39it/s]"
     ]
    },
    {
     "name": "stdout",
     "output_type": "stream",
     "text": [
      "✅ [DEBUG] image: <class 'torch.Tensor'> torch.Size([4, 96, 96, 96]) torch.float32\n",
      "✅ [DEBUG] label: <class 'torch.Tensor'> torch.Size([96, 96, 96]) torch.int64\n",
      "✅ [DEBUG] image: <class 'torch.Tensor'> torch.Size([4, 96, 96, 96]) torch.float32\n",
      "✅ [DEBUG] label: <class 'torch.Tensor'> torch.Size([96, 96, 96]) torch.int64\n",
      "🧪 targets dtype: torch.int64\n",
      "🧪 targets unique: tensor([0, 1, 2], device='cuda:0')\n",
      "🧪 targets shape: torch.Size([1, 96, 96, 96])\n",
      "🧪 targets dtype: torch.int64\n",
      "🧪 targets unique: tensor([0, 1, 2], device='cuda:0')\n",
      "🧪 targets shape: torch.Size([1, 96, 96, 96])\n",
      "🧪 targets dtype: torch.int64\n",
      "🧪 targets unique: tensor([0, 1, 2], device='cuda:0')\n",
      "🧪 targets shape: torch.Size([1, 96, 96, 96])\n"
     ]
    },
    {
     "name": "stderr",
     "output_type": "stream",
     "text": [
      "Training:  45%|████▍     | 127/284 [00:32<00:35,  4.38it/s]"
     ]
    },
    {
     "name": "stdout",
     "output_type": "stream",
     "text": [
      "✅ [DEBUG] label unique: tensor([0, 1, 2])\n",
      "✅ [DEBUG] label unique: tensor([0, 1, 2])\n"
     ]
    },
    {
     "name": "stderr",
     "output_type": "stream",
     "text": [
      "Training:  45%|████▌     | 128/284 [00:32<00:32,  4.83it/s]"
     ]
    },
    {
     "name": "stdout",
     "output_type": "stream",
     "text": [
      "✅ [DEBUG] image: <class 'torch.Tensor'> torch.Size([4, 96, 96, 96]) torch.float32🧪 targets dtype: torch.int64\n",
      "🧪 targets unique: tensor([0, 1, 2], device='cuda:0')\n",
      "🧪 targets shape: torch.Size([1, 96, 96, 96])\n",
      "\n",
      "✅ [DEBUG] label: <class 'torch.Tensor'> torch.Size([96, 96, 96]) torch.int64\n",
      "✅ [DEBUG] label unique: tensor([0, 1, 2])\n",
      "✅ [DEBUG] image: <class 'torch.Tensor'> torch.Size([4, 96, 96, 96]) torch.float32\n",
      "✅ [DEBUG] label: <class 'torch.Tensor'> torch.Size([96, 96, 96]) torch.int64\n",
      "✅ [DEBUG] label unique: tensor([0, 1, 2])\n"
     ]
    },
    {
     "name": "stderr",
     "output_type": "stream",
     "text": [
      "Training:  45%|████▌     | 129/284 [00:33<00:43,  3.54it/s]"
     ]
    },
    {
     "name": "stdout",
     "output_type": "stream",
     "text": [
      "✅ [DEBUG] image: <class 'torch.Tensor'> torch.Size([4, 96, 96, 96]) torch.float32\n",
      "✅ [DEBUG] label: <class 'torch.Tensor'> torch.Size([96, 96, 96]) torch.int64\n",
      "🧪 targets dtype: torch.int64\n",
      "🧪 targets unique: tensor([0, 1, 2], device='cuda:0')\n",
      "🧪 targets shape: torch.Size([1, 96, 96, 96])\n",
      "🧪 targets dtype: torch.int64\n",
      "🧪 targets unique: tensor([0, 1, 2], device='cuda:0')\n",
      "🧪 targets shape: torch.Size([1, 96, 96, 96])\n",
      "🧪 targets dtype: torch.int64\n",
      "🧪 targets unique: tensor([0, 1, 2], device='cuda:0')\n",
      "🧪 targets shape: torch.Size([1, 96, 96, 96])\n"
     ]
    },
    {
     "name": "stderr",
     "output_type": "stream",
     "text": [
      "Training:  46%|████▌     | 131/284 [00:33<00:32,  4.77it/s]"
     ]
    },
    {
     "name": "stdout",
     "output_type": "stream",
     "text": [
      "✅ [DEBUG] label unique: tensor([0, 1, 2])\n",
      "🧪 targets dtype: torch.int64\n",
      "🧪 targets unique: tensor([0, 1, 2], device='cuda:0')\n",
      "🧪 targets shape: torch.Size([1, 96, 96, 96])\n",
      "✅ [DEBUG] image: <class 'torch.Tensor'> torch.Size([4, 96, 96, 96]) torch.float32\n",
      "✅ [DEBUG] label: <class 'torch.Tensor'> torch.Size([96, 96, 96]) torch.int64\n",
      "✅ [DEBUG] label unique: tensor([0, 1, 2])✅ [DEBUG] image:\n",
      " <class 'torch.Tensor'> torch.Size([4, 96, 96, 96]) torch.float32\n",
      "✅ [DEBUG] label: <class 'torch.Tensor'> torch.Size([96, 96, 96]) torch.int64\n",
      "✅ [DEBUG] label unique: tensor([0, 1, 2])\n",
      "✅ [DEBUG] image: <class 'torch.Tensor'> torch.Size([4, 96, 96, 96]) torch.float32\n",
      "✅ [DEBUG] label: <class 'torch.Tensor'> torch.Size([96, 96, 96]) torch.int64\n",
      "✅ [DEBUG] label unique: tensor([0, 1, 2])\n",
      "✅ [DEBUG] image: <class 'torch.Tensor'> torch.Size([4, 96, 96, 96]) torch.float32\n",
      "✅ [DEBUG] label: <class 'torch.Tensor'> torch.Size([96, 96, 96]) torch.int64\n"
     ]
    },
    {
     "name": "stderr",
     "output_type": "stream",
     "text": [
      "Training:  47%|████▋     | 133/284 [00:34<00:49,  3.07it/s]"
     ]
    },
    {
     "name": "stdout",
     "output_type": "stream",
     "text": [
      "✅ [DEBUG] label unique: tensor([0, 1, 2])\n",
      "✅ [DEBUG] image: <class 'torch.Tensor'> torch.Size([4, 96, 96, 96]) torch.float32\n",
      "✅ [DEBUG] label: <class 'torch.Tensor'> torch.Size([96, 96, 96]) torch.int64\n",
      "🧪 targets dtype: torch.int64\n",
      "🧪 targets unique: tensor([0, 1, 2], device='cuda:0')\n",
      "🧪 targets shape: torch.Size([1, 96, 96, 96])\n",
      "🧪 targets dtype: torch.int64\n",
      "🧪 targets unique: tensor([0, 1, 2], device='cuda:0')\n",
      "🧪 targets shape: torch.Size([1, 96, 96, 96])\n",
      "🧪 targets dtype: torch.int64\n",
      "🧪 targets unique: tensor([0, 1, 2], device='cuda:0')\n",
      "🧪 targets shape: torch.Size([1, 96, 96, 96])\n"
     ]
    },
    {
     "name": "stderr",
     "output_type": "stream",
     "text": [
      "Training:  48%|████▊     | 135/284 [00:34<00:36,  4.11it/s]"
     ]
    },
    {
     "name": "stdout",
     "output_type": "stream",
     "text": [
      "✅ [DEBUG] label unique: tensor([0, 1, 2])\n",
      "✅ [DEBUG] image: <class 'torch.Tensor'> torch.Size([4, 96, 96, 96]) torch.float32\n",
      "✅ [DEBUG] label: <class 'torch.Tensor'> torch.Size([96, 96, 96]) torch.int64\n",
      "🧪 targets dtype: torch.int64\n",
      "🧪 targets unique: tensor([0, 1, 2], device='cuda:0')\n",
      "🧪 targets shape: torch.Size([1, 96, 96, 96])\n",
      "✅ [DEBUG] label unique: tensor([0, 1, 2])\n",
      "✅ [DEBUG] image: <class 'torch.Tensor'> torch.Size([4, 96, 96, 96]) torch.float32\n",
      "✅ [DEBUG] label: <class 'torch.Tensor'> torch.Size([96, 96, 96]) torch.int64\n",
      "✅ [DEBUG] image: <class 'torch.Tensor'> torch.Size([4, 96, 96, 96]) torch.float32\n",
      "✅ [DEBUG] label: <class 'torch.Tensor'> torch.Size([96, 96, 96]) torch.int64\n",
      "✅ [DEBUG] label unique: ✅ [DEBUG] label unique: tensor([0, 1, 2])\n",
      "tensor([0, 1, 2])\n"
     ]
    },
    {
     "name": "stderr",
     "output_type": "stream",
     "text": [
      "Training:  48%|████▊     | 137/284 [00:35<00:43,  3.35it/s]"
     ]
    },
    {
     "name": "stdout",
     "output_type": "stream",
     "text": [
      "✅ [DEBUG] image: <class 'torch.Tensor'> torch.Size([4, 96, 96, 96]) torch.float32\n",
      "✅ [DEBUG] label: <class 'torch.Tensor'> torch.Size([96, 96, 96]) torch.int64\n",
      "🧪 targets dtype: torch.int64\n",
      "🧪 targets unique: tensor([0, 1, 2], device='cuda:0')\n",
      "🧪 targets shape: torch.Size([1, 96, 96, 96])\n",
      "🧪 targets dtype: torch.int64\n",
      "🧪 targets unique: tensor([0, 1, 2], device='cuda:0')\n",
      "🧪 targets shape: torch.Size([1, 96, 96, 96])\n",
      "🧪 targets dtype: torch.int64\n",
      "🧪 targets unique: tensor([0, 1, 2], device='cuda:0')\n",
      "🧪 targets shape: torch.Size([1, 96, 96, 96])\n"
     ]
    },
    {
     "name": "stderr",
     "output_type": "stream",
     "text": [
      "Training:  49%|████▉     | 139/284 [00:35<00:33,  4.35it/s]"
     ]
    },
    {
     "name": "stdout",
     "output_type": "stream",
     "text": [
      "✅ [DEBUG] label unique: tensor([0, 1, 2])\n",
      "✅ [DEBUG] image: <class 'torch.Tensor'> torch.Size([4, 96, 96, 96]) torch.float32\n",
      "✅ [DEBUG] label: <class 'torch.Tensor'> torch.Size([96, 96, 96]) torch.int64\n",
      "✅ [DEBUG] label unique: tensor([0, 1, 2])\n",
      "🧪 targets dtype: torch.int64\n",
      "🧪 targets unique: tensor([0, 1, 2], device='cuda:0')\n",
      "🧪 targets shape: torch.Size([1, 96, 96, 96])\n",
      "✅ [DEBUG] image: <class 'torch.Tensor'> torch.Size([4, 96, 96, 96]) ✅ [DEBUG] image:torch.float32 \n",
      "<class 'torch.Tensor'>✅ [DEBUG] label:  <class 'torch.Tensor'>torch.Size([4, 96, 96, 96])  torch.Size([96, 96, 96])torch.float32 \n",
      "torch.int64\n",
      "✅ [DEBUG] label: <class 'torch.Tensor'> torch.Size([96, 96, 96]) torch.int64\n",
      "✅ [DEBUG] label unique:✅ [DEBUG] label unique:  tensor([0, 1, 2])tensor([0, 1, 2])\n",
      "\n"
     ]
    },
    {
     "name": "stderr",
     "output_type": "stream",
     "text": [
      "Training:  50%|████▉     | 141/284 [00:36<00:39,  3.59it/s]"
     ]
    },
    {
     "name": "stdout",
     "output_type": "stream",
     "text": [
      "✅ [DEBUG] image: <class 'torch.Tensor'> torch.Size([4, 96, 96, 96]) torch.float32\n",
      "✅ [DEBUG] label: <class 'torch.Tensor'> torch.Size([96, 96, 96]) torch.int64\n"
     ]
    },
    {
     "name": "stderr",
     "output_type": "stream",
     "text": [
      "Training:  50%|█████     | 142/284 [00:36<00:35,  4.04it/s]"
     ]
    },
    {
     "name": "stdout",
     "output_type": "stream",
     "text": [
      "🧪 targets dtype: torch.int64\n",
      "🧪 targets unique: tensor([0, 1, 2], device='cuda:0')\n",
      "🧪 targets shape: torch.Size([1, 96, 96, 96])\n",
      "🧪 targets dtype: torch.int64\n",
      "🧪 targets unique: tensor([0, 1, 2], device='cuda:0')\n",
      "🧪 targets shape: torch.Size([1, 96, 96, 96])\n",
      "🧪 targets dtype: torch.int64\n",
      "🧪 targets unique: ✅ [DEBUG] label unique: tensor([0, 1, 2])\n"
     ]
    },
    {
     "name": "stderr",
     "output_type": "stream",
     "text": [
      "Training:  50%|█████     | 143/284 [00:36<00:30,  4.60it/s]"
     ]
    },
    {
     "name": "stdout",
     "output_type": "stream",
     "text": [
      "✅ [DEBUG] image: <class 'torch.Tensor'> torch.Size([4, 96, 96, 96]) torch.float32\n",
      "✅ [DEBUG] label: <class 'torch.Tensor'> torch.Size([96, 96, 96]) torch.int64\n",
      "tensor([0, 1, 2], device='cuda:0')\n",
      "🧪 targets shape: torch.Size([1, 96, 96, 96])\n",
      "🧪 targets dtype: torch.int64\n",
      "🧪 targets unique: tensor([0, 1, 2], device='cuda:0')\n",
      "🧪 targets shape: torch.Size([1, 96, 96, 96])\n",
      "✅ [DEBUG] label unique: tensor([0, 1, 2])\n",
      "✅ [DEBUG] image: <class 'torch.Tensor'> torch.Size([4, 96, 96, 96]) torch.float32\n",
      "✅ [DEBUG] label: <class 'torch.Tensor'> torch.Size([96, 96, 96]) torch.int64\n",
      "✅ [DEBUG] label unique: tensor([0, 1, 2])\n"
     ]
    },
    {
     "name": "stderr",
     "output_type": "stream",
     "text": [
      "Training:  51%|█████     | 145/284 [00:37<00:39,  3.49it/s]"
     ]
    },
    {
     "name": "stdout",
     "output_type": "stream",
     "text": [
      "✅ [DEBUG] image: <class 'torch.Tensor'> torch.Size([4, 96, 96, 96]) torch.float32\n",
      "✅ [DEBUG] label: <class 'torch.Tensor'> torch.Size([96, 96, 96]) torch.int64\n",
      "🧪 targets dtype: torch.int64\n",
      "🧪 targets unique: tensor([0, 1, 2], device='cuda:0')\n",
      "🧪 targets shape: torch.Size([1, 96, 96, 96])\n",
      "🧪 targets dtype: torch.int64\n",
      "🧪 targets unique: tensor([0, 1, 2], device='cuda:0')\n",
      "🧪 targets shape: torch.Size([1, 96, 96, 96])\n",
      "🧪 targets dtype: torch.int64\n",
      "🧪 targets unique: tensor([0, 1, 2], device='cuda:0')\n",
      "🧪 targets shape: torch.Size([1, 96, 96, 96])\n",
      "✅ [DEBUG] image: "
     ]
    },
    {
     "name": "stderr",
     "output_type": "stream",
     "text": [
      "Training:  52%|█████▏    | 147/284 [00:37<00:29,  4.61it/s]"
     ]
    },
    {
     "name": "stdout",
     "output_type": "stream",
     "text": [
      "<class 'torch.Tensor'> torch.Size([4, 96, 96, 96]) \n",
      "torch.float32✅ [DEBUG] label: <class 'torch.Tensor'> torch.Size([96, 96, 96]) torch.int64\n",
      "✅ [DEBUG] label unique: tensor([0, 1, 2])\n",
      "✅ [DEBUG] label unique: tensor([0, 1, 2])\n",
      "✅ [DEBUG] image: <class 'torch.Tensor'> torch.Size([4, 96, 96, 96]) torch.float32\n",
      "✅ [DEBUG] label: <class 'torch.Tensor'> torch.Size([96, 96, 96]) torch.int64\n",
      "🧪 targets dtype: torch.int64\n",
      "🧪 targets unique: tensor([0, 1, 2], device='cuda:0')\n",
      "🧪 targets shape: torch.Size([1, 96, 96, 96])\n",
      "✅ [DEBUG] label unique: tensor([0, 1, 2])\n",
      "✅ [DEBUG] image: <class 'torch.Tensor'> torch.Size([4, 96, 96, 96]) torch.float32\n",
      "✅ [DEBUG] label: <class 'torch.Tensor'> torch.Size([96, 96, 96]) torch.int64\n",
      "✅ [DEBUG] label unique: tensor([0, 1, 2])\n"
     ]
    },
    {
     "name": "stderr",
     "output_type": "stream",
     "text": [
      "Training:  52%|█████▏    | 149/284 [00:38<00:36,  3.71it/s]"
     ]
    },
    {
     "name": "stdout",
     "output_type": "stream",
     "text": [
      "🧪 targets dtype: torch.int64\n",
      "🧪 targets unique: tensor([0, 1, 2], device='cuda:0')\n",
      "🧪 targets shape: torch.Size([1, 96, 96, 96])\n",
      "🧪 targets dtype: torch.int64\n",
      "🧪 targets unique: tensor([0, 1, 2], device='cuda:0')\n",
      "🧪 targets shape: torch.Size([1, 96, 96, 96])\n"
     ]
    },
    {
     "name": "stderr",
     "output_type": "stream",
     "text": [
      "Training:  53%|█████▎    | 151/284 [00:38<00:29,  4.54it/s]"
     ]
    },
    {
     "name": "stdout",
     "output_type": "stream",
     "text": [
      "🧪 targets dtype: torch.int64\n",
      "🧪 targets unique: tensor([0, 1, 2], device='cuda:0')\n",
      "🧪 targets shape: torch.Size([1, 96, 96, 96])\n",
      "🧪 targets dtype: torch.int64\n",
      "🧪 targets unique: tensor([0, 1, 2], device='cuda:0')\n",
      "🧪 targets shape: torch.Size([1, 96, 96, 96])\n",
      "✅ [DEBUG] image: <class 'torch.Tensor'> torch.Size([4, 96, 96, 96]) torch.float32\n",
      "✅ [DEBUG] label: <class 'torch.Tensor'> torch.Size([96, 96, 96]) torch.int64\n",
      "✅ [DEBUG] image: <class 'torch.Tensor'> torch.Size([4, 96, 96, 96]) torch.float32\n",
      "✅ [DEBUG] label: <class 'torch.Tensor'> torch.Size([96, 96, 96]) torch.int64\n",
      "✅ [DEBUG] label unique: tensor([0, 1, 2])\n",
      "✅ [DEBUG] label unique: tensor([0, 1, 2])\n",
      "✅ [DEBUG] image: <class 'torch.Tensor'> torch.Size([4, 96, 96, 96]) torch.float32\n",
      "✅ [DEBUG] label: <class 'torch.Tensor'> torch.Size([96, 96, 96]) torch.int64\n",
      "✅ [DEBUG] image: <class 'torch.Tensor'> torch.Size([4, 96, 96, 96]) torch.float32\n",
      "✅ [DEBUG] label: <class 'torch.Tensor'> torch.Size([96, 96, 96]) torch.int64\n",
      "✅ [DEBUG] label unique:✅ [DEBUG] label unique:  tensor([0, 1, 2])tensor([0, 1, 2])\n",
      "\n"
     ]
    },
    {
     "name": "stderr",
     "output_type": "stream",
     "text": [
      "Training:  54%|█████▍    | 154/284 [00:39<00:32,  4.00it/s]"
     ]
    },
    {
     "name": "stdout",
     "output_type": "stream",
     "text": [
      "🧪 targets dtype: torch.int64\n",
      "🧪 targets unique: tensor([0, 1, 2], device='cuda:0')\n",
      "🧪 targets shape: torch.Size([1, 96, 96, 96])\n",
      "🧪 targets dtype: torch.int64\n",
      "🧪 targets unique: tensor([0, 1, 2], device='cuda:0')\n",
      "🧪 targets shape: torch.Size([1, 96, 96, 96])\n",
      "🧪 targets dtype: torch.int64\n",
      "🧪 targets unique: tensor([0, 1, 2], device='cuda:0')\n",
      "🧪 targets shape: torch.Size([1, 96, 96, 96])\n"
     ]
    },
    {
     "name": "stderr",
     "output_type": "stream",
     "text": [
      "Training:  55%|█████▍    | 156/284 [00:39<00:24,  5.15it/s]"
     ]
    },
    {
     "name": "stdout",
     "output_type": "stream",
     "text": [
      "🧪 targets dtype: torch.int64\n",
      "🧪 targets unique: tensor([0, 1, 2], device='cuda:0')\n",
      "🧪 targets shape: torch.Size([1, 96, 96, 96])\n",
      "✅ [DEBUG] image: <class 'torch.Tensor'> torch.Size([4, 96, 96, 96]) torch.float32\n",
      "✅ [DEBUG] label: <class 'torch.Tensor'> torch.Size([96, 96, 96]) torch.int64\n",
      "✅ [DEBUG] label unique: tensor([0, 1, 2])\n",
      "✅ [DEBUG] image: <class 'torch.Tensor'> torch.Size([4, 96, 96, 96]) torch.float32\n",
      "✅ [DEBUG] label: <class 'torch.Tensor'> torch.Size([96, 96, 96]) torch.int64\n",
      "✅ [DEBUG] label unique: tensor([0, 1, 2])\n",
      "✅ [DEBUG] image: <class 'torch.Tensor'> torch.Size([4, 96, 96, 96]) torch.float32\n",
      "✅ [DEBUG] label: <class 'torch.Tensor'> torch.Size([96, 96, 96]) torch.int64\n",
      "✅ [DEBUG] image: <class 'torch.Tensor'> torch.Size([4, 96, 96, 96]) torch.float32\n",
      "✅ [DEBUG] label: <class 'torch.Tensor'> torch.Size([96, 96, 96]) torch.int64\n",
      "✅ [DEBUG] label unique: tensor([0, 1, 2])✅ [DEBUG] label unique:\n",
      " tensor([0, 1, 2])\n"
     ]
    },
    {
     "name": "stderr",
     "output_type": "stream",
     "text": [
      "Training:  55%|█████▌    | 157/284 [00:40<00:41,  3.04it/s]"
     ]
    },
    {
     "name": "stdout",
     "output_type": "stream",
     "text": [
      "✅ [DEBUG] image: <class 'torch.Tensor'> torch.Size([4, 96, 96, 96]) torch.float32\n",
      "✅ [DEBUG] label: <class 'torch.Tensor'> torch.Size([96, 96, 96]) torch.int64\n",
      "🧪 targets dtype: torch.int64\n",
      "🧪 targets unique: tensor([0, 1, 2], device='cuda:0')\n",
      "🧪 targets shape: torch.Size([1, 96, 96, 96])\n",
      "🧪 targets dtype: torch.int64\n",
      "🧪 targets unique: tensor([0, 1, 2], device='cuda:0')\n",
      "🧪 targets shape: torch.Size([1, 96, 96, 96])\n",
      "🧪 targets dtype: torch.int64\n",
      "🧪 targets unique: tensor([0, 1, 2], device='cuda:0')\n",
      "🧪 targets shape: torch.Size([1, 96, 96, 96])\n",
      "✅ [DEBUG] label unique: tensor([0, 1, 2])\n"
     ]
    },
    {
     "name": "stderr",
     "output_type": "stream",
     "text": [
      "Training:  56%|█████▌    | 159/284 [00:40<00:30,  4.12it/s]"
     ]
    },
    {
     "name": "stdout",
     "output_type": "stream",
     "text": [
      "✅ [DEBUG] image: <class 'torch.Tensor'> torch.Size([4, 96, 96, 96]) torch.float32\n",
      "✅ [DEBUG] label: <class 'torch.Tensor'> torch.Size([96, 96, 96]) torch.int64\n",
      "✅ [DEBUG] label unique: tensor([0, 1, 2])\n",
      "🧪 targets dtype: torch.int64\n",
      "🧪 targets unique: tensor([0, 1, 2], device='cuda:0')\n",
      "🧪 targets shape: torch.Size([1, 96, 96, 96])\n",
      "✅ [DEBUG] image: <class 'torch.Tensor'> torch.Size([4, 96, 96, 96]) torch.float32\n",
      "✅ [DEBUG] label: <class 'torch.Tensor'> torch.Size([96, 96, 96]) torch.int64\n",
      "✅ [DEBUG] label unique: tensor([0, 1, 2])\n"
     ]
    },
    {
     "name": "stderr",
     "output_type": "stream",
     "text": [
      "Training:  57%|█████▋    | 161/284 [00:41<00:32,  3.80it/s]"
     ]
    },
    {
     "name": "stdout",
     "output_type": "stream",
     "text": [
      "✅ [DEBUG] image: <class 'torch.Tensor'> torch.Size([4, 96, 96, 96]) torch.float32\n",
      "✅ [DEBUG] label: <class 'torch.Tensor'> torch.Size([96, 96, 96]) torch.int64\n",
      "🧪 targets dtype: torch.int64\n",
      "🧪 targets unique: tensor([0, 1, 2], device='cuda:0')\n",
      "🧪 targets shape: torch.Size([1, 96, 96, 96])\n",
      "🧪 targets dtype: torch.int64\n",
      "🧪 targets unique: tensor([0, 1, 2], device='cuda:0')\n",
      "🧪 targets shape: torch.Size([1, 96, 96, 96])\n",
      "🧪 targets dtype: torch.int64\n",
      "🧪 targets unique: tensor([0, 1, 2], device='cuda:0')\n",
      "🧪 targets shape: torch.Size([1, 96, 96, 96])\n",
      "✅ [DEBUG] image: <class 'torch.Tensor'>"
     ]
    },
    {
     "name": "stderr",
     "output_type": "stream",
     "text": [
      "Training:  57%|█████▋    | 163/284 [00:41<00:25,  4.82it/s]"
     ]
    },
    {
     "name": "stdout",
     "output_type": "stream",
     "text": [
      " torch.Size([4, 96, 96, 96]) torch.float32\n",
      "✅ [DEBUG] label: <class 'torch.Tensor'> torch.Size([96, 96, 96]) torch.int64\n",
      "✅ [DEBUG] label unique: tensor([0, 1, 2])\n",
      "✅ [DEBUG] label unique: tensor([0, 1, 2])\n",
      "✅ [DEBUG] image: <class 'torch.Tensor'> torch.Size([4, 96, 96, 96]) torch.float32\n",
      "✅ [DEBUG] label: <class 'torch.Tensor'> torch.Size([96, 96, 96]) torch.int64\n"
     ]
    },
    {
     "name": "stderr",
     "output_type": "stream",
     "text": [
      "Training:  58%|█████▊    | 164/284 [00:41<00:24,  4.89it/s]"
     ]
    },
    {
     "name": "stdout",
     "output_type": "stream",
     "text": [
      "✅ [DEBUG] label unique: tensor([0, 1, 2])\n",
      "🧪 targets dtype: torch.int64\n",
      "🧪 targets unique: tensor([0, 1, 2], device='cuda:0')\n",
      "🧪 targets shape: torch.Size([1, 96, 96, 96])\n",
      "✅ [DEBUG] image: <class 'torch.Tensor'> torch.Size([4, 96, 96, 96]) torch.float32\n",
      "✅ [DEBUG] label: <class 'torch.Tensor'> torch.Size([96, 96, 96]) torch.int64\n",
      "✅ [DEBUG] label unique: tensor([0, 1, 2])\n"
     ]
    },
    {
     "name": "stderr",
     "output_type": "stream",
     "text": [
      "Training:  58%|█████▊    | 165/284 [00:42<00:30,  3.87it/s]"
     ]
    },
    {
     "name": "stdout",
     "output_type": "stream",
     "text": [
      "🧪 targets dtype: torch.int64\n",
      "🧪 targets unique: tensor([0, 1, 2], device='cuda:0')\n",
      "🧪 targets shape: torch.Size([1, 96, 96, 96])\n",
      "🧪 targets dtype: torch.int64\n",
      "🧪 targets unique: tensor([0, 1, 2], device='cuda:0')\n",
      "🧪 targets shape: torch.Size([1, 96, 96, 96])\n",
      "🧪 targets dtype: torch.int64\n",
      "🧪 targets unique: tensor([0, 1, 2], device='cuda:0')\n",
      "🧪 targets shape: torch.Size([1, 96, 96, 96])\n"
     ]
    },
    {
     "name": "stderr",
     "output_type": "stream",
     "text": [
      "Training:  59%|█████▉    | 167/284 [00:42<00:22,  5.22it/s]"
     ]
    },
    {
     "name": "stdout",
     "output_type": "stream",
     "text": [
      "✅ [DEBUG] image: <class 'torch.Tensor'> torch.Size([4, 96, 96, 96]) torch.float32\n",
      "✅ [DEBUG] label: <class 'torch.Tensor'> torch.Size([96, 96, 96]) torch.int64\n",
      "✅ [DEBUG] image: <class 'torch.Tensor'> torch.Size([4, 96, 96, 96]) torch.float32\n",
      "✅ [DEBUG] label: <class 'torch.Tensor'> ✅ [DEBUG] label unique:torch.Size([96, 96, 96])  tensor([0, 1, 2])torch.int64\n",
      "\n",
      "✅ [DEBUG] label unique: tensor([0, 1, 2])\n"
     ]
    },
    {
     "name": "stderr",
     "output_type": "stream",
     "text": [
      "Training:  59%|█████▉    | 168/284 [00:42<00:29,  3.91it/s]"
     ]
    },
    {
     "name": "stdout",
     "output_type": "stream",
     "text": [
      "🧪 targets dtype: torch.int64\n",
      "🧪 targets unique: tensor([0, 1, 2], device='cuda:0')\n",
      "🧪 targets shape: torch.Size([1, 96, 96, 96])\n",
      "✅ [DEBUG] image: <class 'torch.Tensor'> torch.Size([4, 96, 96, 96]) torch.float32\n",
      "✅ [DEBUG] label: <class 'torch.Tensor'> torch.Size([96, 96, 96]) torch.int64\n",
      "✅ [DEBUG] label unique: tensor([0, 1, 2])\n",
      "✅ [DEBUG] image: <class 'torch.Tensor'> torch.Size([4, 96, 96, 96]) torch.float32\n",
      "✅ [DEBUG] label: <class 'torch.Tensor'> torch.Size([96, 96, 96]) torch.int64\n",
      "✅ [DEBUG] label unique: tensor([0, 1, 2])\n"
     ]
    },
    {
     "name": "stderr",
     "output_type": "stream",
     "text": [
      "Training:  60%|█████▉    | 170/284 [00:43<00:30,  3.74it/s]"
     ]
    },
    {
     "name": "stdout",
     "output_type": "stream",
     "text": [
      "🧪 targets dtype: torch.int64\n",
      "🧪 targets unique: tensor([0, 1, 2], device='cuda:0')\n",
      "🧪 targets shape: torch.Size([1, 96, 96, 96])\n",
      "🧪 targets dtype: torch.int64\n",
      "🧪 targets unique: tensor([0, 1, 2], device='cuda:0')\n",
      "🧪 targets shape: torch.Size([1, 96, 96, 96])\n",
      "✅ [DEBUG] image: <class 'torch.Tensor'> torch.Size([4, 96, 96, 96]) torch.float32\n",
      "✅ [DEBUG] label: <class 'torch.Tensor'> torch.Size([96, 96, 96]) torch.int64\n",
      "✅ [DEBUG] label unique: tensor([0, 1, 2])\n",
      "✅ [DEBUG] image: <class 'torch.Tensor'> torch.Size([4, 96, 96, 96]) torch.float32\n",
      "✅ [DEBUG] label: <class 'torch.Tensor'> torch.Size([96, 96, 96]) torch.int64\n",
      "✅ [DEBUG] label unique: tensor([0, 1, 2])\n",
      "🧪 targets dtype: torch.int64\n",
      "🧪 targets unique: tensor([0, 1, 2], device='cuda:0')\n",
      "🧪 targets shape: torch.Size([1, 96, 96, 96])\n"
     ]
    },
    {
     "name": "stderr",
     "output_type": "stream",
     "text": [
      "Training:  61%|██████    | 172/284 [00:43<00:26,  4.25it/s]"
     ]
    },
    {
     "name": "stdout",
     "output_type": "stream",
     "text": [
      "✅ [DEBUG] image: <class 'torch.Tensor'> torch.Size([4, 96, 96, 96]) torch.float32\n",
      "✅ [DEBUG] label: <class 'torch.Tensor'> torch.Size([96, 96, 96]) torch.int64\n",
      "🧪 targets dtype: torch.int64\n",
      "🧪 targets unique: tensor([0, 1, 2], device='cuda:0')\n",
      "🧪 targets shape: torch.Size([1, 96, 96, 96])\n",
      "✅ [DEBUG] label unique: tensor([0, 1, 2])\n"
     ]
    },
    {
     "name": "stderr",
     "output_type": "stream",
     "text": [
      "Training:  61%|██████    | 173/284 [00:44<00:29,  3.80it/s]"
     ]
    },
    {
     "name": "stdout",
     "output_type": "stream",
     "text": [
      "🧪 targets dtype: torch.int64\n",
      "🧪 targets unique: tensor([0, 1, 2], device='cuda:0')\n",
      "🧪 targets shape: torch.Size([1, 96, 96, 96])\n",
      "✅ [DEBUG] image: <class 'torch.Tensor'> torch.Size([4, 96, 96, 96]) torch.float32\n",
      "✅ [DEBUG] label: <class 'torch.Tensor'> torch.Size([96, 96, 96]) torch.int64\n",
      "✅ [DEBUG] image: <class 'torch.Tensor'> torch.Size([4, 96, 96, 96]) torch.float32\n",
      "✅ [DEBUG] label: <class 'torch.Tensor'> torch.Size([96, 96, 96]) torch.int64\n",
      "✅ [DEBUG] label unique: tensor([0, 1, 2])\n",
      "✅ [DEBUG] label unique: tensor([0, 1, 2])\n",
      "✅ [DEBUG] image: <class 'torch.Tensor'> torch.Size([4, 96, 96, 96]) torch.float32\n",
      "✅ [DEBUG] label: <class 'torch.Tensor'> torch.Size([96, 96, 96]) torch.int64\n"
     ]
    },
    {
     "name": "stderr",
     "output_type": "stream",
     "text": [
      "Training:  61%|██████▏   | 174/284 [00:44<00:33,  3.24it/s]"
     ]
    },
    {
     "name": "stdout",
     "output_type": "stream",
     "text": [
      "✅ [DEBUG] label unique: tensor([0, 1, 2])\n",
      "✅ [DEBUG] image: <class 'torch.Tensor'> torch.Size([4, 96, 96, 96]) torch.float32\n",
      "✅ [DEBUG] label: <class 'torch.Tensor'> torch.Size([96, 96, 96]) torch.int64\n",
      "🧪 targets dtype: torch.int64\n",
      "🧪 targets unique: tensor([0, 1, 2], device='cuda:0')\n",
      "🧪 targets shape: torch.Size([1, 96, 96, 96])\n",
      "🧪 targets dtype: torch.int64\n",
      "🧪 targets unique: tensor([0, 1, 2], device='cuda:0')\n",
      "🧪 targets shape: torch.Size([1, 96, 96, 96])\n"
     ]
    },
    {
     "name": "stderr",
     "output_type": "stream",
     "text": [
      "Training:  62%|██████▏   | 176/284 [00:44<00:24,  4.37it/s]"
     ]
    },
    {
     "name": "stdout",
     "output_type": "stream",
     "text": [
      "✅ [DEBUG] label unique: tensor([0, 1, 2])\n",
      "🧪 targets dtype: torch.int64\n",
      "🧪 targets unique: tensor([0, 1, 2], device='cuda:0')\n",
      "🧪 targets shape: torch.Size([1, 96, 96, 96])\n"
     ]
    },
    {
     "name": "stderr",
     "output_type": "stream",
     "text": [
      "Training:  62%|██████▏   | 177/284 [00:45<00:24,  4.39it/s]"
     ]
    },
    {
     "name": "stdout",
     "output_type": "stream",
     "text": [
      "🧪 targets dtype: torch.int64\n",
      "🧪 targets unique: tensor([0, 1, 2], device='cuda:0')\n",
      "🧪 targets shape: torch.Size([1, 96, 96, 96])\n",
      "✅ [DEBUG] image: <class 'torch.Tensor'> torch.Size([4, 96, 96, 96]) torch.float32\n",
      "✅ [DEBUG] label: <class 'torch.Tensor'> torch.Size([96, 96, 96]) torch.int64\n",
      "✅ [DEBUG] label unique: tensor([0, 1, 2])\n",
      "✅ [DEBUG] image: ✅ [DEBUG] image:<class 'torch.Tensor'>  <class 'torch.Tensor'>torch.Size([4, 96, 96, 96])  torch.float32torch.Size([4, 96, 96, 96])\n",
      " ✅ [DEBUG] label:torch.float32 \n",
      "<class 'torch.Tensor'>✅ [DEBUG] label:  torch.Size([96, 96, 96]) <class 'torch.Tensor'>torch.int64 \n",
      "torch.Size([96, 96, 96]) torch.int64\n"
     ]
    },
    {
     "name": "stderr",
     "output_type": "stream",
     "text": [
      "Training:  63%|██████▎   | 178/284 [00:45<00:29,  3.57it/s]"
     ]
    },
    {
     "name": "stdout",
     "output_type": "stream",
     "text": [
      "✅ [DEBUG] label unique: tensor([0, 1, 2])\n",
      "✅ [DEBUG] label unique: tensor([0, 1, 2])\n",
      "🧪 targets dtype: torch.int64\n",
      "🧪 targets unique: tensor([0, 1, 2], device='cuda:0')\n",
      "🧪 targets shape: torch.Size([1, 96, 96, 96])\n",
      "🧪 targets dtype: torch.int64\n",
      "🧪 targets unique: tensor([0, 1, 2], device='cuda:0')\n",
      "🧪 targets shape: torch.Size([1, 96, 96, 96])\n",
      "✅ [DEBUG] image: <class 'torch.Tensor'> torch.Size([4, 96, 96, 96]) torch.float32\n",
      "✅ [DEBUG] label: <class 'torch.Tensor'> torch.Size([96, 96, 96]) torch.int64\n"
     ]
    },
    {
     "name": "stderr",
     "output_type": "stream",
     "text": [
      "Training:  63%|██████▎   | 180/284 [00:45<00:22,  4.61it/s]"
     ]
    },
    {
     "name": "stdout",
     "output_type": "stream",
     "text": [
      "✅ [DEBUG] label unique: tensor([0, 1, 2])\n",
      "🧪 targets dtype: torch.int64\n",
      "🧪 targets unique: tensor([0, 1, 2], device='cuda:0')\n",
      "🧪 targets shape: torch.Size([1, 96, 96, 96])\n"
     ]
    },
    {
     "name": "stderr",
     "output_type": "stream",
     "text": [
      "Training:  64%|██████▎   | 181/284 [00:46<00:23,  4.31it/s]"
     ]
    },
    {
     "name": "stdout",
     "output_type": "stream",
     "text": [
      "✅ [DEBUG] image: <class 'torch.Tensor'> torch.Size([4, 96, 96, 96]) torch.float32\n",
      "✅ [DEBUG] label: <class 'torch.Tensor'> torch.Size([96, 96, 96]) torch.int64\n",
      "🧪 targets dtype: torch.int64\n",
      "🧪 targets unique: tensor([0, 1, 2], device='cuda:0')\n",
      "🧪 targets shape: torch.Size([1, 96, 96, 96])\n",
      "✅ [DEBUG] label unique: tensor([0, 1, 2])\n"
     ]
    },
    {
     "name": "stderr",
     "output_type": "stream",
     "text": [
      "Training:  64%|██████▍   | 183/284 [00:46<00:22,  4.47it/s]"
     ]
    },
    {
     "name": "stdout",
     "output_type": "stream",
     "text": [
      "🧪 targets dtype: torch.int64\n",
      "🧪 targets unique: tensor([0, 1, 2], device='cuda:0')\n",
      "🧪 targets shape: torch.Size([1, 96, 96, 96])\n",
      "🧪 targets dtype: torch.int64\n",
      "🧪 targets unique: tensor([0, 1, 2], device='cuda:0')\n",
      "🧪 targets shape: torch.Size([1, 96, 96, 96])\n",
      "✅ [DEBUG] image: <class 'torch.Tensor'> torch.Size([4, 96, 96, 96]) torch.float32\n",
      "✅ [DEBUG] label: <class 'torch.Tensor'> torch.Size([96, 96, 96]) torch.int64\n",
      "✅ [DEBUG] label unique: tensor([0, 1, 2])\n",
      "✅ [DEBUG] image: <class 'torch.Tensor'> torch.Size([4, 96, 96, 96]) torch.float32\n",
      "✅ [DEBUG] label: <class 'torch.Tensor'> torch.Size([96, 96, 96]) torch.int64\n",
      "✅ [DEBUG] label unique: tensor([0, 1, 2])\n"
     ]
    },
    {
     "name": "stderr",
     "output_type": "stream",
     "text": [
      "Training:  65%|██████▍   | 184/284 [00:46<00:29,  3.34it/s]"
     ]
    },
    {
     "name": "stdout",
     "output_type": "stream",
     "text": [
      "✅ [DEBUG] image: <class 'torch.Tensor'> torch.Size([4, 96, 96, 96]) torch.float32\n",
      "✅ [DEBUG] label: <class 'torch.Tensor'> torch.Size([96, 96, 96]) torch.int64\n",
      "🧪 targets dtype: torch.int64\n",
      "🧪 targets unique: tensor([0, 1, 2], device='cuda:0')\n",
      "🧪 targets shape: torch.Size([1, 96, 96, 96])\n",
      "✅ [DEBUG] image: <class 'torch.Tensor'> torch.Size([4, 96, 96, 96]) torch.float32\n",
      "✅ [DEBUG] label: <class 'torch.Tensor'> torch.Size([96, 96, 96]) torch.int64\n",
      "✅ [DEBUG] label unique: tensor([0, 1, 2])\n",
      "✅ [DEBUG] label unique: tensor([0, 1, 2])\n"
     ]
    },
    {
     "name": "stderr",
     "output_type": "stream",
     "text": [
      "Training:  65%|██████▌   | 186/284 [00:47<00:24,  3.96it/s]"
     ]
    },
    {
     "name": "stdout",
     "output_type": "stream",
     "text": [
      "🧪 targets dtype: torch.int64\n",
      "🧪 targets unique: tensor([0, 1, 2], device='cuda:0')\n",
      "🧪 targets shape: torch.Size([1, 96, 96, 96])\n",
      "🧪 targets dtype: torch.int64\n",
      "🧪 targets unique: tensor([0, 1, 2], device='cuda:0')\n",
      "🧪 targets shape: torch.Size([1, 96, 96, 96])\n",
      "🧪 targets dtype: torch.int64\n",
      "🧪 targets unique: tensor([0, 1, 2], device='cuda:0')\n",
      "🧪 targets shape: torch.Size([1, 96, 96, 96])\n",
      "✅ [DEBUG] image: <class 'torch.Tensor'> torch.Size([4, 96, 96, 96]) torch.float32\n",
      "✅ [DEBUG] label: <class 'torch.Tensor'> torch.Size([96, 96, 96]) torch.int64\n",
      "✅ [DEBUG] label unique: tensor([0, 2])\n",
      "✅ [DEBUG] image: <class 'torch.Tensor'> torch.Size([4, 96, 96, 96]) torch.float32\n",
      "✅ [DEBUG] label: <class 'torch.Tensor'> torch.Size([96, 96, 96]) torch.int64\n",
      "✅ [DEBUG] label unique: tensor([0, 1, 2])\n"
     ]
    },
    {
     "name": "stderr",
     "output_type": "stream",
     "text": [
      "Training:  66%|██████▌   | 188/284 [00:47<00:25,  3.78it/s]"
     ]
    },
    {
     "name": "stdout",
     "output_type": "stream",
     "text": [
      "✅ [DEBUG] image: <class 'torch.Tensor'> torch.Size([4, 96, 96, 96]) torch.float32\n",
      "✅ [DEBUG] label: <class 'torch.Tensor'> torch.Size([96, 96, 96]) torch.int64\n",
      "🧪 targets dtype: torch.int64\n",
      "🧪 targets unique: tensor([0, 1, 2], device='cuda:0')\n",
      "🧪 targets shape: torch.Size([1, 96, 96, 96])\n",
      "✅ [DEBUG] label unique: tensor([0, 1, 2])\n"
     ]
    },
    {
     "name": "stderr",
     "output_type": "stream",
     "text": [
      "Training:  67%|██████▋   | 189/284 [00:48<00:27,  3.44it/s]"
     ]
    },
    {
     "name": "stdout",
     "output_type": "stream",
     "text": [
      "✅ [DEBUG] image: <class 'torch.Tensor'> torch.Size([4, 96, 96, 96]) torch.float32\n",
      "✅ [DEBUG] label: <class 'torch.Tensor'> torch.Size([96, 96, 96]) torch.int64\n",
      "✅ [DEBUG] label unique: tensor([0, 1, 2])\n",
      "🧪 targets dtype: torch.int64\n",
      "🧪 targets unique: tensor([0, 1, 2], device='cuda:0')\n",
      "🧪 targets shape: torch.Size([1, 96, 96, 96])\n",
      "✅ [DEBUG] image: <class 'torch.Tensor'> torch.Size([4, 96, 96, 96]) torch.float32\n",
      "✅ [DEBUG] label: <class 'torch.Tensor'> torch.Size([96, 96, 96]) torch.int64\n"
     ]
    },
    {
     "name": "stderr",
     "output_type": "stream",
     "text": [
      "Training:  67%|██████▋   | 190/284 [00:48<00:27,  3.44it/s]"
     ]
    },
    {
     "name": "stdout",
     "output_type": "stream",
     "text": [
      "✅ [DEBUG] label unique: tensor([0, 1, 2])\n",
      "🧪 targets dtype: torch.int64\n",
      "🧪 targets unique: tensor([0, 1, 2], device='cuda:0')\n",
      "🧪 targets shape: torch.Size([1, 96, 96, 96])\n",
      "🧪 targets dtype: torch.int64\n",
      "🧪 targets unique: tensor([0, 2], device='cuda:0')\n",
      "🧪 targets shape: torch.Size([1, 96, 96, 96])\n",
      "✅ [DEBUG] image: <class 'torch.Tensor'> torch.Size([4, 96, 96, 96]) torch.float32\n",
      "✅ [DEBUG] label: <class 'torch.Tensor'> torch.Size([96, 96, 96]) torch.int64\n",
      "✅ [DEBUG] image: <class 'torch.Tensor'> torch.Size([4, 96, 96, 96]) torch.float32\n",
      "✅ [DEBUG] label: <class 'torch.Tensor'> torch.Size([96, 96, 96]) torch.int64\n",
      "✅ [DEBUG] label unique: tensor([0, 1, 2])\n",
      "✅ [DEBUG] label unique: tensor([0, 1, 2])\n"
     ]
    },
    {
     "name": "stderr",
     "output_type": "stream",
     "text": [
      "Training:  68%|██████▊   | 192/284 [00:49<00:26,  3.47it/s]"
     ]
    },
    {
     "name": "stdout",
     "output_type": "stream",
     "text": [
      "✅ [DEBUG] image: <class 'torch.Tensor'> torch.Size([4, 96, 96, 96]) torch.float32\n",
      "✅ [DEBUG] label: <class 'torch.Tensor'> torch.Size([96, 96, 96]) torch.int64\n",
      "🧪 targets dtype: torch.int64\n",
      "🧪 targets unique: tensor([0, 1, 2], device='cuda:0')\n",
      "🧪 targets shape: torch.Size([1, 96, 96, 96])\n",
      "🧪 targets dtype: torch.int64\n",
      "🧪 targets unique: tensor([0, 1, 2], device='cuda:0')\n",
      "🧪 targets shape: torch.Size([1, 96, 96, 96])\n",
      "✅ [DEBUG] label unique: tensor([0, 1, 2])\n"
     ]
    },
    {
     "name": "stderr",
     "output_type": "stream",
     "text": [
      "Training:  68%|██████▊   | 194/284 [00:49<00:22,  3.97it/s]"
     ]
    },
    {
     "name": "stdout",
     "output_type": "stream",
     "text": [
      "✅ [DEBUG] image: <class 'torch.Tensor'> torch.Size([4, 96, 96, 96]) torch.float32\n",
      "✅ [DEBUG] label: <class 'torch.Tensor'> torch.Size([96, 96, 96]) torch.int64\n",
      "✅ [DEBUG] label unique: tensor([0, 1, 2])\n"
     ]
    },
    {
     "name": "stderr",
     "output_type": "stream",
     "text": [
      "Training:  69%|██████▊   | 195/284 [00:49<00:19,  4.49it/s]"
     ]
    },
    {
     "name": "stdout",
     "output_type": "stream",
     "text": [
      "🧪 targets dtype: torch.int64\n",
      "🧪 targets unique: tensor([0, 1, 2], device='cuda:0')\n",
      "🧪 targets shape: torch.Size([1, 96, 96, 96])\n",
      "🧪 targets dtype: torch.int64\n",
      "🧪 targets unique: tensor([0, 1, 2], device='cuda:0')\n",
      "🧪 targets shape: torch.Size([1, 96, 96, 96])\n",
      "✅ [DEBUG] image: <class 'torch.Tensor'> torch.Size([4, 96, 96, 96]) torch.float32\n",
      "✅ [DEBUG] label: <class 'torch.Tensor'> torch.Size([96, 96, 96]) torch.int64\n",
      "✅ [DEBUG] label unique: tensor([0, 1, 2])\n",
      "✅ [DEBUG] image: <class 'torch.Tensor'> torch.Size([4, 96, 96, 96]) torch.float32\n",
      "✅ [DEBUG] label: <class 'torch.Tensor'> torch.Size([96, 96, 96]) torch.int64\n"
     ]
    },
    {
     "name": "stderr",
     "output_type": "stream",
     "text": [
      "Training:  69%|██████▉   | 196/284 [00:50<00:23,  3.69it/s]"
     ]
    },
    {
     "name": "stdout",
     "output_type": "stream",
     "text": [
      "✅ [DEBUG] label unique: tensor([0, 1, 2])\n",
      "🧪 targets dtype: torch.int64\n",
      "🧪 targets unique: tensor([0, 1, 2], device='cuda:0')\n",
      "🧪 targets shape: torch.Size([1, 96, 96, 96])\n",
      "🧪 targets dtype: torch.int64\n",
      "🧪 targets unique: tensor([0, 1, 2], device='cuda:0')\n",
      "🧪 targets shape: torch.Size([1, 96, 96, 96])\n"
     ]
    },
    {
     "name": "stderr",
     "output_type": "stream",
     "text": [
      "Training:  69%|██████▉   | 197/284 [00:50<00:21,  4.07it/s]"
     ]
    },
    {
     "name": "stdout",
     "output_type": "stream",
     "text": [
      "✅ [DEBUG] image: <class 'torch.Tensor'> torch.Size([4, 96, 96, 96]) torch.float32\n",
      "✅ [DEBUG] label: <class 'torch.Tensor'> torch.Size([96, 96, 96]) torch.int64\n",
      "✅ [DEBUG] image: <class 'torch.Tensor'> torch.Size([4, 96, 96, 96]) torch.float32\n",
      "✅ [DEBUG] label: <class 'torch.Tensor'> torch.Size([96, 96, 96]) torch.int64\n",
      "✅ [DEBUG] label unique: tensor([0, 1, 2])\n",
      "✅ [DEBUG] label unique: tensor([0, 1, 2])\n",
      "✅ [DEBUG] image: <class 'torch.Tensor'> torch.Size([4, 96, 96, 96]) torch.float32\n",
      "✅ [DEBUG] label: <class 'torch.Tensor'> torch.Size([96, 96, 96]) torch.int64\n"
     ]
    },
    {
     "name": "stderr",
     "output_type": "stream",
     "text": [
      "Training:  70%|██████▉   | 198/284 [00:50<00:25,  3.42it/s]"
     ]
    },
    {
     "name": "stdout",
     "output_type": "stream",
     "text": [
      "✅ [DEBUG] label unique: tensor([0, 1, 2])\n",
      "🧪 targets dtype: torch.int64\n",
      "🧪 targets unique: tensor([0, 1, 2], device='cuda:0')\n",
      "🧪 targets shape: torch.Size([1, 96, 96, 96])\n",
      "🧪 targets dtype: torch.int64\n",
      "🧪 targets unique: tensor([0, 1, 2], device='cuda:0')\n",
      "🧪 targets shape: torch.Size([1, 96, 96, 96])\n"
     ]
    },
    {
     "name": "stderr",
     "output_type": "stream",
     "text": [
      "Training:  70%|███████   | 200/284 [00:51<00:18,  4.43it/s]"
     ]
    },
    {
     "name": "stdout",
     "output_type": "stream",
     "text": [
      "✅ [DEBUG] image: <class 'torch.Tensor'> torch.Size([4, 96, 96, 96]) torch.float32\n",
      "✅ [DEBUG] label: <class 'torch.Tensor'> torch.Size([96, 96, 96]) torch.int64\n",
      "🧪 targets dtype: torch.int64\n",
      "🧪 targets unique: tensor([0, 1, 2], device='cuda:0')\n",
      "🧪 targets shape: torch.Size([1, 96, 96, 96])\n",
      "✅ [DEBUG] label unique: tensor([0, 1, 2])\n"
     ]
    },
    {
     "name": "stderr",
     "output_type": "stream",
     "text": [
      "Training:  71%|███████   | 201/284 [00:51<00:20,  4.07it/s]"
     ]
    },
    {
     "name": "stdout",
     "output_type": "stream",
     "text": [
      "✅ [DEBUG] image: <class 'torch.Tensor'> torch.Size([4, 96, 96, 96]) torch.float32\n",
      "✅ [DEBUG] label: <class 'torch.Tensor'> torch.Size([96, 96, 96]) torch.int64\n",
      "✅ [DEBUG] label unique: tensor([0, 1, 2])\n",
      "🧪 targets dtype: torch.int64\n",
      "🧪 targets unique: tensor([0, 1, 2], device='cuda:0')\n",
      "🧪 targets shape: torch.Size([1, 96, 96, 96])\n"
     ]
    },
    {
     "name": "stderr",
     "output_type": "stream",
     "text": [
      "Training:  71%|███████   | 202/284 [00:51<00:20,  4.00it/s]"
     ]
    },
    {
     "name": "stdout",
     "output_type": "stream",
     "text": [
      "✅ [DEBUG] image: <class 'torch.Tensor'> torch.Size([4, 96, 96, 96]) torch.float32\n",
      "✅ [DEBUG] label: <class 'torch.Tensor'> torch.Size([96, 96, 96]) torch.int64\n",
      "✅ [DEBUG] label unique: tensor([0, 1, 2])\n",
      "✅ [DEBUG] image: <class 'torch.Tensor'> torch.Size([4, 96, 96, 96]) torch.float32\n",
      "✅ [DEBUG] label: <class 'torch.Tensor'> torch.Size([96, 96, 96]) torch.int64🧪 targets dtype: torch.int64\n",
      "🧪 targets unique: tensor([0, 1, 2], device='cuda:0')\n",
      "🧪 targets shape: torch.Size([1, 96, 96, 96])\n",
      "🧪 targets dtype: torch.int64\n",
      "🧪 targets unique: tensor([0, 1, 2], device='cuda:0')\n",
      "🧪 targets shape: torch.Size([1, 96, 96, 96])\n",
      "\n",
      "✅ [DEBUG] label unique: tensor([0, 1, 2])\n"
     ]
    },
    {
     "name": "stderr",
     "output_type": "stream",
     "text": [
      "Training:  72%|███████▏  | 204/284 [00:52<00:19,  4.19it/s]"
     ]
    },
    {
     "name": "stdout",
     "output_type": "stream",
     "text": [
      "🧪 targets dtype: torch.int64\n",
      "🧪 targets unique: tensor([0, 1, 2], device='cuda:0')\n",
      "🧪 targets shape: torch.Size([1, 96, 96, 96])\n",
      "✅ [DEBUG] image: <class 'torch.Tensor'> torch.Size([4, 96, 96, 96]) torch.float32\n",
      "✅ [DEBUG] label: <class 'torch.Tensor'> torch.Size([96, 96, 96]) torch.int64\n",
      "✅ [DEBUG] label unique: tensor([0, 2])\n",
      "✅ [DEBUG] image: <class 'torch.Tensor'> torch.Size([4, 96, 96, 96]) torch.float32\n",
      "✅ [DEBUG] label: ✅ [DEBUG] image:<class 'torch.Tensor'>  <class 'torch.Tensor'>torch.Size([96, 96, 96])  torch.Size([4, 96, 96, 96])torch.int64 \n",
      "torch.float32\n",
      "✅ [DEBUG] label: <class 'torch.Tensor'> torch.Size([96, 96, 96]) torch.int64\n"
     ]
    },
    {
     "name": "stderr",
     "output_type": "stream",
     "text": [
      "Training:  72%|███████▏  | 205/284 [00:52<00:23,  3.43it/s]"
     ]
    },
    {
     "name": "stdout",
     "output_type": "stream",
     "text": [
      "✅ [DEBUG] label unique: tensor([0, 1, 2])\n",
      "✅ [DEBUG] label unique: tensor([0, 2])\n",
      "🧪 targets dtype: torch.int64\n",
      "🧪 targets unique: tensor([0, 2], device='cuda:0')\n",
      "🧪 targets shape: torch.Size([1, 96, 96, 96])\n",
      "🧪 targets dtype: torch.int64\n",
      "🧪 targets unique: tensor([0, 2], device='cuda:0')\n",
      "🧪 targets shape: torch.Size([1, 96, 96, 96])\n",
      "✅ [DEBUG] image: <class 'torch.Tensor'> torch.Size([4, 96, 96, 96]) torch.float32\n",
      "✅ [DEBUG] label: <class 'torch.Tensor'> torch.Size([96, 96, 96]) torch.int64\n"
     ]
    },
    {
     "name": "stderr",
     "output_type": "stream",
     "text": [
      "Training:  73%|███████▎  | 206/284 [00:52<00:20,  3.80it/s]"
     ]
    },
    {
     "name": "stdout",
     "output_type": "stream",
     "text": [
      "✅ [DEBUG] label unique: tensor([0, 1, 2])\n",
      "🧪 targets dtype: torch.int64\n",
      "🧪 targets unique: tensor([0, 1, 2], device='cuda:0')\n",
      "🧪 targets shape: torch.Size([1, 96, 96, 96])\n"
     ]
    },
    {
     "name": "stderr",
     "output_type": "stream",
     "text": [
      "Training:  73%|███████▎  | 208/284 [00:52<00:16,  4.62it/s]"
     ]
    },
    {
     "name": "stdout",
     "output_type": "stream",
     "text": [
      "🧪 targets dtype: torch.int64\n",
      "🧪 targets unique: tensor([0, 1, 2], device='cuda:0')\n",
      "🧪 targets shape: torch.Size([1, 96, 96, 96])\n",
      "✅ [DEBUG] image: <class 'torch.Tensor'> torch.Size([4, 96, 96, 96]) torch.float32\n",
      "✅ [DEBUG] label: <class 'torch.Tensor'> torch.Size([96, 96, 96]) torch.int64\n",
      "✅ [DEBUG] label unique: tensor([0, 1, 2])\n",
      "✅ [DEBUG] image: <class 'torch.Tensor'> torch.Size([4, 96, 96, 96]) torch.float32\n",
      "✅ [DEBUG] label: <class 'torch.Tensor'> torch.Size([96, 96, 96]) torch.int64\n"
     ]
    },
    {
     "name": "stderr",
     "output_type": "stream",
     "text": [
      "Training:  74%|███████▎  | 209/284 [00:53<00:20,  3.71it/s]"
     ]
    },
    {
     "name": "stdout",
     "output_type": "stream",
     "text": [
      "✅ [DEBUG] label unique: tensor([0, 1, 2])\n",
      "🧪 targets dtype: torch.int64\n",
      "🧪 targets unique: tensor([0, 1, 2], device='cuda:0')\n",
      "🧪 targets shape: torch.Size([1, 96, 96, 96])\n",
      "🧪 targets dtype: torch.int64\n",
      "🧪 targets unique: tensor([0, 1, 2], device='cuda:0')\n",
      "🧪 targets shape: torch.Size([1, 96, 96, 96])\n"
     ]
    },
    {
     "name": "stderr",
     "output_type": "stream",
     "text": [
      "Training:  74%|███████▍  | 210/284 [00:53<00:18,  4.04it/s]"
     ]
    },
    {
     "name": "stdout",
     "output_type": "stream",
     "text": [
      "✅ [DEBUG] image: <class 'torch.Tensor'> torch.Size([4, 96, 96, 96]) torch.float32\n",
      "✅ [DEBUG] label: <class 'torch.Tensor'> torch.Size([96, 96, 96]) torch.int64\n",
      "🧪 targets dtype: torch.int64\n",
      "🧪 targets unique: tensor([0, 1, 2], device='cuda:0')\n",
      "🧪 targets shape: torch.Size([1, 96, 96, 96])\n",
      "✅ [DEBUG] label unique: tensor([0, 1, 2])\n",
      "✅ [DEBUG] image: <class 'torch.Tensor'> torch.Size([4, 96, 96, 96]) torch.float32\n",
      "✅ [DEBUG] label: <class 'torch.Tensor'> torch.Size([96, 96, 96]) torch.int64\n",
      "✅ [DEBUG] image: <class 'torch.Tensor'> torch.Size([4, 96, 96, 96]) torch.float32\n",
      "✅ [DEBUG] label: <class 'torch.Tensor'> torch.Size([96, 96, 96]) ✅ [DEBUG] label unique:torch.int64 \n",
      "tensor([0, 1, 2])\n",
      "✅ [DEBUG] label unique: tensor([0, 1, 2])\n"
     ]
    },
    {
     "name": "stderr",
     "output_type": "stream",
     "text": [
      "Training:  75%|███████▍  | 212/284 [00:54<00:18,  3.79it/s]"
     ]
    },
    {
     "name": "stdout",
     "output_type": "stream",
     "text": [
      "✅ [DEBUG] image: <class 'torch.Tensor'> torch.Size([4, 96, 96, 96]) torch.float32\n",
      "✅ [DEBUG] label: <class 'torch.Tensor'> torch.Size([96, 96, 96]) torch.int64\n",
      "🧪 targets dtype: torch.int64\n",
      "🧪 targets unique: tensor([0, 1, 2], device='cuda:0')\n",
      "🧪 targets shape: torch.Size([1, 96, 96, 96])\n",
      "🧪 targets dtype: torch.int64\n",
      "🧪 targets unique: tensor([0, 1, 2], device='cuda:0')\n",
      "🧪 targets shape: torch.Size([1, 96, 96, 96])\n",
      "✅ [DEBUG] label unique: tensor([0, 1, 2])\n"
     ]
    },
    {
     "name": "stderr",
     "output_type": "stream",
     "text": [
      "Training:  75%|███████▌  | 214/284 [00:54<00:15,  4.47it/s]"
     ]
    },
    {
     "name": "stdout",
     "output_type": "stream",
     "text": [
      "✅ [DEBUG] image: <class 'torch.Tensor'> torch.Size([4, 96, 96, 96]) torch.float32\n",
      "✅ [DEBUG] label: <class 'torch.Tensor'> torch.Size([96, 96, 96]) torch.int64\n",
      "🧪 targets dtype: torch.int64\n",
      "🧪 targets unique: tensor([0, 1, 2], device='cuda:0')\n",
      "🧪 targets shape: torch.Size([1, 96, 96, 96])\n",
      "🧪 targets dtype: torch.int64\n",
      "🧪 targets unique: tensor([0, 1, 2], device='cuda:0')\n",
      "🧪 targets shape: torch.Size([1, 96, 96, 96])\n",
      "✅ [DEBUG] label unique: tensor([0, 1, 2])\n",
      "✅ [DEBUG] image: <class 'torch.Tensor'> torch.Size([4, 96, 96, 96]) torch.float32\n",
      "✅ [DEBUG] label: <class 'torch.Tensor'> torch.Size([96, 96, 96]) torch.int64\n",
      "✅ [DEBUG] label unique: ✅ [DEBUG] image:tensor([0, 1, 2]) \n",
      "<class 'torch.Tensor'> torch.Size([4, 96, 96, 96]) torch.float32\n",
      "✅ [DEBUG] label: <class 'torch.Tensor'> torch.Size([96, 96, 96]) torch.int64\n",
      "✅ [DEBUG] label unique: tensor([0, 1, 2])\n"
     ]
    },
    {
     "name": "stderr",
     "output_type": "stream",
     "text": [
      "Training:  76%|███████▋  | 217/284 [00:55<00:16,  4.05it/s]"
     ]
    },
    {
     "name": "stdout",
     "output_type": "stream",
     "text": [
      "✅ [DEBUG] image: <class 'torch.Tensor'> torch.Size([4, 96, 96, 96]) torch.float32\n",
      "✅ [DEBUG] label: <class 'torch.Tensor'> torch.Size([96, 96, 96]) torch.int64\n",
      "🧪 targets dtype: torch.int64\n",
      "🧪 targets unique: tensor([0, 1, 2], device='cuda:0')\n",
      "🧪 targets shape: torch.Size([1, 96, 96, 96])\n",
      "🧪 targets dtype: torch.int64\n",
      "🧪 targets unique: tensor([0, 1, 2], device='cuda:0')\n",
      "🧪 targets shape: torch.Size([1, 96, 96, 96])\n",
      "✅ [DEBUG] label unique: tensor([0, 1, 2])\n",
      "✅ [DEBUG] image: <class 'torch.Tensor'> torch.Size([4, 96, 96, 96]) torch.float32\n",
      "✅ [DEBUG] label: <class 'torch.Tensor'> torch.Size([96, 96, 96]) torch.int64\n"
     ]
    },
    {
     "name": "stderr",
     "output_type": "stream",
     "text": [
      "Training:  77%|███████▋  | 218/284 [00:55<00:16,  4.06it/s]"
     ]
    },
    {
     "name": "stdout",
     "output_type": "stream",
     "text": [
      "✅ [DEBUG] label unique: tensor([0, 1, 2])\n",
      "🧪 targets dtype: torch.int64\n",
      "🧪 targets unique: tensor([0, 1, 2], device='cuda:0')\n",
      "🧪 targets shape: torch.Size([1, 96, 96, 96])\n",
      "🧪 targets dtype: torch.int64\n",
      "🧪 targets unique: tensor([0, 1, 2], device='cuda:0')\n",
      "🧪 targets shape: torch.Size([1, 96, 96, 96])\n",
      "✅ [DEBUG] image: <class 'torch.Tensor'> torch.Size([4, 96, 96, 96]) torch.float32\n",
      "✅ [DEBUG] label: <class 'torch.Tensor'> torch.Size([96, 96, 96]) torch.int64\n",
      "✅ [DEBUG] label unique: tensor([0, 1, 2])\n",
      "✅ [DEBUG] image: <class 'torch.Tensor'> torch.Size([4, 96, 96, 96]) torch.float32\n",
      "✅ [DEBUG] label: <class 'torch.Tensor'> torch.Size([96, 96, 96]) torch.int64\n",
      "✅ [DEBUG] label unique: tensor([0, 1, 2])"
     ]
    },
    {
     "name": "stderr",
     "output_type": "stream",
     "text": [
      "Training:  77%|███████▋  | 220/284 [00:56<00:17,  3.71it/s]"
     ]
    },
    {
     "name": "stdout",
     "output_type": "stream",
     "text": [
      "\n"
     ]
    },
    {
     "name": "stderr",
     "output_type": "stream",
     "text": [
      "Training:  78%|███████▊  | 221/284 [00:56<00:15,  4.13it/s]"
     ]
    },
    {
     "name": "stdout",
     "output_type": "stream",
     "text": [
      "🧪 targets dtype: torch.int64\n",
      "🧪 targets unique: tensor([0, 1, 2], device='cuda:0')\n",
      "🧪 targets shape: torch.Size([1, 96, 96, 96])\n",
      "🧪 targets dtype: torch.int64\n",
      "🧪 targets unique: tensor([0, 1, 2], device='cuda:0')\n",
      "🧪 targets shape: torch.Size([1, 96, 96, 96])\n",
      "✅ [DEBUG] image: <class 'torch.Tensor'> torch.Size([4, 96, 96, 96]) torch.float32\n",
      "✅ [DEBUG] label: <class 'torch.Tensor'> torch.Size([96, 96, 96]) torch.int64\n",
      "✅ [DEBUG] image: <class 'torch.Tensor'> torch.Size([4, 96, 96, 96]) torch.float32\n",
      "✅ [DEBUG] label: <class 'torch.Tensor'> torch.Size([96, 96, 96]) torch.int64\n",
      "✅ [DEBUG] label unique: tensor([0, 1, 2])\n",
      "✅ [DEBUG] label unique: tensor([0, 1, 2])\n",
      "✅ [DEBUG] image: <class 'torch.Tensor'> torch.Size([4, 96, 96, 96]) torch.float32\n",
      "✅ [DEBUG] label: <class 'torch.Tensor'> torch.Size([96, 96, 96]) torch.int64\n"
     ]
    },
    {
     "name": "stderr",
     "output_type": "stream",
     "text": [
      "Training:  78%|███████▊  | 222/284 [00:56<00:17,  3.55it/s]"
     ]
    },
    {
     "name": "stdout",
     "output_type": "stream",
     "text": [
      "✅ [DEBUG] label unique: tensor([0, 1, 2])\n",
      "🧪 targets dtype: torch.int64\n",
      "🧪 targets unique: tensor([0, 1, 2], device='cuda:0')\n",
      "🧪 targets shape: torch.Size([1, 96, 96, 96])\n",
      "🧪 targets dtype: torch.int64\n",
      "🧪 targets unique: tensor([0, 1, 2], device='cuda:0')\n",
      "🧪 targets shape: torch.Size([1, 96, 96, 96])\n",
      "✅ [DEBUG] image: <class 'torch.Tensor'> torch.Size([4, 96, 96, 96]) torch.float32\n",
      "✅ [DEBUG] label: <class 'torch.Tensor'> torch.Size([96, 96, 96]) torch.int64\n"
     ]
    },
    {
     "name": "stderr",
     "output_type": "stream",
     "text": [
      "Training:  79%|███████▉  | 224/284 [00:57<00:13,  4.45it/s]"
     ]
    },
    {
     "name": "stdout",
     "output_type": "stream",
     "text": [
      "✅ [DEBUG] label unique: tensor([0, 1, 2])\n",
      "🧪 targets dtype: torch.int64\n",
      "🧪 targets unique: tensor([0, 1, 2], device='cuda:0')\n",
      "🧪 targets shape: torch.Size([1, 96, 96, 96])\n"
     ]
    },
    {
     "name": "stderr",
     "output_type": "stream",
     "text": [
      "Training:  79%|███████▉  | 225/284 [00:57<00:12,  4.58it/s]"
     ]
    },
    {
     "name": "stdout",
     "output_type": "stream",
     "text": [
      "🧪 targets dtype: torch.int64\n",
      "🧪 targets unique: tensor([0, 1, 2], device='cuda:0')\n",
      "🧪 targets shape: torch.Size([1, 96, 96, 96])\n",
      "✅ [DEBUG] image: <class 'torch.Tensor'> torch.Size([4, 96, 96, 96]) torch.float32\n",
      "✅ [DEBUG] label: <class 'torch.Tensor'> torch.Size([96, 96, 96]) torch.int64\n",
      "✅ [DEBUG] label unique: tensor([0, 1, 2])\n",
      "✅ [DEBUG] image: <class 'torch.Tensor'> torch.Size([4, 96, 96, 96]) torch.float32\n",
      "✅ [DEBUG] label: <class 'torch.Tensor'> torch.Size([96, 96, 96]) torch.int64\n"
     ]
    },
    {
     "name": "stderr",
     "output_type": "stream",
     "text": [
      "Training:  80%|███████▉  | 226/284 [00:57<00:15,  3.78it/s]"
     ]
    },
    {
     "name": "stdout",
     "output_type": "stream",
     "text": [
      "✅ [DEBUG] label unique: tensor([0, 1, 2])\n",
      "🧪 targets dtype: torch.int64\n",
      "🧪 targets unique: tensor([0, 1, 2], device='cuda:0')\n",
      "🧪 targets shape: torch.Size([1, 96, 96, 96])\n",
      "🧪 targets dtype: torch.int64\n",
      "🧪 targets unique: tensor([0, 1, 2], device='cuda:0')\n",
      "🧪 targets shape: torch.Size([1, 96, 96, 96])\n",
      "✅ [DEBUG] image: <class 'torch.Tensor'> torch.Size([4, 96, 96, 96]) torch.float32\n",
      "✅ [DEBUG] label: <class 'torch.Tensor'> torch.Size([96, 96, 96]) torch.int64\n",
      "✅ [DEBUG] label unique: tensor([0, 1, 2])\n",
      "✅ [DEBUG] image: <class 'torch.Tensor'> torch.Size([4, 96, 96, 96]) torch.float32\n",
      "✅ [DEBUG] label: <class 'torch.Tensor'> torch.Size([96, 96, 96]) torch.int64\n"
     ]
    },
    {
     "name": "stderr",
     "output_type": "stream",
     "text": [
      "Training:  80%|████████  | 228/284 [00:58<00:14,  3.92it/s]"
     ]
    },
    {
     "name": "stdout",
     "output_type": "stream",
     "text": [
      "✅ [DEBUG] label unique: tensor([0, 1, 2])\n",
      "🧪 targets dtype: torch.int64\n",
      "🧪 targets unique: tensor([0, 1, 2], device='cuda:0')\n",
      "🧪 targets shape: torch.Size([1, 96, 96, 96])\n"
     ]
    },
    {
     "name": "stderr",
     "output_type": "stream",
     "text": [
      "Training:  81%|████████  | 229/284 [00:58<00:13,  4.02it/s]"
     ]
    },
    {
     "name": "stdout",
     "output_type": "stream",
     "text": [
      "✅ [DEBUG] image: <class 'torch.Tensor'> torch.Size([4, 96, 96, 96]) torch.float32\n",
      "✅ [DEBUG] label: <class 'torch.Tensor'> torch.Size([96, 96, 96]) torch.int64\n",
      "🧪 targets dtype: torch.int64\n",
      "🧪 targets unique: tensor([0, 1, 2], device='cuda:0')\n",
      "🧪 targets shape: torch.Size([1, 96, 96, 96])\n",
      "✅ [DEBUG] label unique: tensor([0, 1, 2])\n"
     ]
    },
    {
     "name": "stderr",
     "output_type": "stream",
     "text": [
      "Training:  81%|████████  | 230/284 [00:58<00:14,  3.82it/s]"
     ]
    },
    {
     "name": "stdout",
     "output_type": "stream",
     "text": [
      "✅ [DEBUG] image: <class 'torch.Tensor'> torch.Size([4, 96, 96, 96]) torch.float32\n",
      "✅ [DEBUG] label: <class 'torch.Tensor'> torch.Size([96, 96, 96]) torch.int64\n",
      "✅ [DEBUG] label unique: tensor([0, 1, 2])\n",
      "🧪 targets dtype: torch.int64\n",
      "🧪 targets unique: tensor([0, 1, 2], device='cuda:0')\n",
      "🧪 targets shape: torch.Size([1, 96, 96, 96])\n",
      "🧪 targets dtype: torch.int64\n",
      "🧪 targets unique: tensor([0, 1, 2], device='cuda:0')\n",
      "🧪 targets shape: torch.Size([1, 96, 96, 96])\n",
      "✅ [DEBUG] image: <class 'torch.Tensor'> torch.Size([4, 96, 96, 96]) torch.float32\n",
      "✅ [DEBUG] label: <class 'torch.Tensor'> torch.Size([96, 96, 96]) torch.int64\n",
      "✅ [DEBUG] label unique: tensor([0, 1, 2])\n"
     ]
    },
    {
     "name": "stderr",
     "output_type": "stream",
     "text": [
      "Training:  82%|████████▏ | 232/284 [00:59<00:12,  4.03it/s]"
     ]
    },
    {
     "name": "stdout",
     "output_type": "stream",
     "text": [
      "✅ [DEBUG] image: <class 'torch.Tensor'> torch.Size([4, 96, 96, 96]) torch.float32\n",
      "✅ [DEBUG] label: <class 'torch.Tensor'> torch.Size([96, 96, 96]) torch.int64\n",
      "🧪 targets dtype: torch.int64\n",
      "🧪 targets unique: tensor([0, 1, 2], device='cuda:0')\n",
      "🧪 targets shape: torch.Size([1, 96, 96, 96])\n",
      "✅ [DEBUG] label unique: tensor([0, 1, 2])\n"
     ]
    },
    {
     "name": "stderr",
     "output_type": "stream",
     "text": [
      "Training:  82%|████████▏ | 233/284 [00:59<00:13,  3.81it/s]"
     ]
    },
    {
     "name": "stdout",
     "output_type": "stream",
     "text": [
      "✅ [DEBUG] image: <class 'torch.Tensor'> torch.Size([4, 96, 96, 96]) torch.float32\n",
      "✅ [DEBUG] label: <class 'torch.Tensor'> torch.Size([96, 96, 96]) torch.int64\n",
      "✅ [DEBUG] label unique: tensor([0, 1, 2])\n",
      "🧪 targets dtype: torch.int64\n",
      "🧪 targets unique: tensor([0, 1, 2], device='cuda:0')\n",
      "🧪 targets shape: torch.Size([1, 96, 96, 96])\n"
     ]
    },
    {
     "name": "stderr",
     "output_type": "stream",
     "text": [
      "Training:  82%|████████▏ | 234/284 [00:59<00:12,  3.96it/s]"
     ]
    },
    {
     "name": "stdout",
     "output_type": "stream",
     "text": [
      "✅ [DEBUG] image: <class 'torch.Tensor'> torch.Size([4, 96, 96, 96]) torch.float32\n",
      "✅ [DEBUG] label: <class 'torch.Tensor'> torch.Size([96, 96, 96]) torch.int64\n",
      "✅ [DEBUG] label unique: tensor([0, 1, 2])\n",
      "🧪 targets dtype: torch.int64\n",
      "🧪 targets unique: tensor([0, 1, 2], device='cuda:0')\n",
      "🧪 targets shape: torch.Size([1, 96, 96, 96])\n",
      "🧪 targets dtype: torch.int64\n",
      "🧪 targets unique: tensor([0, 1, 2], device='cuda:0')\n",
      "🧪 targets shape: torch.Size([1, 96, 96, 96])\n",
      "✅ [DEBUG] image: <class 'torch.Tensor'> torch.Size([4, 96, 96, 96]) torch.float32\n",
      "✅ [DEBUG] label: <class 'torch.Tensor'> torch.Size([96, 96, 96]) torch.int64\n",
      "✅ [DEBUG] label unique: tensor([0, 1, 2])\n"
     ]
    },
    {
     "name": "stderr",
     "output_type": "stream",
     "text": [
      "Training:  83%|████████▎ | 236/284 [01:00<00:12,  3.93it/s]"
     ]
    },
    {
     "name": "stdout",
     "output_type": "stream",
     "text": [
      "✅ [DEBUG] image: <class 'torch.Tensor'> torch.Size([4, 96, 96, 96]) torch.float32\n",
      "✅ [DEBUG] label: <class 'torch.Tensor'> torch.Size([96, 96, 96]) torch.int64\n",
      "✅ [DEBUG] label unique: tensor([0, 1, 2])\n",
      "🧪 targets dtype: torch.int64\n",
      "🧪 targets unique: tensor([0, 1, 2], device='cuda:0')\n",
      "🧪 targets shape: torch.Size([1, 96, 96, 96])\n",
      "✅ [DEBUG] image: <class 'torch.Tensor'> torch.Size([4, 96, 96, 96]) torch.float32\n",
      "✅ [DEBUG] label: <class 'torch.Tensor'> torch.Size([96, 96, 96]) torch.int64\n"
     ]
    },
    {
     "name": "stderr",
     "output_type": "stream",
     "text": [
      "Training:  83%|████████▎ | 237/284 [01:00<00:12,  3.80it/s]"
     ]
    },
    {
     "name": "stdout",
     "output_type": "stream",
     "text": [
      "✅ [DEBUG] label unique: tensor([0, 1, 2])\n",
      "🧪 targets dtype: torch.int64\n",
      "🧪 targets unique: tensor([0, 1, 2], device='cuda:0')\n",
      "🧪 targets shape: torch.Size([1, 96, 96, 96])\n",
      "✅ [DEBUG] image: <class 'torch.Tensor'>torch.Size([4, 96, 96, 96])  torch.float32\n",
      "✅ [DEBUG] label: <class 'torch.Tensor'> torch.Size([96, 96, 96]) torch.int64\n"
     ]
    },
    {
     "name": "stderr",
     "output_type": "stream",
     "text": [
      "Training:  84%|████████▍ | 238/284 [01:00<00:12,  3.80it/s]"
     ]
    },
    {
     "name": "stdout",
     "output_type": "stream",
     "text": [
      "✅ [DEBUG] label unique: tensor([0, 1, 2])\n",
      "✅ [DEBUG] image: <class 'torch.Tensor'> torch.Size([4, 96, 96, 96]) torch.float32🧪 targets dtype: torch.int64\n",
      "🧪 targets unique: tensor([0, 1, 2], device='cuda:0')\n",
      "🧪 targets shape: torch.Size([1, 96, 96, 96])\n",
      "🧪 targets dtype: torch.int64\n",
      "🧪 targets unique: tensor([0, 1, 2], device='cuda:0')\n",
      "🧪 targets shape: torch.Size([1, 96, 96, 96])\n",
      "\n",
      "✅ [DEBUG] label: <class 'torch.Tensor'> torch.Size([96, 96, 96]) torch.int64\n",
      "✅ [DEBUG] label unique: tensor([0, 1, 2])\n"
     ]
    },
    {
     "name": "stderr",
     "output_type": "stream",
     "text": [
      "Training:  85%|████████▍ | 240/284 [01:01<00:10,  4.17it/s]"
     ]
    },
    {
     "name": "stdout",
     "output_type": "stream",
     "text": [
      "🧪 targets dtype: torch.int64\n",
      "🧪 targets unique: tensor([0, 1, 2], device='cuda:0')\n",
      "🧪 targets shape: torch.Size([1, 96, 96, 96])\n",
      "✅ [DEBUG] image: <class 'torch.Tensor'> torch.Size([4, 96, 96, 96]) torch.float32\n",
      "✅ [DEBUG] label: <class 'torch.Tensor'> torch.Size([96, 96, 96]) torch.int64\n",
      "✅ [DEBUG] label unique: tensor([0, 1, 2])\n",
      "✅ [DEBUG] image: <class 'torch.Tensor'> torch.Size([4, 96, 96, 96]) torch.float32\n",
      "✅ [DEBUG] label:"
     ]
    },
    {
     "name": "stderr",
     "output_type": "stream",
     "text": [
      "Training:  85%|████████▍ | 241/284 [01:01<00:11,  3.70it/s]"
     ]
    },
    {
     "name": "stdout",
     "output_type": "stream",
     "text": [
      " <class 'torch.Tensor'> torch.Size([96, 96, 96]) torch.int64\n",
      "✅ [DEBUG] image: <class 'torch.Tensor'>✅ [DEBUG] label unique:  torch.Size([4, 96, 96, 96])tensor([0, 1, 2]) \n",
      "torch.float32\n",
      "✅ [DEBUG] label: <class 'torch.Tensor'> torch.Size([96, 96, 96]) torch.int64\n",
      "🧪 targets dtype: torch.int64\n",
      "🧪 targets unique: tensor([0, 1, 2], device='cuda:0')\n",
      "🧪 targets shape: torch.Size([1, 96, 96, 96])\n"
     ]
    },
    {
     "name": "stderr",
     "output_type": "stream",
     "text": [
      "Training:  85%|████████▌ | 242/284 [01:01<00:11,  3.81it/s]"
     ]
    },
    {
     "name": "stdout",
     "output_type": "stream",
     "text": [
      "✅ [DEBUG] label unique: tensor([0, 1, 2])\n",
      "✅ [DEBUG] image: <class 'torch.Tensor'>🧪 targets dtype: torch.int64\n",
      "🧪 targets unique: tensor([0, 1, 2], device='cuda:0')\n",
      "🧪 targets shape: torch.Size([1, 96, 96, 96])\n",
      "🧪 targets dtype: torch.int64\n",
      "🧪 targets unique: tensor([0, 1, 2], device='cuda:0')\n",
      "🧪 targets shape: torch.Size([1, 96, 96, 96])\n",
      " torch.Size([4, 96, 96, 96]) torch.float32\n",
      "✅ [DEBUG] label: <class 'torch.Tensor'> torch.Size([96, 96, 96]) torch.int64\n",
      "✅ [DEBUG] label unique: tensor([0, 1, 2])\n"
     ]
    },
    {
     "name": "stderr",
     "output_type": "stream",
     "text": [
      "Training:  86%|████████▌ | 244/284 [01:02<00:09,  4.31it/s]"
     ]
    },
    {
     "name": "stdout",
     "output_type": "stream",
     "text": [
      "🧪 targets dtype: torch.int64\n",
      "🧪 targets unique: tensor([0, 1, 2], device='cuda:0')\n",
      "🧪 targets shape: torch.Size([1, 96, 96, 96])\n",
      "✅ [DEBUG] image: ✅ [DEBUG] image:<class 'torch.Tensor'>  torch.Size([4, 96, 96, 96])<class 'torch.Tensor'>  torch.float32\n",
      "torch.Size([4, 96, 96, 96])✅ [DEBUG] label: <class 'torch.Tensor'>  torch.Size([96, 96, 96])torch.float32 \n",
      "torch.int64\n",
      "✅ [DEBUG] label: <class 'torch.Tensor'> torch.Size([96, 96, 96]) torch.int64\n",
      "✅ [DEBUG] label unique:✅ [DEBUG] label unique:  tensor([0, 1, 2])tensor([0, 1, 2])\n",
      "\n"
     ]
    },
    {
     "name": "stderr",
     "output_type": "stream",
     "text": [
      "Training:  86%|████████▋ | 245/284 [01:02<00:11,  3.51it/s]"
     ]
    },
    {
     "name": "stdout",
     "output_type": "stream",
     "text": [
      "✅ [DEBUG] image:🧪 targets dtype: torch.int64\n",
      "🧪 targets unique: tensor([0, 1, 2], device='cuda:0')\n",
      "🧪 targets shape: torch.Size([1, 96, 96, 96])\n",
      "🧪 targets dtype: torch.int64\n",
      "🧪 targets unique: tensor([0, 1, 2], device='cuda:0')\n",
      "🧪 targets shape: torch.Size([1, 96, 96, 96])\n",
      "🧪 targets dtype: torch.int64\n",
      "🧪 targets unique: tensor([0, 1, 2], device='cuda:0')\n",
      "🧪 targets shape: torch.Size([1, 96, 96, 96])\n",
      " <class 'torch.Tensor'> torch.Size([4, 96, 96, 96]) torch.float32\n",
      "✅ [DEBUG] label: <class 'torch.Tensor'> torch.Size([96, 96, 96]) torch.int64\n"
     ]
    },
    {
     "name": "stderr",
     "output_type": "stream",
     "text": [
      "Training:  87%|████████▋ | 247/284 [01:02<00:07,  4.85it/s]"
     ]
    },
    {
     "name": "stdout",
     "output_type": "stream",
     "text": [
      "✅ [DEBUG] image: <class 'torch.Tensor'> torch.Size([4, 96, 96, 96]) torch.float32\n",
      "✅ [DEBUG] label: <class 'torch.Tensor'> torch.Size([96, 96, 96]) torch.int64\n",
      "✅ [DEBUG] label unique: tensor([0, 1, 2])\n",
      "✅ [DEBUG] label unique: tensor([0, 1, 2])\n"
     ]
    },
    {
     "name": "stderr",
     "output_type": "stream",
     "text": [
      "Training:  87%|████████▋ | 248/284 [01:03<00:07,  4.64it/s]"
     ]
    },
    {
     "name": "stdout",
     "output_type": "stream",
     "text": [
      "✅ [DEBUG] image: <class 'torch.Tensor'> torch.Size([4, 96, 96, 96]) torch.float32\n",
      "✅ [DEBUG] label: <class 'torch.Tensor'> torch.Size([96, 96, 96]) torch.int64\n",
      "🧪 targets dtype: torch.int64\n",
      "🧪 targets unique: tensor([0, 1, 2], device='cuda:0')\n",
      "🧪 targets shape: torch.Size([1, 96, 96, 96])\n",
      "✅ [DEBUG] image: <class 'torch.Tensor'> torch.Size([4, 96, 96, 96]) torch.float32\n",
      "✅ [DEBUG] label: <class 'torch.Tensor'> torch.Size([96, 96, 96]) torch.int64\n",
      "✅ [DEBUG] label unique: tensor([0, 1, 2])\n",
      "✅ [DEBUG] label unique: tensor([0, 1, 2])\n"
     ]
    },
    {
     "name": "stderr",
     "output_type": "stream",
     "text": [
      "Training:  88%|████████▊ | 249/284 [01:03<00:10,  3.48it/s]"
     ]
    },
    {
     "name": "stdout",
     "output_type": "stream",
     "text": [
      "🧪 targets dtype: torch.int64\n",
      "🧪 targets unique: tensor([0, 1, 2], device='cuda:0')\n",
      "🧪 targets shape: torch.Size([1, 96, 96, 96])\n",
      "🧪 targets dtype: torch.int64\n",
      "🧪 targets unique: tensor([0, 1, 2], device='cuda:0')\n",
      "🧪 targets shape: torch.Size([1, 96, 96, 96])\n",
      "🧪 targets dtype: torch.int64\n",
      "🧪 targets unique: tensor([0, 1, 2], device='cuda:0')\n",
      "🧪 targets shape: torch.Size([1, 96, 96, 96])\n"
     ]
    },
    {
     "name": "stderr",
     "output_type": "stream",
     "text": [
      "Training:  88%|████████▊ | 251/284 [01:03<00:06,  4.85it/s]"
     ]
    },
    {
     "name": "stdout",
     "output_type": "stream",
     "text": [
      "✅ [DEBUG] image: <class 'torch.Tensor'> torch.Size([4, 96, 96, 96]) torch.float32\n",
      "✅ [DEBUG] label: <class 'torch.Tensor'> torch.Size([96, 96, 96]) torch.int64\n",
      "✅ [DEBUG] image: <class 'torch.Tensor'> torch.Size([4, 96, 96, 96]) torch.float32\n",
      "✅ [DEBUG] label: <class 'torch.Tensor'> torch.Size([96, 96, 96]) torch.int64\n",
      "✅ [DEBUG] label unique: tensor([0, 1, 2])\n",
      "✅ [DEBUG] label unique: tensor([0, 1, 2])\n"
     ]
    },
    {
     "name": "stderr",
     "output_type": "stream",
     "text": [
      "Training:  89%|████████▊ | 252/284 [01:04<00:07,  4.43it/s]"
     ]
    },
    {
     "name": "stdout",
     "output_type": "stream",
     "text": [
      "🧪 targets dtype: torch.int64\n",
      "🧪 targets unique: tensor([0, 1, 2], device='cuda:0')\n",
      "🧪 targets shape: torch.Size([1, 96, 96, 96])\n",
      "✅ [DEBUG] image: <class 'torch.Tensor'> torch.Size([4, 96, 96, 96]) torch.float32\n",
      "✅ [DEBUG] label: <class 'torch.Tensor'> torch.Size([96, 96, 96]) torch.int64\n",
      "✅ [DEBUG] label unique: tensor([0, 1, 2])\n",
      "✅ [DEBUG] image: <class 'torch.Tensor'> torch.Size([4, 96, 96, 96]) torch.float32\n",
      "✅ [DEBUG] label: <class 'torch.Tensor'> torch.Size([96, 96, 96]) torch.int64\n",
      "✅ [DEBUG] label unique: tensor([0, 1, 2])\n",
      "✅ [DEBUG] image: <class 'torch.Tensor'> torch.Size([4, 96, 96, 96]) torch.float32\n",
      "✅ [DEBUG] label: <class 'torch.Tensor'> torch.Size([96, 96, 96]) torch.int64\n",
      "✅ [DEBUG] label unique: "
     ]
    },
    {
     "name": "stderr",
     "output_type": "stream",
     "text": [
      "Training:  89%|████████▉ | 253/284 [01:04<00:10,  2.86it/s]"
     ]
    },
    {
     "name": "stdout",
     "output_type": "stream",
     "text": [
      "tensor([0, 1, 2])\n",
      "✅ [DEBUG] image:🧪 targets dtype: torch.int64\n",
      "🧪 targets unique: tensor([0, 1, 2], device='cuda:0')\n",
      "🧪 targets shape: torch.Size([1, 96, 96, 96])\n",
      "🧪 targets dtype: torch.int64\n",
      "🧪 targets unique: tensor([0, 1, 2], device='cuda:0')\n",
      "🧪 targets shape: torch.Size([1, 96, 96, 96])\n",
      "🧪 targets dtype: torch.int64\n",
      "🧪 targets unique: tensor([0, 1, 2], device='cuda:0')\n",
      "🧪 targets shape: torch.Size([1, 96, 96, 96])\n",
      " <class 'torch.Tensor'> torch.Size([4, 96, 96, 96]) torch.float32\n",
      "✅ [DEBUG] label: <class 'torch.Tensor'> torch.Size([96, 96, 96]) torch.int64\n"
     ]
    },
    {
     "name": "stderr",
     "output_type": "stream",
     "text": [
      "Training:  90%|████████▉ | 255/284 [01:04<00:06,  4.16it/s]"
     ]
    },
    {
     "name": "stdout",
     "output_type": "stream",
     "text": [
      "✅ [DEBUG] label unique: tensor([0, 1, 2])\n",
      "🧪 targets dtype: torch.int64\n",
      "🧪 targets unique: tensor([0, 1, 2], device='cuda:0')\n",
      "🧪 targets shape: torch.Size([1, 96, 96, 96])\n",
      "✅ [DEBUG] image: <class 'torch.Tensor'> torch.Size([4, 96, 96, 96]) torch.float32\n",
      "✅ [DEBUG] label: <class 'torch.Tensor'> torch.Size([96, 96, 96]) torch.int64\n",
      "✅ [DEBUG] label unique: tensor([0, 1, 2])\n",
      "✅ [DEBUG] image: <class 'torch.Tensor'> torch.Size([4, 96, 96, 96]) torch.float32\n",
      "✅ [DEBUG] label: <class 'torch.Tensor'> torch.Size([96, 96, 96]) torch.int64\n",
      "✅ [DEBUG] label unique: tensor([0, 1, 2])\n",
      "✅ [DEBUG] image: <class 'torch.Tensor'> torch.Size([4, 96, 96, 96]) torch.float32\n",
      "✅ [DEBUG] label: <class 'torch.Tensor'> torch.Size([96, 96, 96]) torch.int64\n"
     ]
    },
    {
     "name": "stderr",
     "output_type": "stream",
     "text": [
      "Training:  90%|█████████ | 257/284 [01:05<00:07,  3.40it/s]"
     ]
    },
    {
     "name": "stdout",
     "output_type": "stream",
     "text": [
      "✅ [DEBUG] label unique: tensor([0, 1, 2])\n",
      "🧪 targets dtype: torch.int64\n",
      "🧪 targets unique: tensor([0, 1, 2], device='cuda:0')\n",
      "🧪 targets shape: torch.Size([1, 96, 96, 96])\n",
      "🧪 targets dtype: torch.int64\n",
      "🧪 targets unique: tensor([0, 1, 2], device='cuda:0')\n",
      "🧪 targets shape: torch.Size([1, 96, 96, 96])\n",
      "🧪 targets dtype: torch.int64\n",
      "🧪 targets unique: tensor([0, 1, 2], device='cuda:0')\n",
      "🧪 targets shape: torch.Size([1, 96, 96, 96])\n"
     ]
    },
    {
     "name": "stderr",
     "output_type": "stream",
     "text": [
      "Training:  91%|█████████ | 259/284 [01:05<00:05,  4.37it/s]"
     ]
    },
    {
     "name": "stdout",
     "output_type": "stream",
     "text": [
      "✅ [DEBUG] image: <class 'torch.Tensor'> torch.Size([4, 96, 96, 96]) torch.float32\n",
      "✅ [DEBUG] label: <class 'torch.Tensor'> torch.Size([96, 96, 96]) torch.int64\n"
     ]
    },
    {
     "name": "stderr",
     "output_type": "stream",
     "text": [
      "Training:  92%|█████████▏| 260/284 [01:06<00:04,  4.88it/s]"
     ]
    },
    {
     "name": "stdout",
     "output_type": "stream",
     "text": [
      "✅ [DEBUG] label unique: tensor([0, 1, 2])\n",
      "✅ [DEBUG] image: <class 'torch.Tensor'> torch.Size([4, 96, 96, 96]) torch.float32\n",
      "✅ [DEBUG] label: <class 'torch.Tensor'> torch.Size([96, 96, 96]) torch.int64\n",
      "🧪 targets dtype: torch.int64\n",
      "🧪 targets unique: tensor([0, 1, 2], device='cuda:0')\n",
      "🧪 targets shape: torch.Size([1, 96, 96, 96])\n",
      "✅ [DEBUG] label unique: tensor([0, 1, 2])\n",
      "✅ [DEBUG] image: <class 'torch.Tensor'> torch.Size([4, 96, 96, 96]) torch.float32\n",
      "✅ [DEBUG] label: <class 'torch.Tensor'> torch.Size([96, 96, 96]) torch.int64\n",
      "✅ [DEBUG] label unique: tensor([0, 1, 2])\n"
     ]
    },
    {
     "name": "stderr",
     "output_type": "stream",
     "text": [
      "Training:  92%|█████████▏| 261/284 [01:06<00:06,  3.30it/s]"
     ]
    },
    {
     "name": "stdout",
     "output_type": "stream",
     "text": [
      "✅ [DEBUG] image: <class 'torch.Tensor'> torch.Size([4, 96, 96, 96]) torch.float32\n",
      "✅ [DEBUG] label: <class 'torch.Tensor'> torch.Size([96, 96, 96]) torch.int64\n",
      "✅ [DEBUG] label unique: tensor([0, 1, 2])\n",
      "🧪 targets dtype: torch.int64\n",
      "🧪 targets unique: tensor([0, 1, 2], device='cuda:0')\n",
      "🧪 targets shape: torch.Size([1, 96, 96, 96])\n",
      "🧪 targets dtype: torch.int64\n",
      "🧪 targets unique: tensor([0, 1, 2], device='cuda:0')\n",
      "🧪 targets shape: torch.Size([1, 96, 96, 96])\n",
      "🧪 targets dtype: torch.int64\n",
      "🧪 targets unique: tensor([0, 1, 2], device='cuda:0')\n",
      "🧪 targets shape: torch.Size([1, 96, 96, 96])\n"
     ]
    },
    {
     "name": "stderr",
     "output_type": "stream",
     "text": [
      "Training:  93%|█████████▎| 264/284 [01:06<00:04,  4.99it/s]"
     ]
    },
    {
     "name": "stdout",
     "output_type": "stream",
     "text": [
      "✅ [DEBUG] image: <class 'torch.Tensor'> torch.Size([4, 96, 96, 96]) torch.float32\n",
      "✅ [DEBUG] label: <class 'torch.Tensor'> torch.Size([96, 96, 96]) torch.int64\n",
      "✅ [DEBUG] label unique: tensor([0, 1, 2])\n",
      "🧪 targets dtype: torch.int64\n",
      "🧪 targets unique: tensor([0, 1, 2], device='cuda:0')\n",
      "🧪 targets shape: torch.Size([1, 96, 96, 96])\n",
      "✅ [DEBUG] image: <class 'torch.Tensor'> torch.Size([4, 96, 96, 96]) torch.float32\n",
      "✅ [DEBUG] label: <class 'torch.Tensor'> torch.Size([96, 96, 96]) torch.int64\n",
      "✅ [DEBUG] label unique: tensor([0, 1, 2])\n",
      "✅ [DEBUG] image: <class 'torch.Tensor'> torch.Size([4, 96, 96, 96]) torch.float32\n",
      "✅ [DEBUG] label: <class 'torch.Tensor'> torch.Size([96, 96, 96]) torch.int64✅ [DEBUG] image:\n",
      " <class 'torch.Tensor'> torch.Size([4, 96, 96, 96]) torch.float32\n",
      "✅ [DEBUG] label: <class 'torch.Tensor'> torch.Size([96, 96, 96]) torch.int64\n",
      "✅ [DEBUG] label unique:✅ [DEBUG] label unique:  tensor([0, 1, 2])tensor([0, 1, 2])\n",
      "\n"
     ]
    },
    {
     "name": "stderr",
     "output_type": "stream",
     "text": [
      "Training:  93%|█████████▎| 265/284 [01:07<00:06,  2.92it/s]"
     ]
    },
    {
     "name": "stdout",
     "output_type": "stream",
     "text": [
      "🧪 targets dtype: torch.int64\n",
      "🧪 targets unique: tensor([0, 1, 2], device='cuda:0')\n",
      "🧪 targets shape: torch.Size([1, 96, 96, 96])\n",
      "🧪 targets dtype: torch.int64\n",
      "🧪 targets unique: tensor([0, 1, 2], device='cuda:0')\n",
      "🧪 targets shape: torch.Size([1, 96, 96, 96])\n",
      "🧪 targets dtype: torch.int64\n",
      "🧪 targets unique: tensor([0, 1, 2], device='cuda:0')\n",
      "🧪 targets shape: torch.Size([1, 96, 96, 96])\n"
     ]
    },
    {
     "name": "stderr",
     "output_type": "stream",
     "text": [
      "Training:  94%|█████████▍| 267/284 [01:07<00:04,  4.23it/s]"
     ]
    },
    {
     "name": "stdout",
     "output_type": "stream",
     "text": [
      "✅ [DEBUG] image: <class 'torch.Tensor'> torch.Size([4, 96, 96, 96]) torch.float32\n",
      "✅ [DEBUG] label: <class 'torch.Tensor'> torch.Size([96, 96, 96]) torch.int64\n",
      "✅ [DEBUG] label unique: tensor([0, 1, 2])\n",
      "🧪 targets dtype: torch.int64\n",
      "🧪 targets unique: tensor([0, 1, 2], device='cuda:0')\n",
      "🧪 targets shape: torch.Size([1, 96, 96, 96])\n",
      "✅ [DEBUG] image: <class 'torch.Tensor'> torch.Size([4, 96, 96, 96]) torch.float32\n",
      "✅ [DEBUG] label: <class 'torch.Tensor'> torch.Size([96, 96, 96]) torch.int64\n",
      "✅ [DEBUG] label unique: tensor([0, 1, 2])\n",
      "✅ [DEBUG] image: <class 'torch.Tensor'> torch.Size([4, 96, 96, 96]) torch.float32\n",
      "✅ [DEBUG] label: <class 'torch.Tensor'> torch.Size([96, 96, 96]) torch.int64\n",
      "✅ [DEBUG] image: <class 'torch.Tensor'> torch.Size([4, 96, 96, 96]) torch.float32\n",
      "✅ [DEBUG] label: <class 'torch.Tensor'> torch.Size([96, 96, 96]) torch.int64\n",
      "✅ [DEBUG] label unique: tensor([0, 1, 2])\n",
      "✅ [DEBUG] label unique: tensor([0, 1, 2])\n"
     ]
    },
    {
     "name": "stderr",
     "output_type": "stream",
     "text": [
      "Training:  95%|█████████▍| 269/284 [01:08<00:04,  3.02it/s]"
     ]
    },
    {
     "name": "stdout",
     "output_type": "stream",
     "text": [
      "🧪 targets dtype: torch.int64\n",
      "🧪 targets unique: tensor([0, 1, 2], device='cuda:0')\n",
      "🧪 targets shape: torch.Size([1, 96, 96, 96])\n",
      "🧪 targets dtype: torch.int64\n",
      "🧪 targets unique: tensor([0, 1, 2], device='cuda:0')\n",
      "🧪 targets shape: torch.Size([1, 96, 96, 96])\n",
      "🧪 targets dtype: torch.int64\n",
      "🧪 targets unique: tensor([0, 1, 2], device='cuda:0')\n",
      "🧪 targets shape: torch.Size([1, 96, 96, 96])\n"
     ]
    },
    {
     "name": "stderr",
     "output_type": "stream",
     "text": [
      "Training:  95%|█████████▌| 271/284 [01:09<00:03,  4.08it/s]"
     ]
    },
    {
     "name": "stdout",
     "output_type": "stream",
     "text": [
      "✅ [DEBUG] image: <class 'torch.Tensor'> torch.Size([4, 96, 96, 96]) torch.float32\n",
      "✅ [DEBUG] label: <class 'torch.Tensor'> torch.Size([96, 96, 96]) torch.int64\n",
      "✅ [DEBUG] image: <class 'torch.Tensor'> torch.Size([4, 96, 96, 96]) torch.float32\n",
      "✅ [DEBUG] label: <class 'torch.Tensor'> torch.Size([96, 96, 96]) torch.int64\n",
      "✅ [DEBUG] label unique: tensor([0, 2])\n",
      "✅ [DEBUG] label unique: tensor([0, 1, 2])\n",
      "🧪 targets dtype: torch.int64\n",
      "🧪 targets unique: tensor([0, 1, 2], device='cuda:0')\n",
      "🧪 targets shape: torch.Size([1, 96, 96, 96])\n",
      "✅ [DEBUG] image: <class 'torch.Tensor'> torch.Size([4, 96, 96, 96]) torch.float32\n",
      "✅ [DEBUG] label: <class 'torch.Tensor'> torch.Size([96, 96, 96]) torch.int64\n",
      "✅ [DEBUG] label unique: tensor([0, 1, 2])\n"
     ]
    },
    {
     "name": "stderr",
     "output_type": "stream",
     "text": [
      "Training:  96%|█████████▌| 273/284 [01:09<00:03,  3.50it/s]"
     ]
    },
    {
     "name": "stdout",
     "output_type": "stream",
     "text": [
      "✅ [DEBUG] image: <class 'torch.Tensor'> torch.Size([4, 96, 96, 96]) torch.float32\n",
      "✅ [DEBUG] label: <class 'torch.Tensor'> torch.Size([96, 96, 96]) torch.int64\n",
      "✅ [DEBUG] label unique: tensor([0, 1, 2])\n",
      "🧪 targets dtype: torch.int64\n",
      "🧪 targets unique: tensor([0, 1, 2], device='cuda:0')\n",
      "🧪 targets shape: torch.Size([1, 96, 96, 96])\n",
      "🧪 targets dtype: torch.int64\n",
      "🧪 targets unique: tensor([0, 2], device='cuda:0')\n",
      "🧪 targets shape: torch.Size([1, 96, 96, 96])\n",
      "🧪 targets dtype: torch.int64\n",
      "🧪 targets unique: tensor([0, 1, 2], device='cuda:0')\n",
      "🧪 targets shape: torch.Size([1, 96, 96, 96])\n"
     ]
    },
    {
     "name": "stderr",
     "output_type": "stream",
     "text": [
      "Training:  97%|█████████▋| 275/284 [01:09<00:02,  4.47it/s]"
     ]
    },
    {
     "name": "stdout",
     "output_type": "stream",
     "text": [
      "✅ [DEBUG] image: <class 'torch.Tensor'> torch.Size([4, 96, 96, 96]) torch.float32\n",
      "✅ [DEBUG] label: <class 'torch.Tensor'> torch.Size([96, 96, 96]) torch.int64\n",
      "🧪 targets dtype: torch.int64\n",
      "🧪 targets unique: tensor([0, 1, 2], device='cuda:0')\n",
      "🧪 targets shape: torch.Size([1, 96, 96, 96])\n",
      "✅ [DEBUG] label unique: tensor([0, 1, 2])\n",
      "✅ [DEBUG] image: <class 'torch.Tensor'> torch.Size([4, 96, 96, 96]) torch.float32\n",
      "✅ [DEBUG] label: <class 'torch.Tensor'> torch.Size([96, 96, 96]) torch.int64\n",
      "✅ [DEBUG] label unique: tensor([0, 1, 2])\n",
      "✅ [DEBUG] image: <class 'torch.Tensor'> torch.Size([4, 96, 96, 96]) torch.float32\n",
      "✅ [DEBUG] label: <class 'torch.Tensor'> torch.Size([96, 96, 96]) torch.int64\n",
      "✅ [DEBUG] label unique: tensor([0, 2])\n",
      "✅ [DEBUG] image: <class 'torch.Tensor'> torch.Size([4, 96, 96, 96]) torch.float32\n",
      "✅ [DEBUG] label: <class 'torch.Tensor'> torch.Size([96, 96, 96]) torch.int64\n"
     ]
    },
    {
     "name": "stderr",
     "output_type": "stream",
     "text": [
      "Training:  98%|█████████▊| 277/284 [01:10<00:01,  3.72it/s]"
     ]
    },
    {
     "name": "stdout",
     "output_type": "stream",
     "text": [
      "✅ [DEBUG] label unique: tensor([0, 1, 2])\n",
      "🧪 targets dtype: torch.int64\n",
      "🧪 targets unique: tensor([0, 2], device='cuda:0')\n",
      "🧪 targets shape: torch.Size([1, 96, 96, 96])\n",
      "🧪 targets dtype: torch.int64\n",
      "🧪 targets unique: tensor([0, 1, 2], device='cuda:0')\n",
      "🧪 targets shape: torch.Size([1, 96, 96, 96])\n",
      "🧪 targets dtype: torch.int64\n",
      "🧪 targets unique: tensor([0, 1, 2], device='cuda:0')\n",
      "🧪 targets shape: torch.Size([1, 96, 96, 96])\n"
     ]
    },
    {
     "name": "stderr",
     "output_type": "stream",
     "text": [
      "Training:  98%|█████████▊| 279/284 [01:10<00:01,  4.61it/s]"
     ]
    },
    {
     "name": "stdout",
     "output_type": "stream",
     "text": [
      "✅ [DEBUG] image: <class 'torch.Tensor'> torch.Size([4, 96, 96, 96]) torch.float32\n",
      "✅ [DEBUG] label: <class 'torch.Tensor'> torch.Size([96, 96, 96]) torch.int64\n",
      "🧪 targets dtype: torch.int64\n",
      "🧪 targets unique: tensor([0, 1, 2], device='cuda:0')\n",
      "🧪 targets shape: torch.Size([1, 96, 96, 96])\n",
      "✅ [DEBUG] label unique: tensor([0, 1, 2])\n",
      "✅ [DEBUG] image: <class 'torch.Tensor'> torch.Size([4, 96, 96, 96]) torch.float32\n",
      "✅ [DEBUG] label: <class 'torch.Tensor'> torch.Size([96, 96, 96]) torch.int64\n",
      "✅ [DEBUG] label unique: tensor([0, 1, 2])\n",
      "✅ [DEBUG] image: <class 'torch.Tensor'> torch.Size([4, 96, 96, 96]) torch.float32\n",
      "✅ [DEBUG] label: <class 'torch.Tensor'> torch.Size([96, 96, 96]) torch.int64\n",
      "✅ [DEBUG] label unique: tensor([0, 1, 2])\n",
      "✅ [DEBUG] image: <class 'torch.Tensor'> torch.Size([4, 96, 96, 96]) torch.float32\n",
      "✅ [DEBUG] label: <class 'torch.Tensor'> torch.Size([96, 96, 96]) torch.int64\n"
     ]
    },
    {
     "name": "stderr",
     "output_type": "stream",
     "text": [
      "Training:  99%|█████████▉| 281/284 [01:11<00:00,  3.76it/s]"
     ]
    },
    {
     "name": "stdout",
     "output_type": "stream",
     "text": [
      "✅ [DEBUG] label unique: tensor([0, 1, 2])\n"
     ]
    },
    {
     "name": "stderr",
     "output_type": "stream",
     "text": [
      "Training: 100%|█████████▉| 283/284 [01:11<00:00,  4.90it/s]"
     ]
    },
    {
     "name": "stdout",
     "output_type": "stream",
     "text": [
      "🧪 targets dtype: torch.int64\n",
      "🧪 targets unique: tensor([0, 1, 2], device='cuda:0')\n",
      "🧪 targets shape: torch.Size([1, 96, 96, 96])\n",
      "🧪 targets dtype: torch.int64\n",
      "🧪 targets unique: tensor([0, 1, 2], device='cuda:0')\n",
      "🧪 targets shape: torch.Size([1, 96, 96, 96])\n",
      "🧪 targets dtype: torch.int64\n",
      "🧪 targets unique: tensor([0, 1, 2], device='cuda:0')\n",
      "🧪 targets shape: torch.Size([1, 96, 96, 96])\n",
      "🧪 targets dtype: torch.int64\n",
      "🧪 targets unique: tensor([0, 1, 2], device='cuda:0')\n",
      "🧪 targets shape: torch.Size([1, 96, 96, 96])\n"
     ]
    },
    {
     "name": "stderr",
     "output_type": "stream",
     "text": [
      "Validation:   0%|          | 0/46 [00:00<?, ?it/s]         "
     ]
    },
    {
     "name": "stdout",
     "output_type": "stream",
     "text": [
      "⚠️ Skipping Brats17_CBICA_ABT_1 due to missing files: No such file or no access: '/mnt/m2ssd/research project/Lightweight 3D Vision Transformers for Medical Imaging/dataset/BraTs2017/BRATS2017/Brats17ValidationData/Brats17_CBICA_ABT_1/Brats17_CBICA_ABT_1_seg.nii'⚠️ Skipping Brats17_CBICA_ALA_1 due to missing files: No such file or no access: '/mnt/m2ssd/research project/Lightweight 3D Vision Transformers for Medical Imaging/dataset/BraTs2017/BRATS2017/Brats17ValidationData/Brats17_CBICA_ALA_1/Brats17_CBICA_ALA_1_seg.nii'\n",
      "\n",
      "⚠️ Skipping Brats17_CBICA_AAM_1 due to missing files: No such file or no access: '/mnt/m2ssd/research project/Lightweight 3D Vision Transformers for Medical Imaging/dataset/BraTs2017/BRATS2017/Brats17ValidationData/Brats17_CBICA_AAM_1/Brats17_CBICA_AAM_1_seg.nii'\n",
      "⚠️ Skipping Brats17_CBICA_ALT_1 due to missing files: No such file or no access: '/mnt/m2ssd/research project/Lightweight 3D Vision Transformers for Medical Imaging/dataset/BraTs2017/BRATS2017/Brats17ValidationData/Brats17_CBICA_ALT_1/Brats17_CBICA_ALT_1_seg.nii'\n",
      "⚠️ Skipping Brats17_CBICA_ALA_1 due to missing files: No such file or no access: '/mnt/m2ssd/research project/Lightweight 3D Vision Transformers for Medical Imaging/dataset/BraTs2017/BRATS2017/Brats17ValidationData/Brats17_CBICA_ALA_1/Brats17_CBICA_ALA_1_seg.nii'\n",
      "⚠️ Skipping Brats17_CBICA_ALT_1 due to missing files: No such file or no access: '/mnt/m2ssd/research project/Lightweight 3D Vision Transformers for Medical Imaging/dataset/BraTs2017/BRATS2017/Brats17ValidationData/Brats17_CBICA_ALT_1/Brats17_CBICA_ALT_1_seg.nii'\n",
      "⚠️ Skipping Brats17_CBICA_ABT_1 due to missing files: No such file or no access: '/mnt/m2ssd/research project/Lightweight 3D Vision Transformers for Medical Imaging/dataset/BraTs2017/BRATS2017/Brats17ValidationData/Brats17_CBICA_ABT_1/Brats17_CBICA_ABT_1_seg.nii'\n",
      "⚠️ Skipping Brats17_CBICA_ALV_1 due to missing files: No such file or no access: '/mnt/m2ssd/research project/Lightweight 3D Vision Transformers for Medical Imaging/dataset/BraTs2017/BRATS2017/Brats17ValidationData/Brats17_CBICA_ALV_1/Brats17_CBICA_ALV_1_seg.nii'\n",
      "⚠️ Skipping Brats17_CBICA_ALT_1 due to missing files: No such file or no access: '/mnt/m2ssd/research project/Lightweight 3D Vision Transformers for Medical Imaging/dataset/BraTs2017/BRATS2017/Brats17ValidationData/Brats17_CBICA_ALT_1/Brats17_CBICA_ALT_1_seg.nii'\n",
      "⚠️ Skipping Brats17_CBICA_ALA_1 due to missing files: No such file or no access: '/mnt/m2ssd/research project/Lightweight 3D Vision Transformers for Medical Imaging/dataset/BraTs2017/BRATS2017/Brats17ValidationData/Brats17_CBICA_ALA_1/Brats17_CBICA_ALA_1_seg.nii'\n",
      "⚠️ Skipping Brats17_CBICA_ALV_1 due to missing files: No such file or no access: '/mnt/m2ssd/research project/Lightweight 3D Vision Transformers for Medical Imaging/dataset/BraTs2017/BRATS2017/Brats17ValidationData/Brats17_CBICA_ALV_1/Brats17_CBICA_ALV_1_seg.nii'\n",
      "⚠️ Skipping Brats17_CBICA_ALZ_1 due to missing files: No such file or no access: '/mnt/m2ssd/research project/Lightweight 3D Vision Transformers for Medical Imaging/dataset/BraTs2017/BRATS2017/Brats17ValidationData/Brats17_CBICA_ALZ_1/Brats17_CBICA_ALZ_1_seg.nii'\n",
      "⚠️ Skipping Brats17_CBICA_ALV_1 due to missing files: No such file or no access: '/mnt/m2ssd/research project/Lightweight 3D Vision Transformers for Medical Imaging/dataset/BraTs2017/BRATS2017/Brats17ValidationData/Brats17_CBICA_ALV_1/Brats17_CBICA_ALV_1_seg.nii'\n",
      "⚠️ Skipping Brats17_CBICA_ALT_1 due to missing files: No such file or no access: '/mnt/m2ssd/research project/Lightweight 3D Vision Transformers for Medical Imaging/dataset/BraTs2017/BRATS2017/Brats17ValidationData/Brats17_CBICA_ALT_1/Brats17_CBICA_ALT_1_seg.nii'\n",
      "⚠️ Skipping Brats17_CBICA_ALZ_1 due to missing files: No such file or no access: '/mnt/m2ssd/research project/Lightweight 3D Vision Transformers for Medical Imaging/dataset/BraTs2017/BRATS2017/Brats17ValidationData/Brats17_CBICA_ALZ_1/Brats17_CBICA_ALZ_1_seg.nii'\n",
      "⚠️ Skipping Brats17_CBICA_AMF_1 due to missing files: No such file or no access: '/mnt/m2ssd/research project/Lightweight 3D Vision Transformers for Medical Imaging/dataset/BraTs2017/BRATS2017/Brats17ValidationData/Brats17_CBICA_AMF_1/Brats17_CBICA_AMF_1_seg.nii'\n",
      "⚠️ Skipping Brats17_CBICA_ALZ_1 due to missing files: No such file or no access: '/mnt/m2ssd/research project/Lightweight 3D Vision Transformers for Medical Imaging/dataset/BraTs2017/BRATS2017/Brats17ValidationData/Brats17_CBICA_ALZ_1/Brats17_CBICA_ALZ_1_seg.nii'\n",
      "⚠️ Skipping Brats17_CBICA_ALV_1 due to missing files: No such file or no access: '/mnt/m2ssd/research project/Lightweight 3D Vision Transformers for Medical Imaging/dataset/BraTs2017/BRATS2017/Brats17ValidationData/Brats17_CBICA_ALV_1/Brats17_CBICA_ALV_1_seg.nii'\n",
      "⚠️ Skipping Brats17_CBICA_AMF_1 due to missing files: No such file or no access: '/mnt/m2ssd/research project/Lightweight 3D Vision Transformers for Medical Imaging/dataset/BraTs2017/BRATS2017/Brats17ValidationData/Brats17_CBICA_AMF_1/Brats17_CBICA_AMF_1_seg.nii'\n",
      "⚠️ Skipping Brats17_CBICA_AMU_1 due to missing files: No such file or no access: '/mnt/m2ssd/research project/Lightweight 3D Vision Transformers for Medical Imaging/dataset/BraTs2017/BRATS2017/Brats17ValidationData/Brats17_CBICA_AMU_1/Brats17_CBICA_AMU_1_seg.nii'\n",
      "⚠️ Skipping Brats17_CBICA_AMF_1 due to missing files: No such file or no access: '/mnt/m2ssd/research project/Lightweight 3D Vision Transformers for Medical Imaging/dataset/BraTs2017/BRATS2017/Brats17ValidationData/Brats17_CBICA_AMF_1/Brats17_CBICA_AMF_1_seg.nii'\n",
      "⚠️ Skipping Brats17_CBICA_ALZ_1 due to missing files: No such file or no access: '/mnt/m2ssd/research project/Lightweight 3D Vision Transformers for Medical Imaging/dataset/BraTs2017/BRATS2017/Brats17ValidationData/Brats17_CBICA_ALZ_1/Brats17_CBICA_ALZ_1_seg.nii'\n",
      "⚠️ Skipping Brats17_CBICA_AMU_1 due to missing files: No such file or no access: '/mnt/m2ssd/research project/Lightweight 3D Vision Transformers for Medical Imaging/dataset/BraTs2017/BRATS2017/Brats17ValidationData/Brats17_CBICA_AMU_1/Brats17_CBICA_AMU_1_seg.nii'\n",
      "⚠️ Skipping Brats17_CBICA_ANK_1 due to missing files: No such file or no access: '/mnt/m2ssd/research project/Lightweight 3D Vision Transformers for Medical Imaging/dataset/BraTs2017/BRATS2017/Brats17ValidationData/Brats17_CBICA_ANK_1/Brats17_CBICA_ANK_1_seg.nii'\n",
      "⚠️ Skipping Brats17_CBICA_AMU_1 due to missing files: No such file or no access: '/mnt/m2ssd/research project/Lightweight 3D Vision Transformers for Medical Imaging/dataset/BraTs2017/BRATS2017/Brats17ValidationData/Brats17_CBICA_AMU_1/Brats17_CBICA_AMU_1_seg.nii'\n",
      "⚠️ Skipping Brats17_CBICA_AMF_1 due to missing files: No such file or no access: '/mnt/m2ssd/research project/Lightweight 3D Vision Transformers for Medical Imaging/dataset/BraTs2017/BRATS2017/Brats17ValidationData/Brats17_CBICA_AMF_1/Brats17_CBICA_AMF_1_seg.nii'\n",
      "⚠️ Skipping Brats17_CBICA_ANK_1 due to missing files: No such file or no access: '/mnt/m2ssd/research project/Lightweight 3D Vision Transformers for Medical Imaging/dataset/BraTs2017/BRATS2017/Brats17ValidationData/Brats17_CBICA_ANK_1/Brats17_CBICA_ANK_1_seg.nii'\n",
      "⚠️ Skipping Brats17_CBICA_APM_1 due to missing files: No such file or no access: '/mnt/m2ssd/research project/Lightweight 3D Vision Transformers for Medical Imaging/dataset/BraTs2017/BRATS2017/Brats17ValidationData/Brats17_CBICA_APM_1/Brats17_CBICA_APM_1_seg.nii'\n",
      "⚠️ Skipping Brats17_CBICA_AMU_1 due to missing files: No such file or no access: '/mnt/m2ssd/research project/Lightweight 3D Vision Transformers for Medical Imaging/dataset/BraTs2017/BRATS2017/Brats17ValidationData/Brats17_CBICA_AMU_1/Brats17_CBICA_AMU_1_seg.nii'\n",
      "⚠️ Skipping Brats17_CBICA_ANK_1 due to missing files: No such file or no access: '/mnt/m2ssd/research project/Lightweight 3D Vision Transformers for Medical Imaging/dataset/BraTs2017/BRATS2017/Brats17ValidationData/Brats17_CBICA_ANK_1/Brats17_CBICA_ANK_1_seg.nii'\n",
      "⚠️ Skipping Brats17_CBICA_APM_1 due to missing files: No such file or no access: '/mnt/m2ssd/research project/Lightweight 3D Vision Transformers for Medical Imaging/dataset/BraTs2017/BRATS2017/Brats17ValidationData/Brats17_CBICA_APM_1/Brats17_CBICA_APM_1_seg.nii'\n",
      "⚠️ Skipping Brats17_CBICA_AQE_1 due to missing files: No such file or no access: '/mnt/m2ssd/research project/Lightweight 3D Vision Transformers for Medical Imaging/dataset/BraTs2017/BRATS2017/Brats17ValidationData/Brats17_CBICA_AQE_1/Brats17_CBICA_AQE_1_seg.nii'\n",
      "⚠️ Skipping Brats17_CBICA_ANK_1 due to missing files: No such file or no access: '/mnt/m2ssd/research project/Lightweight 3D Vision Transformers for Medical Imaging/dataset/BraTs2017/BRATS2017/Brats17ValidationData/Brats17_CBICA_ANK_1/Brats17_CBICA_ANK_1_seg.nii'\n",
      "⚠️ Skipping Brats17_CBICA_APM_1 due to missing files: No such file or no access: '/mnt/m2ssd/research project/Lightweight 3D Vision Transformers for Medical Imaging/dataset/BraTs2017/BRATS2017/Brats17ValidationData/Brats17_CBICA_APM_1/Brats17_CBICA_APM_1_seg.nii'\n",
      "⚠️ Skipping Brats17_CBICA_AQE_1 due to missing files: No such file or no access: '/mnt/m2ssd/research project/Lightweight 3D Vision Transformers for Medical Imaging/dataset/BraTs2017/BRATS2017/Brats17ValidationData/Brats17_CBICA_AQE_1/Brats17_CBICA_AQE_1_seg.nii'\n",
      "⚠️ Skipping Brats17_CBICA_APM_1 due to missing files: No such file or no access: '/mnt/m2ssd/research project/Lightweight 3D Vision Transformers for Medical Imaging/dataset/BraTs2017/BRATS2017/Brats17ValidationData/Brats17_CBICA_APM_1/Brats17_CBICA_APM_1_seg.nii'\n",
      "⚠️ Skipping Brats17_CBICA_ARR_1 due to missing files: No such file or no access: '/mnt/m2ssd/research project/Lightweight 3D Vision Transformers for Medical Imaging/dataset/BraTs2017/BRATS2017/Brats17ValidationData/Brats17_CBICA_ARR_1/Brats17_CBICA_ARR_1_seg.nii'\n",
      "⚠️ Skipping Brats17_CBICA_AQE_1 due to missing files: No such file or no access: '/mnt/m2ssd/research project/Lightweight 3D Vision Transformers for Medical Imaging/dataset/BraTs2017/BRATS2017/Brats17ValidationData/Brats17_CBICA_AQE_1/Brats17_CBICA_AQE_1_seg.nii'\n",
      "⚠️ Skipping Brats17_CBICA_ARR_1 due to missing files: No such file or no access: '/mnt/m2ssd/research project/Lightweight 3D Vision Transformers for Medical Imaging/dataset/BraTs2017/BRATS2017/Brats17ValidationData/Brats17_CBICA_ARR_1/Brats17_CBICA_ARR_1_seg.nii'\n",
      "⚠️ Skipping Brats17_CBICA_AQE_1 due to missing files: No such file or no access: '/mnt/m2ssd/research project/Lightweight 3D Vision Transformers for Medical Imaging/dataset/BraTs2017/BRATS2017/Brats17ValidationData/Brats17_CBICA_AQE_1/Brats17_CBICA_AQE_1_seg.nii'\n",
      "⚠️ Skipping Brats17_CBICA_ATW_1 due to missing files: No such file or no access: '/mnt/m2ssd/research project/Lightweight 3D Vision Transformers for Medical Imaging/dataset/BraTs2017/BRATS2017/Brats17ValidationData/Brats17_CBICA_ATW_1/Brats17_CBICA_ATW_1_seg.nii'\n",
      "⚠️ Skipping Brats17_CBICA_ARR_1 due to missing files: No such file or no access: '/mnt/m2ssd/research project/Lightweight 3D Vision Transformers for Medical Imaging/dataset/BraTs2017/BRATS2017/Brats17ValidationData/Brats17_CBICA_ARR_1/Brats17_CBICA_ARR_1_seg.nii'\n",
      "⚠️ Skipping Brats17_CBICA_ATW_1 due to missing files: No such file or no access: '/mnt/m2ssd/research project/Lightweight 3D Vision Transformers for Medical Imaging/dataset/BraTs2017/BRATS2017/Brats17ValidationData/Brats17_CBICA_ATW_1/Brats17_CBICA_ATW_1_seg.nii'\n",
      "⚠️ Skipping Brats17_CBICA_ARR_1 due to missing files: No such file or no access: '/mnt/m2ssd/research project/Lightweight 3D Vision Transformers for Medical Imaging/dataset/BraTs2017/BRATS2017/Brats17ValidationData/Brats17_CBICA_ARR_1/Brats17_CBICA_ARR_1_seg.nii'\n",
      "⚠️ Skipping Brats17_CBICA_AUC_1 due to missing files: No such file or no access: '/mnt/m2ssd/research project/Lightweight 3D Vision Transformers for Medical Imaging/dataset/BraTs2017/BRATS2017/Brats17ValidationData/Brats17_CBICA_AUC_1/Brats17_CBICA_AUC_1_seg.nii'\n",
      "⚠️ Skipping Brats17_CBICA_AUC_1 due to missing files: No such file or no access: '/mnt/m2ssd/research project/Lightweight 3D Vision Transformers for Medical Imaging/dataset/BraTs2017/BRATS2017/Brats17ValidationData/Brats17_CBICA_AUC_1/Brats17_CBICA_AUC_1_seg.nii'\n",
      "⚠️ Skipping Brats17_CBICA_ATW_1 due to missing files: No such file or no access: '/mnt/m2ssd/research project/Lightweight 3D Vision Transformers for Medical Imaging/dataset/BraTs2017/BRATS2017/Brats17ValidationData/Brats17_CBICA_ATW_1/Brats17_CBICA_ATW_1_seg.nii'\n",
      "⚠️ Skipping Brats17_CBICA_ATW_1 due to missing files: No such file or no access: '/mnt/m2ssd/research project/Lightweight 3D Vision Transformers for Medical Imaging/dataset/BraTs2017/BRATS2017/Brats17ValidationData/Brats17_CBICA_ATW_1/Brats17_CBICA_ATW_1_seg.nii'\n",
      "⚠️ Skipping Brats17_CBICA_AUE_1 due to missing files: No such file or no access: '/mnt/m2ssd/research project/Lightweight 3D Vision Transformers for Medical Imaging/dataset/BraTs2017/BRATS2017/Brats17ValidationData/Brats17_CBICA_AUE_1/Brats17_CBICA_AUE_1_seg.nii'\n",
      "⚠️ Skipping Brats17_CBICA_AUE_1 due to missing files: No such file or no access: '/mnt/m2ssd/research project/Lightweight 3D Vision Transformers for Medical Imaging/dataset/BraTs2017/BRATS2017/Brats17ValidationData/Brats17_CBICA_AUE_1/Brats17_CBICA_AUE_1_seg.nii'\n",
      "⚠️ Skipping Brats17_CBICA_AUC_1 due to missing files: No such file or no access: '/mnt/m2ssd/research project/Lightweight 3D Vision Transformers for Medical Imaging/dataset/BraTs2017/BRATS2017/Brats17ValidationData/Brats17_CBICA_AUC_1/Brats17_CBICA_AUC_1_seg.nii'\n"
     ]
    }
   ],
   "source": [
    "import os\n",
    "os.environ[\"PYTORCH_CUDA_ALLOC_CONF\"] = \"expandable_segments:True\"\n",
    "import torch\n",
    "import torch.nn as nn\n",
    "from torch.utils.data import DataLoader\n",
    "from torch.cuda.amp import GradScaler, autocast\n",
    "from tqdm import tqdm\n",
    "\n",
    "from model import RefineFormer3D\n",
    "from dataset import BraTSDataset\n",
    "from optimizer import get_optimizer, get_scheduler\n",
    "from metrics import dice_coefficient, iou_score, hausdorff_distance\n",
    "from augmentation import Compose3D, RandomFlip3D, RandomRotation3D, RandomNoise3D\n",
    "from losses import RefineFormer3DLoss   # ✅ Correct loss import\n",
    "\n",
    "from config import DEVICE, IN_CHANNELS, NUM_CLASSES, BASE_LR, WEIGHT_DECAY, NUM_EPOCHS\n",
    "\n",
    "\n",
    "def train_one_epoch(model, dataloader, optimizer, criterion, device, scaler):\n",
    "    model.train()\n",
    "    running_loss = 0.0\n",
    "\n",
    "    for inputs, targets in tqdm(dataloader, desc=\"Training\", leave=False):\n",
    "        inputs = inputs.to(device, non_blocking=True)\n",
    "        targets = targets.to(device=device, dtype=torch.long, non_blocking=True)\n",
    "\n",
    "\n",
    "        optimizer.zero_grad()\n",
    "        \n",
    "        with autocast():   # ✅ Specify dtype explicitly\n",
    "            outputs = model(inputs)['main']\n",
    "            print(\"🧪 targets dtype:\", targets.dtype)\n",
    "            print(\"🧪 targets unique:\", torch.unique(targets))\n",
    "            print(\"🧪 targets shape:\", targets.shape)\n",
    "\n",
    "            loss = criterion(outputs, targets)\n",
    "\n",
    "        scaler.scale(loss).backward()\n",
    "        scaler.step(optimizer)\n",
    "        scaler.update()\n",
    "\n",
    "        running_loss += loss.item() * inputs.size(0)\n",
    "\n",
    "    epoch_loss = running_loss / len(dataloader.dataset)\n",
    "    return epoch_loss\n",
    "\n",
    "\n",
    "def validate_one_epoch(model, dataloader, criterion, device, num_classes):\n",
    "    model.eval()\n",
    "    running_loss = 0.0\n",
    "    dice_all, iou_all, hd_all = [], [], []\n",
    "\n",
    "    with torch.no_grad():\n",
    "        for inputs, targets in tqdm(dataloader, desc=\"Validation\", leave=False):\n",
    "            inputs = inputs.to(device, non_blocking=True)\n",
    "            targets = targets.to(device=device, dtype=torch.long, non_blocking=True)\n",
    "\n",
    "\n",
    "            outputs = model(inputs)\n",
    "\n",
    "            loss = criterion(outputs, targets) \n",
    "            running_loss += loss.item() * inputs.size(0)\n",
    "\n",
    "            preds = torch.argmax(outputs, dim=1)\n",
    "            dice_all.append(dice_coefficient(preds, targets, num_classes))\n",
    "            iou_all.append(iou_score(preds, targets, num_classes))\n",
    "            hd_all.append(hausdorff_distance(preds, targets))\n",
    "\n",
    "    val_loss = running_loss / len(dataloader.dataset)\n",
    "    avg_dice = torch.mean(torch.stack(dice_all)).item()\n",
    "    avg_iou = torch.mean(torch.stack(iou_all)).item()\n",
    "    avg_hd = torch.mean(torch.stack(hd_all)).item()\n",
    "\n",
    "    return val_loss, avg_dice, avg_iou, avg_hd\n",
    "\n",
    "\n",
    "def main():\n",
    "    device = DEVICE\n",
    "\n",
    "    # Model\n",
    "    model = RefineFormer3D(in_channels=IN_CHANNELS, num_classes=NUM_CLASSES)\n",
    "    model = model.to(device)\n",
    "\n",
    "    # Optimizer, Scheduler, Loss\n",
    "    optimizer = get_optimizer(model, base_lr=BASE_LR, weight_decay=WEIGHT_DECAY)\n",
    "    scheduler = get_scheduler(optimizer)\n",
    "    criterion = RefineFormer3DLoss()   # ✅ Correct\n",
    "    scaler = GradScaler()  # ✅ Fixed warning\n",
    "\n",
    "    # Data\n",
    "    train_transform = Compose3D([\n",
    "        RandomFlip3D(p=0.5),\n",
    "        RandomRotation3D(p=0.5),\n",
    "        RandomNoise3D(p=0.3),\n",
    "    ])\n",
    "\n",
    "    train_dataset = BraTSDataset(\n",
    "        root_dirs=[\n",
    "            \"/mnt/m2ssd/research project/Lightweight 3D Vision Transformers for Medical Imaging/dataset/BraTs2017/BRATS2017/Brats17TrainingData/HGG\",\n",
    "            \"/mnt/m2ssd/research project/Lightweight 3D Vision Transformers for Medical Imaging/dataset/BraTs2017/BRATS2017/Brats17TrainingData/LGG\",\n",
    "        ],\n",
    "        transform=train_transform,\n",
    "    )\n",
    "\n",
    "    val_dataset = BraTSDataset(\n",
    "        root_dirs=[\n",
    "            \"/mnt/m2ssd/research project/Lightweight 3D Vision Transformers for Medical Imaging/dataset/BraTs2017/BRATS2017/Brats17ValidationData\",\n",
    "        ],\n",
    "        transform=None,\n",
    "    )\n",
    "\n",
    "    train_loader = DataLoader(train_dataset, batch_size=1, shuffle=True, num_workers=4, pin_memory=True)\n",
    "    val_loader = DataLoader(val_dataset, batch_size=1, shuffle=False, num_workers=4, pin_memory=True)\n",
    "\n",
    "    # Training loop\n",
    "    for epoch in range(1, NUM_EPOCHS + 1):\n",
    "        print(f\"\\n--- Epoch [{epoch}/{NUM_EPOCHS}] ---\")\n",
    "\n",
    "        train_loss = train_one_epoch(model, train_loader, optimizer, criterion, device, scaler)\n",
    "        val_loss, val_dice, val_iou, val_hd = validate_one_epoch(model, val_loader, criterion, device, NUM_CLASSES)\n",
    "\n",
    "        scheduler.step()\n",
    "\n",
    "        print(f\"Train Loss: {train_loss:.4f}  |  Val Loss: {val_loss:.4f}\")\n",
    "        print(f\"Val Dice: {val_dice:.4f} | Val IOU: {val_iou:.4f} | Val Hausdorff: {val_hd:.4f}\")\n",
    "\n",
    "\n",
    "if __name__ == \"__main__\":\n",
    "    main()\n"
   ]
  },
  {
   "cell_type": "code",
   "execution_count": 1,
   "id": "3b6575cb",
   "metadata": {},
   "outputs": [
    {
     "name": "stdout",
     "output_type": "stream",
     "text": [
      "⚠️ Missing segmentation files:\n",
      "/mnt/m2ssd/research project/Lightweight 3D Vision Transformers for Medical Imaging/dataset/BraTs2017/BRATS2017/Brats17ValidationData/Brats17_TCIA_195_1/Brats17_TCIA_195_1_seg.nii\n",
      "/mnt/m2ssd/research project/Lightweight 3D Vision Transformers for Medical Imaging/dataset/BraTs2017/BRATS2017/Brats17ValidationData/Brats17_CBICA_AAM_1/Brats17_CBICA_AAM_1_seg.nii\n",
      "/mnt/m2ssd/research project/Lightweight 3D Vision Transformers for Medical Imaging/dataset/BraTs2017/BRATS2017/Brats17ValidationData/Brats17_CBICA_ABT_1/Brats17_CBICA_ABT_1_seg.nii\n",
      "/mnt/m2ssd/research project/Lightweight 3D Vision Transformers for Medical Imaging/dataset/BraTs2017/BRATS2017/Brats17ValidationData/Brats17_CBICA_ALA_1/Brats17_CBICA_ALA_1_seg.nii\n",
      "/mnt/m2ssd/research project/Lightweight 3D Vision Transformers for Medical Imaging/dataset/BraTs2017/BRATS2017/Brats17ValidationData/Brats17_CBICA_ALT_1/Brats17_CBICA_ALT_1_seg.nii\n",
      "/mnt/m2ssd/research project/Lightweight 3D Vision Transformers for Medical Imaging/dataset/BraTs2017/BRATS2017/Brats17ValidationData/Brats17_CBICA_ALV_1/Brats17_CBICA_ALV_1_seg.nii\n",
      "/mnt/m2ssd/research project/Lightweight 3D Vision Transformers for Medical Imaging/dataset/BraTs2017/BRATS2017/Brats17ValidationData/Brats17_CBICA_ALZ_1/Brats17_CBICA_ALZ_1_seg.nii\n",
      "/mnt/m2ssd/research project/Lightweight 3D Vision Transformers for Medical Imaging/dataset/BraTs2017/BRATS2017/Brats17ValidationData/Brats17_CBICA_AMF_1/Brats17_CBICA_AMF_1_seg.nii\n",
      "/mnt/m2ssd/research project/Lightweight 3D Vision Transformers for Medical Imaging/dataset/BraTs2017/BRATS2017/Brats17ValidationData/Brats17_CBICA_AMU_1/Brats17_CBICA_AMU_1_seg.nii\n",
      "/mnt/m2ssd/research project/Lightweight 3D Vision Transformers for Medical Imaging/dataset/BraTs2017/BRATS2017/Brats17ValidationData/Brats17_CBICA_ANK_1/Brats17_CBICA_ANK_1_seg.nii\n",
      "/mnt/m2ssd/research project/Lightweight 3D Vision Transformers for Medical Imaging/dataset/BraTs2017/BRATS2017/Brats17ValidationData/Brats17_CBICA_APM_1/Brats17_CBICA_APM_1_seg.nii\n",
      "/mnt/m2ssd/research project/Lightweight 3D Vision Transformers for Medical Imaging/dataset/BraTs2017/BRATS2017/Brats17ValidationData/Brats17_CBICA_AQE_1/Brats17_CBICA_AQE_1_seg.nii\n",
      "/mnt/m2ssd/research project/Lightweight 3D Vision Transformers for Medical Imaging/dataset/BraTs2017/BRATS2017/Brats17ValidationData/Brats17_CBICA_ARR_1/Brats17_CBICA_ARR_1_seg.nii\n",
      "/mnt/m2ssd/research project/Lightweight 3D Vision Transformers for Medical Imaging/dataset/BraTs2017/BRATS2017/Brats17ValidationData/Brats17_CBICA_ATW_1/Brats17_CBICA_ATW_1_seg.nii\n",
      "/mnt/m2ssd/research project/Lightweight 3D Vision Transformers for Medical Imaging/dataset/BraTs2017/BRATS2017/Brats17ValidationData/Brats17_CBICA_AUC_1/Brats17_CBICA_AUC_1_seg.nii\n",
      "/mnt/m2ssd/research project/Lightweight 3D Vision Transformers for Medical Imaging/dataset/BraTs2017/BRATS2017/Brats17ValidationData/Brats17_CBICA_AUE_1/Brats17_CBICA_AUE_1_seg.nii\n",
      "/mnt/m2ssd/research project/Lightweight 3D Vision Transformers for Medical Imaging/dataset/BraTs2017/BRATS2017/Brats17ValidationData/Brats17_CBICA_AZA_1/Brats17_CBICA_AZA_1_seg.nii\n",
      "/mnt/m2ssd/research project/Lightweight 3D Vision Transformers for Medical Imaging/dataset/BraTs2017/BRATS2017/Brats17ValidationData/Brats17_TCIA_212_1/Brats17_TCIA_212_1_seg.nii\n",
      "/mnt/m2ssd/research project/Lightweight 3D Vision Transformers for Medical Imaging/dataset/BraTs2017/BRATS2017/Brats17ValidationData/Brats17_TCIA_216_1/Brats17_TCIA_216_1_seg.nii\n",
      "/mnt/m2ssd/research project/Lightweight 3D Vision Transformers for Medical Imaging/dataset/BraTs2017/BRATS2017/Brats17ValidationData/Brats17_TCIA_230_1/Brats17_TCIA_230_1_seg.nii\n",
      "/mnt/m2ssd/research project/Lightweight 3D Vision Transformers for Medical Imaging/dataset/BraTs2017/BRATS2017/Brats17ValidationData/Brats17_TCIA_248_1/Brats17_TCIA_248_1_seg.nii\n",
      "/mnt/m2ssd/research project/Lightweight 3D Vision Transformers for Medical Imaging/dataset/BraTs2017/BRATS2017/Brats17ValidationData/Brats17_TCIA_253_1/Brats17_TCIA_253_1_seg.nii\n",
      "/mnt/m2ssd/research project/Lightweight 3D Vision Transformers for Medical Imaging/dataset/BraTs2017/BRATS2017/Brats17ValidationData/Brats17_TCIA_288_1/Brats17_TCIA_288_1_seg.nii\n",
      "/mnt/m2ssd/research project/Lightweight 3D Vision Transformers for Medical Imaging/dataset/BraTs2017/BRATS2017/Brats17ValidationData/Brats17_TCIA_311_1/Brats17_TCIA_311_1_seg.nii\n",
      "/mnt/m2ssd/research project/Lightweight 3D Vision Transformers for Medical Imaging/dataset/BraTs2017/BRATS2017/Brats17ValidationData/Brats17_TCIA_313_1/Brats17_TCIA_313_1_seg.nii\n",
      "/mnt/m2ssd/research project/Lightweight 3D Vision Transformers for Medical Imaging/dataset/BraTs2017/BRATS2017/Brats17ValidationData/Brats17_TCIA_400_1/Brats17_TCIA_400_1_seg.nii\n",
      "/mnt/m2ssd/research project/Lightweight 3D Vision Transformers for Medical Imaging/dataset/BraTs2017/BRATS2017/Brats17ValidationData/Brats17_TCIA_600_1/Brats17_TCIA_600_1_seg.nii\n",
      "/mnt/m2ssd/research project/Lightweight 3D Vision Transformers for Medical Imaging/dataset/BraTs2017/BRATS2017/Brats17ValidationData/Brats17_TCIA_601_1/Brats17_TCIA_601_1_seg.nii\n",
      "/mnt/m2ssd/research project/Lightweight 3D Vision Transformers for Medical Imaging/dataset/BraTs2017/BRATS2017/Brats17ValidationData/Brats17_TCIA_602_1/Brats17_TCIA_602_1_seg.nii\n",
      "/mnt/m2ssd/research project/Lightweight 3D Vision Transformers for Medical Imaging/dataset/BraTs2017/BRATS2017/Brats17ValidationData/Brats17_TCIA_604_1/Brats17_TCIA_604_1_seg.nii\n",
      "/mnt/m2ssd/research project/Lightweight 3D Vision Transformers for Medical Imaging/dataset/BraTs2017/BRATS2017/Brats17ValidationData/Brats17_TCIA_609_1/Brats17_TCIA_609_1_seg.nii\n",
      "/mnt/m2ssd/research project/Lightweight 3D Vision Transformers for Medical Imaging/dataset/BraTs2017/BRATS2017/Brats17ValidationData/Brats17_TCIA_610_1/Brats17_TCIA_610_1_seg.nii\n",
      "/mnt/m2ssd/research project/Lightweight 3D Vision Transformers for Medical Imaging/dataset/BraTs2017/BRATS2017/Brats17ValidationData/Brats17_TCIA_611_1/Brats17_TCIA_611_1_seg.nii\n",
      "/mnt/m2ssd/research project/Lightweight 3D Vision Transformers for Medical Imaging/dataset/BraTs2017/BRATS2017/Brats17ValidationData/Brats17_TCIA_612_1/Brats17_TCIA_612_1_seg.nii\n",
      "/mnt/m2ssd/research project/Lightweight 3D Vision Transformers for Medical Imaging/dataset/BraTs2017/BRATS2017/Brats17ValidationData/Brats17_TCIA_613_1/Brats17_TCIA_613_1_seg.nii\n",
      "/mnt/m2ssd/research project/Lightweight 3D Vision Transformers for Medical Imaging/dataset/BraTs2017/BRATS2017/Brats17ValidationData/Brats17_TCIA_617_1/Brats17_TCIA_617_1_seg.nii\n",
      "/mnt/m2ssd/research project/Lightweight 3D Vision Transformers for Medical Imaging/dataset/BraTs2017/BRATS2017/Brats17ValidationData/Brats17_TCIA_636_1/Brats17_TCIA_636_1_seg.nii\n",
      "/mnt/m2ssd/research project/Lightweight 3D Vision Transformers for Medical Imaging/dataset/BraTs2017/BRATS2017/Brats17ValidationData/Brats17_TCIA_638_1/Brats17_TCIA_638_1_seg.nii\n",
      "/mnt/m2ssd/research project/Lightweight 3D Vision Transformers for Medical Imaging/dataset/BraTs2017/BRATS2017/Brats17ValidationData/Brats17_TCIA_646_1/Brats17_TCIA_646_1_seg.nii\n",
      "/mnt/m2ssd/research project/Lightweight 3D Vision Transformers for Medical Imaging/dataset/BraTs2017/BRATS2017/Brats17ValidationData/Brats17_TCIA_652_1/Brats17_TCIA_652_1_seg.nii\n",
      "/mnt/m2ssd/research project/Lightweight 3D Vision Transformers for Medical Imaging/dataset/BraTs2017/BRATS2017/Brats17ValidationData/Brats17_UAB_3446_1/Brats17_UAB_3446_1_seg.nii\n",
      "/mnt/m2ssd/research project/Lightweight 3D Vision Transformers for Medical Imaging/dataset/BraTs2017/BRATS2017/Brats17ValidationData/Brats17_UAB_3454_1/Brats17_UAB_3454_1_seg.nii\n",
      "/mnt/m2ssd/research project/Lightweight 3D Vision Transformers for Medical Imaging/dataset/BraTs2017/BRATS2017/Brats17ValidationData/Brats17_UAB_3455_1/Brats17_UAB_3455_1_seg.nii\n",
      "/mnt/m2ssd/research project/Lightweight 3D Vision Transformers for Medical Imaging/dataset/BraTs2017/BRATS2017/Brats17ValidationData/Brats17_UAB_3456_1/Brats17_UAB_3456_1_seg.nii\n",
      "/mnt/m2ssd/research project/Lightweight 3D Vision Transformers for Medical Imaging/dataset/BraTs2017/BRATS2017/Brats17ValidationData/Brats17_UAB_3498_1/Brats17_UAB_3498_1_seg.nii\n",
      "/mnt/m2ssd/research project/Lightweight 3D Vision Transformers for Medical Imaging/dataset/BraTs2017/BRATS2017/Brats17ValidationData/Brats17_UAB_3499_1/Brats17_UAB_3499_1_seg.nii\n"
     ]
    }
   ],
   "source": [
    "import os\n",
    "\n",
    "def find_missing_seg_files(validation_dir):\n",
    "    missing = []\n",
    "    for case in os.listdir(validation_dir):\n",
    "        case_path = os.path.join(validation_dir, case)\n",
    "        if os.path.isdir(case_path):\n",
    "            seg_file = os.path.join(case_path, f\"{case}_seg.nii\")\n",
    "            if not os.path.isfile(seg_file):\n",
    "                missing.append(seg_file)\n",
    "    return missing\n",
    "\n",
    "# Example usage\n",
    "validation_dir = \"/mnt/m2ssd/research project/Lightweight 3D Vision Transformers for Medical Imaging/dataset/BraTs2017/BRATS2017/Brats17ValidationData\"\n",
    "missing_files = find_missing_seg_files(validation_dir)\n",
    "\n",
    "if missing_files:\n",
    "    print(\"⚠️ Missing segmentation files:\")\n",
    "    for f in missing_files:\n",
    "        print(f)\n",
    "else:\n",
    "    print(\"✅ All segmentation files are present.\")\n"
   ]
  },
  {
   "cell_type": "code",
   "execution_count": null,
   "id": "d2202c46",
   "metadata": {},
   "outputs": [],
   "source": [
    "import os\n",
    "\n",
    "def check_missing_seg(root_dir):\n",
    "    missing_patients = []\n",
    "    for dirpath, dirnames, filenames in os.walk(root_dir):\n",
    "        for dirname in dirnames:\n",
    "            seg_path = os.path.join(dirpath, dirname, f\"{dirname}_seg.nii\")\n",
    "            if not os.path.exists(seg_path):\n",
    "                missing_patients.append(dirname)\n",
    "    return missing_patients\n",
    "\n",
    "if __name__ == \"__main__\":\n",
    "    data_dir = \"/mnt/m2ssd/research project/Lightweight 3D Vision Transformers for Medical Imaging/dataset/BraTs2017/BRATS2017/Brats17TrainingData/HGG/\"\n",
    "    missing_hgg = check_missing_seg(data_dir)\n",
    "    \n",
    "    data_dir = \"/mnt/m2ssd/research project/Lightweight 3D Vision Transformers for Medical Imaging/dataset/BraTs2017/BRATS2017/Brats17TrainingData/LGG/\"\n",
    "    missing_lgg = check_missing_seg(data_dir)\n",
    "\n",
    "    print(\"Missing in HGG:\", missing_hgg)\n",
    "    print(\"Missing in LGG:\", missing_lgg)\n"
   ]
  },
  {
   "cell_type": "code",
   "execution_count": null,
   "id": "b678a36c",
   "metadata": {},
   "outputs": [],
   "source": [
    "import torch\n",
    "\n",
    "def check_environment():\n",
    "    print(\"\\n🔵 Checking environment:\\n\")\n",
    "\n",
    "    # PyTorch Version\n",
    "    print(f\"Torch Version        : {torch.__version__}\")\n",
    "\n",
    "    # CUDA Version\n",
    "    if torch.version.cuda:\n",
    "        print(f\"CUDA Version         : {torch.version.cuda}\")\n",
    "    else:\n",
    "        print(\"CUDA Version         : None (CPU Only)\")\n",
    "\n",
    "    # cuDNN Version\n",
    "    if torch.backends.cudnn.is_available():\n",
    "        print(f\"cuDNN Version        : {torch.backends.cudnn.version()}\")\n",
    "    else:\n",
    "        print(\"cuDNN Version        : None\")\n",
    "\n",
    "    # GPU Availability\n",
    "    gpu_available = torch.cuda.is_available()\n",
    "    print(f\"GPU Available        : {gpu_available}\")\n",
    "\n",
    "    if gpu_available:\n",
    "        print(f\"Device Count         : {torch.cuda.device_count()}\")\n",
    "        print(f\"Current Device       : {torch.cuda.current_device()}\")\n",
    "        print(f\"Device Name          : {torch.cuda.get_device_name(0)}\")\n",
    "\n",
    "    print(\"\\n🟡 Checking autocast compatibility:\")\n",
    "\n",
    "    try:\n",
    "        with torch.cuda.amp.autocast(device_type='cuda', dtype=torch.float16):\n",
    "            print(\"✅ autocast(device_type='cuda', dtype=torch.float16) works!\")\n",
    "    except Exception as e:\n",
    "        print(f\"❌ autocast(device_type='cuda') not supported: {e}\")\n",
    "        print(\"✅ You must use: autocast() only.\")\n",
    "\n",
    "    print(\"\\n🟡 Checking GradScaler compatibility:\")\n",
    "\n",
    "    try:\n",
    "        scaler = torch.cuda.amp.GradScaler()\n",
    "        print(\"✅ GradScaler() works (no device_type needed).\")\n",
    "    except Exception as e:\n",
    "        print(f\"❌ GradScaler() failed: {e}\")\n",
    "\n",
    "    print(\"\\n✅ Environment check complete.\\n\")\n",
    "\n",
    "if __name__ == \"__main__\":\n",
    "    check_environment()\n"
   ]
  }
 ],
 "metadata": {
  "kernelspec": {
   "display_name": ".venv",
   "language": "python",
   "name": "python3"
  },
  "language_info": {
   "codemirror_mode": {
    "name": "ipython",
    "version": 3
   },
   "file_extension": ".py",
   "mimetype": "text/x-python",
   "name": "python",
   "nbconvert_exporter": "python",
   "pygments_lexer": "ipython3",
   "version": "3.8.10"
  }
 },
 "nbformat": 4,
 "nbformat_minor": 5
}
