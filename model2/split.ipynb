{
 "cells": [
  {
   "cell_type": "code",
   "execution_count": 3,
   "id": "ddbf171e",
   "metadata": {},
   "outputs": [
    {
     "name": "stdout",
     "output_type": "stream",
     "text": [
      "📦 Processing training set...\n"
     ]
    },
    {
     "name": "stderr",
     "output_type": "stream",
     "text": [
      "100%|██████████| 411/411 [10:38<00:00,  1.55s/it]\n"
     ]
    },
    {
     "name": "stdout",
     "output_type": "stream",
     "text": [
      "📦 Processing validation set...\n"
     ]
    },
    {
     "name": "stderr",
     "output_type": "stream",
     "text": [
      "100%|██████████| 73/73 [01:52<00:00,  1.54s/it]"
     ]
    },
    {
     "name": "stdout",
     "output_type": "stream",
     "text": [
      "✅ Dataset prepared at: /mnt/m2ssd/research project/Lightweight 3D Vision Transformers for Medical Imaging/dataset/BRATS_SPLIT3\n"
     ]
    },
    {
     "name": "stderr",
     "output_type": "stream",
     "text": [
      "\n"
     ]
    }
   ],
   "source": [
    "import os\n",
    "import nibabel as nib\n",
    "import pandas as pd\n",
    "from tqdm import tqdm\n",
    "\n",
    "# === CONFIGURATION ===\n",
    "raw_images_dir = \"/mnt/m2ssd/research project/Lightweight 3D Vision Transformers for Medical Imaging/dataset/Brats20172/Brats2017/imagesTr\"\n",
    "labels_dir = \"/mnt/m2ssd/research project/Lightweight 3D Vision Transformers for Medical Imaging/dataset/Brats20172/Brats2017/labelsTr\"\n",
    "output_root = \"/mnt/m2ssd/research project/Lightweight 3D Vision Transformers for Medical Imaging/dataset/BRATS_SPLIT3\"\n",
    "train_csv = \"/mnt/m2ssd/research project/Lightweight 3D Vision Transformers for Medical Imaging/implemented ones/SegFormer3D/data/brats2017_seg/train.csv\"\n",
    "val_csv = \"/mnt/m2ssd/research project/Lightweight 3D Vision Transformers for Medical Imaging/implemented ones/SegFormer3D/data/brats2017_seg/validation.csv\"\n",
    "\n",
    "modalities = [\"flair\", \"t1\", \"t1ce\", \"t2\"]\n",
    "\n",
    "# === Load case names ===\n",
    "train_cases = pd.read_csv(train_csv)[\"case_name\"].tolist()\n",
    "val_cases = pd.read_csv(val_csv)[\"case_name\"].tolist()\n",
    "\n",
    "def process_case(case_id, dest_root):\n",
    "    case_dir = os.path.join(dest_root, case_id)\n",
    "    os.makedirs(case_dir, exist_ok=True)\n",
    "\n",
    "    # Extract and save 4 modalities\n",
    "    for idx, modality in enumerate(modalities):\n",
    "        file_path = os.path.join(raw_images_dir, f\"{case_id}_000{idx}.nii.gz\")\n",
    "        if not os.path.exists(file_path):\n",
    "            print(f\"❌ Missing modality: {file_path}\")\n",
    "            continue\n",
    "        img = nib.load(file_path)\n",
    "        if img.shape != (240, 240, 155):\n",
    "            print(f\"⚠️ Skipping {case_id} — unexpected shape {img.shape}\")\n",
    "            return\n",
    "        nib.save(img, os.path.join(case_dir, f\"{case_id}_{modality}.nii\"))\n",
    "\n",
    "    # Extract and save label\n",
    "    label_path = os.path.join(labels_dir, f\"{case_id}.nii.gz\")\n",
    "    if os.path.exists(label_path):\n",
    "        label_img = nib.load(label_path)\n",
    "        nib.save(label_img, os.path.join(case_dir, f\"{case_id}_seg.nii\"))\n",
    "    else:\n",
    "        print(f\"❌ Missing label for {case_id}\")\n",
    "\n",
    "# === Process all cases ===\n",
    "print(\"📦 Processing training set...\")\n",
    "for case in tqdm(train_cases):\n",
    "    process_case(case, os.path.join(output_root, \"train\"))\n",
    "\n",
    "print(\"📦 Processing validation set...\")\n",
    "for case in tqdm(val_cases):\n",
    "    process_case(case, os.path.join(output_root, \"val\"))\n",
    "\n",
    "print(\"✅ Dataset prepared at:\", output_root)\n"
   ]
  },
  {
   "cell_type": "code",
   "execution_count": 5,
   "id": "c6f0af14",
   "metadata": {},
   "outputs": [
    {
     "data": {
      "image/png": "[encoded data removed]",
      "text/plain": [
       "<Figure size 640x480 with 2 Axes>"
      ]
     },
     "metadata": {},
     "output_type": "display_data"
    }
   ],
   "source": [
    "import nibabel as nib\n",
    "import matplotlib.pyplot as plt\n",
    "\n",
    "# Load the label\n",
    "label_nii = nib.load(\"/mnt/m2ssd/research project/Lightweight 3D Vision Transformers for Medical Imaging/dataset/BRATS_SPLIT/train/BRATS_001/BRATS_001_seg.nii\")\n",
    "label_data = label_nii.get_fdata()\n",
    "\n",
    "# Visualize a mid slice\n",
    "plt.imshow(label_data[:, :, label_data.shape[2] // 2])\n",
    "plt.title(\"Segmentation Mask\")\n",
    "plt.colorbar()\n",
    "plt.show()\n"
   ]
  }
 ],
 "metadata": {
  "kernelspec": {
   "display_name": ".venv",
   "language": "python",
   "name": "python3"
  },
  "language_info": {
   "codemirror_mode": {
    "name": "ipython",
    "version": 3
   },
   "file_extension": ".py",
   "mimetype": "text/x-python",
   "name": "python",
   "nbconvert_exporter": "python",
   "pygments_lexer": "ipython3",
   "version": "3.8.10"
  }
 },
 "nbformat": 4,
 "nbformat_minor": 5
}
